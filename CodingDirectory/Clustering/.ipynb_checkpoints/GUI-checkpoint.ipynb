{
 "cells": [
  {
   "cell_type": "code",
   "execution_count": 1,
   "id": "2fd2214a",
   "metadata": {},
   "outputs": [],
   "source": [
    "#!voila test_chatbot.ipynb"
   ]
  },
  {
   "cell_type": "code",
   "execution_count": 2,
   "id": "9c0d71ae",
   "metadata": {},
   "outputs": [],
   "source": [
    "#wigets and display widgets\n",
    "import ipywidgets as wg\n",
    "from ipywidgets import interact, interactive, fixed, interact_manual\n",
    "from IPython.display import display\n",
    "\n",
    "#Chatbot\n",
    "from Modules.chatbot import Chatbot\n",
    "from Modules.solrhandler import SolrHandler\n",
    "from Modules.clusterer import Clusterer\n",
    "from Modules.topicdeterminator import TopicDeterminator"
   ]
  },
  {
   "cell_type": "code",
   "execution_count": 3,
   "id": "aefec907",
   "metadata": {},
   "outputs": [],
   "source": [
    "#!pip install azure-ai-textanalytics"
   ]
  },
  {
   "cell_type": "code",
   "execution_count": 4,
   "id": "f92142b9",
   "metadata": {},
   "outputs": [],
   "source": [
    "#!python -m spacy download de_core_news_lg"
   ]
  },
  {
   "cell_type": "code",
   "execution_count": 5,
   "id": "232972fe",
   "metadata": {},
   "outputs": [],
   "source": [
    "#!pip install gensim"
   ]
  },
  {
   "cell_type": "code",
   "execution_count": 6,
   "id": "c2c3a15d",
   "metadata": {},
   "outputs": [],
   "source": [
    "maxResultSetSize = 3\n",
    "chatbots = [Chatbot]\n",
    "activ_chatbot = None"
   ]
  },
  {
   "cell_type": "code",
   "execution_count": 7,
   "id": "83fae832",
   "metadata": {},
   "outputs": [],
   "source": [
    "radio = wg.RadioButtons(\n",
    "    options=[(chatbots[i].__name__, i) for i in range(len(chatbots))],\n",
    "#    value='pineapple', # Defaults to 'pineapple'\n",
    "#    layout={'width': 'max-content'}, # If the items' names are long\n",
    "    description='Chatbot Selection:',\n",
    "    disabled=False\n",
    ")"
   ]
  },
  {
   "cell_type": "code",
   "execution_count": 8,
   "id": "e6e4ea87",
   "metadata": {},
   "outputs": [
    {
     "data": {
      "application/vnd.jupyter.widget-view+json": {
       "model_id": "0e5ad509afdd4a308a91154c18d3e520",
       "version_major": 2,
       "version_minor": 0
      },
      "text/plain": [
       "RadioButtons(description='Chatbot Selection:', options=(('Chatbot', 0),), value=0)"
      ]
     },
     "metadata": {},
     "output_type": "display_data"
    }
   ],
   "source": [
    "display(radio)"
   ]
  },
  {
   "cell_type": "code",
   "execution_count": 9,
   "id": "9c1cae21",
   "metadata": {},
   "outputs": [],
   "source": [
    "def initChatbot(initial_query):\n",
    "    global maxResultSetSize\n",
    "    global activ_chatbot\n",
    "    global next_functioncall\n",
    "    activ_chatbot = chatbots[radio.value](SolrHandler, Clusterer, TopicDeterminator, initial_query, maxResultSetSize)\n",
    "    next_functioncall = answerQuestion\n",
    "    return activ_chatbot.generateQuestion()\n"
   ]
  },
  {
   "cell_type": "code",
   "execution_count": 10,
   "id": "7f71c613",
   "metadata": {},
   "outputs": [],
   "source": [
    "next_functioncall = initChatbot"
   ]
  },
  {
   "cell_type": "code",
   "execution_count": 11,
   "id": "88b51998",
   "metadata": {},
   "outputs": [],
   "source": [
    "def answerQuestion(msg):\n",
    "    global activ_chatbot\n",
    "    global maxResultSize\n",
    "    if msg in [\"ja\", \"nein\"]:\n",
    "        activ_chatbot.refineResultset(msg==\"ja\")\n",
    "        if activ_chatbot.isFinished():\n",
    "            global next_functioncall\n",
    "            next_functioncall = initChatbot\n",
    "            return activ_chatbot.get_result_string()\n",
    "        return activ_chatbot.generateQuestion()\n",
    "    else:\n",
    "        activ_chatbot.add_query(msg)\n",
    "        return activ_chatbot.generateQuestion()"
   ]
  },
  {
   "cell_type": "code",
   "execution_count": 12,
   "id": "4fcf755d",
   "metadata": {},
   "outputs": [
    {
     "data": {
      "application/vnd.jupyter.widget-view+json": {
       "model_id": "9584a066b8404a9ba7de0f986812a5de",
       "version_major": 2,
       "version_minor": 0
      },
      "text/plain": [
       "HTML(value='Hallo mein Name ist <b>Nobbi</b> (noch besserer Bobbi), wie kann ich Ihnen behilflich sein? ', pla…"
      ]
     },
     "metadata": {},
     "output_type": "display_data"
    }
   ],
   "source": [
    "wg.HTML(\n",
    "    value=\"Hallo mein Name ist <b>Nobbi</b> (noch besserer Bobbi), wie kann ich Ihnen behilflich sein? \",\n",
    "    placeholder='',\n",
    "    description='',\n",
    ")"
   ]
  },
  {
   "cell_type": "code",
   "execution_count": 13,
   "id": "27ad2f43",
   "metadata": {
    "scrolled": true
   },
   "outputs": [
    {
     "data": {
      "application/vnd.jupyter.widget-view+json": {
       "model_id": "f6a7e17119834cb58e66980fc9379489",
       "version_major": 2,
       "version_minor": 0
      },
      "text/plain": [
       "interactive(children=(Text(value='Wohnung', description='Frage'), Output()), _dom_classes=('widget-interact',)…"
      ]
     },
     "metadata": {},
     "output_type": "display_data"
    }
   ],
   "source": [
    "interact(lambda Frage: next_functioncall(Frage), Frage=\"Wohnung\");"
   ]
  },
  {
   "cell_type": "code",
   "execution_count": 14,
   "id": "3f5ef6e7",
   "metadata": {},
   "outputs": [
    {
     "data": {
      "application/vnd.jupyter.widget-view+json": {
       "model_id": "c8765006739d47c48faa993c021d8ba1",
       "version_major": 2,
       "version_minor": 0
      },
      "text/plain": [
       "HTML(value='<ul> <li>Wenn Sie in Berlin eine Zweitwohnung haben, müssen Sie dafür eine besondere Steuer bezahl…"
      ]
     },
     "metadata": {},
     "output_type": "display_data"
    }
   ],
   "source": [
    "wg.HTML(\n",
    "    value=activ_chatbot.get_result_html(),\n",
    "    placeholder='',\n",
    "    description='',\n",
    ")"
   ]
  },
  {
   "cell_type": "code",
   "execution_count": 15,
   "id": "363fc27b",
   "metadata": {},
   "outputs": [
    {
     "name": "stdout",
     "output_type": "stream",
     "text": [
      "0    Wenn Sie in Berlin eine Zweitwohnung haben, mü...\n",
      "1    Wohnraum darf  im Land Berlin nur mit Genehmig...\n",
      "2    Melden Sie sich innerhalb von <strong>14 Tagen...\n",
      "3    <ul class=\"list\"><li>Sie wollen Ihre bisherige...\n",
      "4    Ergeben sich aus den Rechten und Pflichten sow...\n",
      "5    Sie können Hilfe bekommen,<br />\\n<br />\\n<ul ...\n",
      "6    <ul class=\"list\"><li>Sie geben eine Berliner W...\n",
      "7    Wenn Sie<br />\\n<ul class=\"list\"><li>sich in B...\n"
     ]
    }
   ],
   "source": [
    "print(activ_chatbot.df[\"d115Description\"].to_string())"
   ]
  },
  {
   "cell_type": "code",
   "execution_count": 16,
   "id": "43f5b31c",
   "metadata": {},
   "outputs": [],
   "source": [
    "#name = wg.Text(\"Hello\")\n",
    "#question = wg.Text(\"antrag\")\n",
    "# widgets.HTML(\n",
    "#     value=\"Hello <b>User</b> please enter your questions here!\",\n",
    "#     placeholder='',\n",
    "#     description='',\n",
    "# )\n",
    "#display(question)"
   ]
  },
  {
   "cell_type": "code",
   "execution_count": 17,
   "id": "0af582aa",
   "metadata": {},
   "outputs": [],
   "source": [
    "#widgetLink = widgets.jslink((floatTextBox, 'value'), (floatSlider, 'value'))"
   ]
  },
  {
   "cell_type": "code",
   "execution_count": 18,
   "id": "d8be2250",
   "metadata": {},
   "outputs": [],
   "source": [
    "# widgets.Textarea(\n",
    "#     value='Hello World',\n",
    "#     placeholder='Type something',\n",
    "#     description='String:',\n",
    "#     disabled=False\n",
    "# )"
   ]
  },
  {
   "cell_type": "code",
   "execution_count": 19,
   "id": "5cf7943d",
   "metadata": {},
   "outputs": [],
   "source": [
    "# \"Hat Ihr Anliegen etwas mit \" +words[index]+\" zu tun? \"\n",
    "# \"Geht es bei ihrem Anliegen um \" + topics + \"?\""
   ]
  }
 ],
 "metadata": {
  "kernelspec": {
   "display_name": "Python 3 (ipykernel)",
   "language": "python",
   "name": "python3"
  },
  "language_info": {
   "codemirror_mode": {
    "name": "ipython",
    "version": 3
   },
   "file_extension": ".py",
   "mimetype": "text/x-python",
   "name": "python",
   "nbconvert_exporter": "python",
   "pygments_lexer": "ipython3",
   "version": "3.7.10"
  }
 },
 "nbformat": 4,
 "nbformat_minor": 5
}
