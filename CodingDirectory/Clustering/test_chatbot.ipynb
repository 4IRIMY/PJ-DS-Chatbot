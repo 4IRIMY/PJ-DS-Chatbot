{
 "cells": [
  {
   "cell_type": "code",
   "execution_count": 1,
   "id": "9c0d71ae",
   "metadata": {},
   "outputs": [],
   "source": [
    "#wigets and display widgets\n",
    "import ipywidgets as wg\n",
    "from ipywidgets import interact, interactive, fixed, interact_manual\n",
    "from IPython.display import display\n",
    "\n",
    "#NLP and clustering\n",
    "import spacy\n",
    "from clustering import Clustering\n",
    "from topic_determination import Topic_determination"
   ]
  },
  {
   "cell_type": "code",
   "execution_count": 2,
   "id": "aefec907",
   "metadata": {},
   "outputs": [],
   "source": [
    "#!pip install azure-ai-textanalytics"
   ]
  },
  {
   "cell_type": "code",
   "execution_count": 3,
   "id": "f92142b9",
   "metadata": {},
   "outputs": [],
   "source": [
    "#!python -m spacy download de_core_news_lg"
   ]
  },
  {
   "cell_type": "code",
   "execution_count": 4,
   "id": "0facc234",
   "metadata": {},
   "outputs": [],
   "source": [
    "nlp = spacy.load('de_core_news_lg')\n",
    "clustering = Clustering(nlp)\n",
    "topic_determination = Topic_determination()\n",
    "metadata = []\n",
    "topics = []\n",
    "blacklist = []\n",
    "df = None"
   ]
  },
  {
   "cell_type": "code",
   "execution_count": 22,
   "id": "88b51998",
   "metadata": {},
   "outputs": [],
   "source": [
    "def best_topic_to_question(x):\n",
    "    global topics\n",
    "    global blacklist\n",
    "    global df\n",
    "    if x == \"ja\":\n",
    "        print(topics[0] in df.loc[df['Topics']])\n",
    "        return \"\\n\".join(df.loc[df['Topics'] == topics[0]][\"d115Name\"].tolist())\n",
    "    elif x == \"nein\":\n",
    "        blacklist.append(topics[0])\n",
    "        topics.pop(0)\n",
    "        if topics:\n",
    "            return \"Geht es bei ihrem Anliegen um \" + topics[0] + \"?\"\n",
    "        return \"Sorry nothing there.\"\n",
    "    else:\n",
    "        global metadata\n",
    "        metadata.append(x)\n",
    "        df = clustering.run(\"antrag\", cluster_by=\"ssdsLemma\", do_preprocessing=True, query_max_elems=2000, cluster_eps=1.3, cluster_min_samples=1)\n",
    "        #df = clustering.run(\" \".join(metadata), cluster_by=\"ssdsLemma\", do_preprocessing=True, query_max_elems=2000, cluster_eps=1.3, cluster_min_samples=1)\n",
    "    \n",
    "        df_res=topic_determination.run(df,1,\"ssdsLemma\",\"c09dde90c9f34da3b69065aabdb735c8\")\n",
    "        for topic in df['Topics']:\n",
    "            topics.append(topic[0])\n",
    "        return \"Geht es bei ihrem Anliegen um \" + topics[0] + \"?\""
   ]
  },
  {
   "cell_type": "code",
   "execution_count": 23,
   "id": "27ad2f43",
   "metadata": {
    "scrolled": true
   },
   "outputs": [
    {
     "data": {
      "application/vnd.jupyter.widget-view+json": {
       "model_id": "b7b389ddd292477d9fde5f69e060e61e",
       "version_major": 2,
       "version_minor": 0
      },
      "text/plain": [
       "interactive(children=(Text(value='Antrag', description='x'), Output()), _dom_classes=('widget-interact',))"
      ]
     },
     "metadata": {},
     "output_type": "display_data"
    }
   ],
   "source": [
    "interact(lambda x: best_topic_to_question(x), x=\"Antrag\");"
   ]
  },
  {
   "cell_type": "code",
   "execution_count": 87,
   "id": "43f5b31c",
   "metadata": {},
   "outputs": [],
   "source": [
    "#name = wg.Text(\"Hello\")\n",
    "#question = wg.Text(\"antrag\")\n",
    "# widgets.HTML(\n",
    "#     value=\"Hello <b>User</b> please enter your questions here!\",\n",
    "#     placeholder='',\n",
    "#     description='',\n",
    "# )\n",
    "#display(question)"
   ]
  },
  {
   "cell_type": "code",
   "execution_count": 88,
   "id": "0af582aa",
   "metadata": {},
   "outputs": [],
   "source": [
    "#widgetLink = widgets.jslink((floatTextBox, 'value'), (floatSlider, 'value'))"
   ]
  },
  {
   "cell_type": "code",
   "execution_count": 89,
   "id": "d8be2250",
   "metadata": {},
   "outputs": [],
   "source": [
    "# widgets.Textarea(\n",
    "#     value='Hello World',\n",
    "#     placeholder='Type something',\n",
    "#     description='String:',\n",
    "#     disabled=False\n",
    "# )"
   ]
  }
 ],
 "metadata": {
  "kernelspec": {
   "display_name": "Python 3 (ipykernel)",
   "language": "python",
   "name": "python3"
  },
  "language_info": {
   "codemirror_mode": {
    "name": "ipython",
    "version": 3
   },
   "file_extension": ".py",
   "mimetype": "text/x-python",
   "name": "python",
   "nbconvert_exporter": "python",
   "pygments_lexer": "ipython3",
   "version": "3.7.10"
  }
 },
 "nbformat": 4,
 "nbformat_minor": 5
}
