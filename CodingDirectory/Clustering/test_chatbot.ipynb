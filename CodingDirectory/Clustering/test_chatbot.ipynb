{
 "cells": [
  {
   "cell_type": "code",
   "execution_count": null,
   "metadata": {},
   "outputs": [],
   "source": [
    "!voila test_chatbot.ipynb"
   ]
  },
  {
   "cell_type": "code",
   "execution_count": null,
   "metadata": {},
   "outputs": [],
   "source": [
    "#wigets and display widgets\n",
    "import ipywidgets as wg\n",
    "from ipywidgets import interact, interactive, fixed, interact_manual\n",
    "from IPython.display import display\n",
    "\n",
    "#NLP and clustering\n",
    "import spacy\n",
    "from clustering import Clustering\n",
    "from topic_determination import Topic_determination"
   ]
  },
  {
   "cell_type": "code",
   "execution_count": null,
   "metadata": {},
   "outputs": [],
   "source": [
    "#!pip install azure-ai-textanalytics"
   ]
  },
  {
   "cell_type": "code",
   "execution_count": null,
   "metadata": {},
   "outputs": [],
   "source": [
    "#!python -m spacy download de_core_news_lg"
   ]
  },
  {
   "cell_type": "code",
   "execution_count": null,
   "metadata": {},
   "outputs": [],
   "source": [
    "nlp = spacy.load('de_core_news_lg')\n",
    "clustering = Clustering(nlp)\n",
    "topic_determination = Topic_determination()\n",
    "metadata = []\n",
    "topics = []\n",
    "blacklist = {}\n",
    "df = None"
   ]
  },
  {
   "cell_type": "code",
   "execution_count": null,
   "metadata": {},
   "outputs": [],
   "source": [
    "wg.HTML(\n",
    "    value=\"Lieber <b>Nutzer</b> bitte stelle deine Frage:\",\n",
    "    placeholder='',\n",
    "    description='',\n",
    ")"
   ]
  },
  {
   "cell_type": "code",
   "execution_count": null,
   "metadata": {},
   "outputs": [],
   "source": [
    "def best_topic_to_question(x):\n",
    "    global topics\n",
    "    global blacklist\n",
    "    global df\n",
    "    global metadata\n",
    "    if x == \"ja\":\n",
    "        print(\"\\n\".join(df.loc[[topics[0] in topic for topic in df['Topics']]][\"d115Name\"].tolist()))\n",
    "        metadata = []\n",
    "        topics = []\n",
    "        blacklist = {}\n",
    "        return \n",
    "    elif x == \"nein\":\n",
    "        blacklist.update({topics[0]:True})\n",
    "        topics.pop(0)\n",
    "        if topics:\n",
    "            return \"Geht es bei ihrem Anliegen um \" + topics[0] + \"?\"\n",
    "        metadata = []\n",
    "        topics = []\n",
    "        blacklist = {}\n",
    "        return \"Sorry nothing there.\"\n",
    "    else:\n",
    "        topic_count ={}\n",
    "        metadata.append(x)\n",
    "        df = clustering.run(\"antrag\", cluster_by=\"ssdsLemma\", do_preprocessing=True, query_max_elems=2000, cluster_eps=1.3, cluster_min_samples=1)\n",
    "        #df = clustering.run(\" \".join(metadata), cluster_by=\"ssdsLemma\", do_preprocessing=True, query_max_elems=2000, cluster_eps=1.3, cluster_min_samples=1)\n",
    "    \n",
    "        df_res=topic_determination.run(df,1,\"ssdsLemma\",\"c09dde90c9f34da3b69065aabdb735c8\")\n",
    "        for topiclist in df['Topics']:\n",
    "            for topic in topiclist:\n",
    "                if topic not in blacklist:\n",
    "                    topic_count.update({topic:topic_count.get(topic, 0)+1})\n",
    "                    topics.append(topic)\n",
    "        topics = list(set(topics))\n",
    "        topics.sort(key=lambda x: topic_count[x], reverse=True)\n",
    "        return \"Geht es bei ihrem Anliegen um \" + topics[0] + \"?\""
   ]
  },
  {
   "cell_type": "code",
   "execution_count": null,
   "metadata": {
    "scrolled": true
   },
   "outputs": [],
   "source": [
    "interact(lambda Frage: best_topic_to_question(Frage), Frage=\"Antrag\");"
   ]
  },
  {
   "cell_type": "code",
   "execution_count": null,
   "metadata": {},
   "outputs": [],
   "source": [
    "#name = wg.Text(\"Hello\")\n",
    "#question = wg.Text(\"antrag\")\n",
    "# widgets.HTML(\n",
    "#     value=\"Hello <b>User</b> please enter your questions here!\",\n",
    "#     placeholder='',\n",
    "#     description='',\n",
    "# )\n",
    "#display(question)"
   ]
  },
  {
   "cell_type": "code",
   "execution_count": null,
   "metadata": {},
   "outputs": [],
   "source": [
    "#widgetLink = widgets.jslink((floatTextBox, 'value'), (floatSlider, 'value'))"
   ]
  },
  {
   "cell_type": "code",
   "execution_count": null,
   "metadata": {},
   "outputs": [],
   "source": [
    "# widgets.Textarea(\n",
    "#     value='Hello World',\n",
    "#     placeholder='Type something',\n",
    "#     description='String:',\n",
    "#     disabled=False\n",
    "# )"
   ]
  }
 ],
 "metadata": {
  "kernelspec": {
   "display_name": "Python 3",
   "language": "python",
   "name": "python3"
  },
  "language_info": {
   "codemirror_mode": {
    "name": "ipython",
    "version": 3
   },
   "file_extension": ".py",
   "mimetype": "text/x-python",
   "name": "python",
   "nbconvert_exporter": "python",
   "pygments_lexer": "ipython3",
   "version": "3.8.5"
  }
 },
 "nbformat": 4,
 "nbformat_minor": 5
}
