{
 "cells": [
  {
   "cell_type": "code",
   "execution_count": 1,
   "metadata": {},
   "outputs": [],
   "source": [
    "import spacy\n",
    "import pandas as pd\n",
    "import numpy as np\n",
    "\n",
    "import solrhandler as sh\n",
    "import clusterer as cls\n",
    "import topicdeterminator as td\n",
    "import chatbot as cb"
   ]
  },
  {
   "cell_type": "code",
   "execution_count": 2,
   "metadata": {},
   "outputs": [],
   "source": [
    "#query = \"anmeldung\"\n",
    "#target_service = 120686"
   ]
  },
  {
   "cell_type": "markdown",
   "metadata": {},
   "source": [
    "Evaluierungspipeline"
   ]
  },
  {
   "cell_type": "code",
   "execution_count": 3,
   "metadata": {
    "scrolled": false
   },
   "outputs": [
    {
     "data": {
      "text/html": [
       "<div>\n",
       "<style scoped>\n",
       "    .dataframe tbody tr th:only-of-type {\n",
       "        vertical-align: middle;\n",
       "    }\n",
       "\n",
       "    .dataframe tbody tr th {\n",
       "        vertical-align: top;\n",
       "    }\n",
       "\n",
       "    .dataframe thead th {\n",
       "        text-align: right;\n",
       "    }\n",
       "</style>\n",
       "<table border=\"1\" class=\"dataframe\">\n",
       "  <thead>\n",
       "    <tr style=\"text-align: right;\">\n",
       "      <th></th>\n",
       "      <th>documentId</th>\n",
       "      <th>file</th>\n",
       "      <th>dialogId</th>\n",
       "      <th>initialQuestion</th>\n",
       "      <th>suggestionCount</th>\n",
       "      <th>directlyFound</th>\n",
       "      <th>name</th>\n",
       "    </tr>\n",
       "  </thead>\n",
       "  <tbody>\n",
       "    <tr>\n",
       "      <th>0</th>\n",
       "      <td>120697</td>\n",
       "      <td>20220131--quantEvalAllExcel.xlsx</td>\n",
       "      <td>4</td>\n",
       "      <td>Ummeldung</td>\n",
       "      <td>6</td>\n",
       "      <td>True</td>\n",
       "      <td>Änderung/Wechsel der Hauptwohnung</td>\n",
       "    </tr>\n",
       "    <tr>\n",
       "      <th>1</th>\n",
       "      <td>120686</td>\n",
       "      <td>20220131--quantEvalAllExcel.xlsx</td>\n",
       "      <td>4</td>\n",
       "      <td>Ummelden</td>\n",
       "      <td>6</td>\n",
       "      <td>True</td>\n",
       "      <td>Anmeldung einer Wohnung</td>\n",
       "    </tr>\n",
       "    <tr>\n",
       "      <th>2</th>\n",
       "      <td>329421</td>\n",
       "      <td>20220131--quantEvalAllExcel.xlsx</td>\n",
       "      <td>19</td>\n",
       "      <td>Pcr test positiv brauche ich eine Krankschreib...</td>\n",
       "      <td>6</td>\n",
       "      <td>False</td>\n",
       "      <td>Erstattung nach Infektionsschutzgesetz bei Tät...</td>\n",
       "    </tr>\n",
       "    <tr>\n",
       "      <th>3</th>\n",
       "      <td>329421</td>\n",
       "      <td>20220131--quantEvalAllExcel.xlsx</td>\n",
       "      <td>19</td>\n",
       "      <td>Quarantäne Krankschreibung vom Arzt</td>\n",
       "      <td>6</td>\n",
       "      <td>True</td>\n",
       "      <td>Erstattung nach Infektionsschutzgesetz bei Tät...</td>\n",
       "    </tr>\n",
       "    <tr>\n",
       "      <th>4</th>\n",
       "      <td>120914</td>\n",
       "      <td>20220131--quantEvalAllExcel.xlsx</td>\n",
       "      <td>23</td>\n",
       "      <td>Termin für Zulassung Gebrauchtwagen</td>\n",
       "      <td>6</td>\n",
       "      <td>True</td>\n",
       "      <td>Zulassung eines Fahrzeuges mit auswärtigem Ken...</td>\n",
       "    </tr>\n",
       "  </tbody>\n",
       "</table>\n",
       "</div>"
      ],
      "text/plain": [
       "   documentId                              file  dialogId  \\\n",
       "0      120697  20220131--quantEvalAllExcel.xlsx         4   \n",
       "1      120686  20220131--quantEvalAllExcel.xlsx         4   \n",
       "2      329421  20220131--quantEvalAllExcel.xlsx        19   \n",
       "3      329421  20220131--quantEvalAllExcel.xlsx        19   \n",
       "4      120914  20220131--quantEvalAllExcel.xlsx        23   \n",
       "\n",
       "                                     initialQuestion  suggestionCount  \\\n",
       "0                                          Ummeldung                6   \n",
       "1                                           Ummelden                6   \n",
       "2  Pcr test positiv brauche ich eine Krankschreib...                6   \n",
       "3                Quarantäne Krankschreibung vom Arzt                6   \n",
       "4                Termin für Zulassung Gebrauchtwagen                6   \n",
       "\n",
       "   directlyFound                                               name  \n",
       "0           True                  Änderung/Wechsel der Hauptwohnung  \n",
       "1           True                            Anmeldung einer Wohnung  \n",
       "2          False  Erstattung nach Infektionsschutzgesetz bei Tät...  \n",
       "3           True  Erstattung nach Infektionsschutzgesetz bei Tät...  \n",
       "4           True  Zulassung eines Fahrzeuges mit auswärtigem Ken...  "
      ]
     },
     "execution_count": 3,
     "metadata": {},
     "output_type": "execute_result"
    }
   ],
   "source": [
    "# Import eval.csv\n",
    "import os\n",
    "file = os.path.realpath(\"../../Evaluierung/eval.csv\")\n",
    "eval = pd.read_csv(file, sep = \";\")\n",
    "eval = eval.head(5)\n",
    "eval"
   ]
  },
  {
   "cell_type": "markdown",
   "metadata": {},
   "source": [
    "Funktionen"
   ]
  },
  {
   "cell_type": "code",
   "execution_count": 10,
   "metadata": {},
   "outputs": [],
   "source": [
    "def findCorrectAnswer(chatbot,targetService):\n",
    "\n",
    "    # Find Target Cluster\n",
    "    clusteredColumn = chatbot.clusterer.getClusteredColumn()\n",
    "    service = chatbot.df.loc[chatbot.df[\"id\"]==str(targetService)]\n",
    "    if len(service[clusteredColumn].values) == 0:\n",
    "        return None\n",
    "\n",
    "    targetCluster = service[clusteredColumn].values[0]\n",
    "\n",
    "    if targetCluster == chatbot.getSelectedClusterForQuestion():\n",
    "        return True\n",
    "\n",
    "    else:\n",
    "        return False\n",
    "\n",
    "def getRank(chatbot, targetService):\n",
    "    temp = chatbot.df#.reset_index()\n",
    "    rank = temp.index[temp[\"id\"]==str(targetService)].values[0]\n",
    "    return rank"
   ]
  },
  {
   "cell_type": "markdown",
   "metadata": {},
   "source": [
    "Logging"
   ]
  },
  {
   "cell_type": "code",
   "execution_count": 15,
   "metadata": {},
   "outputs": [],
   "source": [
    "class Logger:\n",
    "    \n",
    "    def __init__(self, chatbot, eval_df):\n",
    "        self.liste = []\n",
    "        self.chatbot = chatbot\n",
    "        self.eval_df = eval_df\n",
    "    \n",
    "    def getDataFrame(self):\n",
    "        pass\n",
    "    \n",
    "    def log(self, i, t, answer = None, target_service = None): \n",
    "        row = ()\n",
    "        if answer is not None:\n",
    "            nResults = len(self.chatbot.df.index)\n",
    "            question = self.chatbot.generateQuestion()\n",
    "            answer = answer\n",
    "\n",
    "            rank = getRank(self.chatbot,target_service)# getRank(target_service)\n",
    "            \n",
    "            row = (i,t,nResults, question, answer, rank)\n",
    "        else:\n",
    "            #nInitialResults = len(chatbot.df.index)\n",
    "            #initialRank = np.nan\n",
    "            row = (i,t,None, None, None, None)\n",
    "        self.liste.append(row)\n",
    "        #print(self.liste)"
   ]
  },
  {
   "cell_type": "markdown",
   "metadata": {},
   "source": [
    "Execution"
   ]
  },
  {
   "cell_type": "code",
   "execution_count": 20,
   "metadata": {},
   "outputs": [
    {
     "name": "stderr",
     "output_type": "stream",
     "text": [
      "C:\\Users\\morit\\anaconda3\\envs\\chatbot\\lib\\site-packages\\sklearn\\utils\\deprecation.py:87: FutureWarning: Function get_feature_names is deprecated; get_feature_names is deprecated in 1.0 and will be removed in 1.2. Please use get_feature_names_out instead.\n",
      "  warnings.warn(msg, category=FutureWarning)\n",
      "C:\\Users\\morit\\anaconda3\\envs\\chatbot\\lib\\site-packages\\sklearn\\utils\\deprecation.py:87: FutureWarning: Function get_feature_names is deprecated; get_feature_names is deprecated in 1.0 and will be removed in 1.2. Please use get_feature_names_out instead.\n",
      "  warnings.warn(msg, category=FutureWarning)\n",
      "C:\\Users\\morit\\anaconda3\\envs\\chatbot\\lib\\site-packages\\sklearn\\utils\\deprecation.py:87: FutureWarning: Function get_feature_names is deprecated; get_feature_names is deprecated in 1.0 and will be removed in 1.2. Please use get_feature_names_out instead.\n",
      "  warnings.warn(msg, category=FutureWarning)\n",
      "C:\\Users\\morit\\anaconda3\\envs\\chatbot\\lib\\site-packages\\sklearn\\utils\\deprecation.py:87: FutureWarning: Function get_feature_names is deprecated; get_feature_names is deprecated in 1.0 and will be removed in 1.2. Please use get_feature_names_out instead.\n",
      "  warnings.warn(msg, category=FutureWarning)\n",
      "C:\\Users\\morit\\anaconda3\\envs\\chatbot\\lib\\site-packages\\sklearn\\utils\\deprecation.py:87: FutureWarning: Function get_feature_names is deprecated; get_feature_names is deprecated in 1.0 and will be removed in 1.2. Please use get_feature_names_out instead.\n",
      "  warnings.warn(msg, category=FutureWarning)\n"
     ]
    }
   ],
   "source": [
    "# Initialisierung Komponenten Chatbot\n",
    "solrhandler = sh.SolrHandler(20)\n",
    "clusterer = cls.Clusterer()\n",
    "tpc_dterminator = td.TopicDeterminator()\n",
    "chatbot = cb.Chatbot(solrhandler,clusterer,tpc_dterminator)\n",
    "\n",
    "lg = Logger(chatbot,eval)   \n",
    "\n",
    "for i in [0,1,2,3,4]:#np.arange(0,len(eval.index)-1):\n",
    "    \n",
    "    # fun\n",
    "    query = eval[\"initialQuestion\"].values[i]#\"Ummeldung\"\n",
    "    target_service = eval[\"documentId\"].values[i]\n",
    "    chatbot.initialQuery(query)\n",
    "    \n",
    "    # TODO\n",
    "    t = 0\n",
    "    answer = findCorrectAnswer(chatbot, target_service)\n",
    "    lg.log(i,t, answer, target_service)\n",
    "    if answer is None:\n",
    "        continue\n",
    "    \n",
    "    \n",
    "    while not chatbot.refineResultset(answer):\n",
    "        # log\n",
    "        t += 1\n",
    "        \n",
    "        answer = findCorrectAnswer(chatbot, target_service)\n",
    "        if answer is None: \n",
    "            break\n",
    "        lg.log(i, t, answer, target_service)\n",
    "    t+=1\n",
    "    #lg.log(i,t,answer)\n",
    "    \n",
    "        \n",
    "log_df = pd.DataFrame(lg.liste, columns=[\"i\",\"t\",\"nResults\", \"question\", \"answer\", \"rank\"])"
   ]
  },
  {
   "cell_type": "code",
   "execution_count": 21,
   "metadata": {
    "scrolled": true
   },
   "outputs": [
    {
     "data": {
      "text/html": [
       "<div>\n",
       "<style scoped>\n",
       "    .dataframe tbody tr th:only-of-type {\n",
       "        vertical-align: middle;\n",
       "    }\n",
       "\n",
       "    .dataframe tbody tr th {\n",
       "        vertical-align: top;\n",
       "    }\n",
       "\n",
       "    .dataframe thead th {\n",
       "        text-align: right;\n",
       "    }\n",
       "</style>\n",
       "<table border=\"1\" class=\"dataframe\">\n",
       "  <thead>\n",
       "    <tr style=\"text-align: right;\">\n",
       "      <th></th>\n",
       "      <th>i</th>\n",
       "      <th>t</th>\n",
       "      <th>nResults</th>\n",
       "      <th>question</th>\n",
       "      <th>answer</th>\n",
       "      <th>rank</th>\n",
       "    </tr>\n",
       "  </thead>\n",
       "  <tbody>\n",
       "    <tr>\n",
       "      <th>0</th>\n",
       "      <td>0</td>\n",
       "      <td>0</td>\n",
       "      <td>7.0</td>\n",
       "      <td>Geht es bei ihrem Anliegen um zulassung?</td>\n",
       "      <td>True</td>\n",
       "      <td>2.0</td>\n",
       "    </tr>\n",
       "    <tr>\n",
       "      <th>1</th>\n",
       "      <td>1</td>\n",
       "      <td>0</td>\n",
       "      <td>NaN</td>\n",
       "      <td>None</td>\n",
       "      <td>None</td>\n",
       "      <td>NaN</td>\n",
       "    </tr>\n",
       "    <tr>\n",
       "      <th>2</th>\n",
       "      <td>2</td>\n",
       "      <td>0</td>\n",
       "      <td>13.0</td>\n",
       "      <td>Geht es bei ihrem Anliegen um approbation?</td>\n",
       "      <td>False</td>\n",
       "      <td>3.0</td>\n",
       "    </tr>\n",
       "    <tr>\n",
       "      <th>3</th>\n",
       "      <td>2</td>\n",
       "      <td>1</td>\n",
       "      <td>6.0</td>\n",
       "      <td>Geht es bei ihrem Anliegen um sars?</td>\n",
       "      <td>True</td>\n",
       "      <td>3.0</td>\n",
       "    </tr>\n",
       "    <tr>\n",
       "      <th>4</th>\n",
       "      <td>3</td>\n",
       "      <td>0</td>\n",
       "      <td>10.0</td>\n",
       "      <td>Geht es bei ihrem Anliegen um approbation?</td>\n",
       "      <td>False</td>\n",
       "      <td>0.0</td>\n",
       "    </tr>\n",
       "    <tr>\n",
       "      <th>5</th>\n",
       "      <td>3</td>\n",
       "      <td>1</td>\n",
       "      <td>3.0</td>\n",
       "      <td>Geht es bei ihrem Anliegen um quarantäne?</td>\n",
       "      <td>True</td>\n",
       "      <td>0.0</td>\n",
       "    </tr>\n",
       "    <tr>\n",
       "      <th>6</th>\n",
       "      <td>4</td>\n",
       "      <td>0</td>\n",
       "      <td>20.0</td>\n",
       "      <td>Geht es bei ihrem Anliegen um kfz?</td>\n",
       "      <td>True</td>\n",
       "      <td>6.0</td>\n",
       "    </tr>\n",
       "  </tbody>\n",
       "</table>\n",
       "</div>"
      ],
      "text/plain": [
       "   i  t  nResults                                    question answer  rank\n",
       "0  0  0       7.0    Geht es bei ihrem Anliegen um zulassung?   True   2.0\n",
       "1  1  0       NaN                                        None   None   NaN\n",
       "2  2  0      13.0  Geht es bei ihrem Anliegen um approbation?  False   3.0\n",
       "3  2  1       6.0         Geht es bei ihrem Anliegen um sars?   True   3.0\n",
       "4  3  0      10.0  Geht es bei ihrem Anliegen um approbation?  False   0.0\n",
       "5  3  1       3.0   Geht es bei ihrem Anliegen um quarantäne?   True   0.0\n",
       "6  4  0      20.0          Geht es bei ihrem Anliegen um kfz?   True   6.0"
      ]
     },
     "execution_count": 21,
     "metadata": {},
     "output_type": "execute_result"
    }
   ],
   "source": [
    "log_df"
   ]
  },
  {
   "cell_type": "markdown",
   "metadata": {},
   "source": [
    "TEST"
   ]
  },
  {
   "cell_type": "code",
   "execution_count": null,
   "metadata": {
    "scrolled": true
   },
   "outputs": [],
   "source": [
    "chatbot.df"
   ]
  }
 ],
 "metadata": {
  "kernelspec": {
   "display_name": "Python [conda env:chatbot]",
   "language": "python",
   "name": "conda-env-chatbot-py"
  },
  "language_info": {
   "codemirror_mode": {
    "name": "ipython",
    "version": 3
   },
   "file_extension": ".py",
   "mimetype": "text/x-python",
   "name": "python",
   "nbconvert_exporter": "python",
   "pygments_lexer": "ipython3",
   "version": "3.8.13"
  }
 },
 "nbformat": 4,
 "nbformat_minor": 5
}
