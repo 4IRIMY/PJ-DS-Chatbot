{
 "cells": [
  {
   "cell_type": "code",
   "execution_count": 1,
   "id": "8eea13db-7037-4773-9e9e-92f3ab137815",
   "metadata": {},
   "outputs": [],
   "source": [
    "import spacy\n",
    "from itertools import chain, groupby\n",
    "from operator import itemgetter\n",
    "from sklearn.cluster import DBSCAN\n",
    "import gensim\n",
    "import numpy as np\n",
    "\n",
    "from solrhandler import SolrHandler"
   ]
  },
  {
   "cell_type": "code",
   "execution_count": 2,
   "id": "76469bdf-9875-453d-aa43-d223c1b2dc08",
   "metadata": {},
   "outputs": [],
   "source": [
    "def preprocess_text(text, nlp_model):\n",
    "    doc = nlp_model(text)\n",
    "    text = \" \".join([tok.lemma_ for tok in doc if not tok.is_stop and tok.is_alpha])\n",
    "    return text.lower()"
   ]
  },
  {
   "cell_type": "code",
   "execution_count": 3,
   "id": "f3d924a6-e98e-47f2-a4eb-680c95222e4c",
   "metadata": {},
   "outputs": [],
   "source": [
    "nlp = spacy.load(\"de_core_news_lg\")"
   ]
  },
  {
   "cell_type": "code",
   "execution_count": 4,
   "id": "ee99e8f7-670d-4065-b3bd-bdd5a1d1c225",
   "metadata": {},
   "outputs": [],
   "source": [
    "#path2model = \"/Users/jakob/Downloads/german.model\"\n",
    "#model = gensim.models.KeyedVectors.load_word2vec_format(path2model, binary=True)"
   ]
  },
  {
   "cell_type": "code",
   "execution_count": 5,
   "id": "99710e9f-9570-4ea5-9a66-c98771d1879a",
   "metadata": {},
   "outputs": [],
   "source": [
    "handler = SolrHandler(max_elems=20000)"
   ]
  },
  {
   "cell_type": "code",
   "execution_count": 6,
   "id": "325417ff-bb42-46b5-b31d-26a86140da71",
   "metadata": {},
   "outputs": [],
   "source": [
    "df = handler.get_df_from_query(\"*%3A*\")"
   ]
  },
  {
   "cell_type": "code",
   "execution_count": 7,
   "id": "8ed5d6d7-4d58-42c3-9d84-31e7a1875419",
   "metadata": {},
   "outputs": [],
   "source": [
    "lemma_lst = [\" \".join(lst) for lst in df.ssdsLemma.tolist()]"
   ]
  },
  {
   "cell_type": "code",
   "execution_count": 8,
   "id": "a1455549-25f5-4e38-9008-f92caec00cd6",
   "metadata": {},
   "outputs": [],
   "source": [
    "lemma_lst = [preprocess_text(lemma_str, nlp) for lemma_str in lemma_lst]"
   ]
  },
  {
   "cell_type": "markdown",
   "id": "e55c269c-a153-4a50-94ca-209ceaf7abb3",
   "metadata": {},
   "source": [
    "---"
   ]
  },
  {
   "cell_type": "code",
   "execution_count": 9,
   "id": "03e782cd-5639-43b7-acea-799baefaff5f",
   "metadata": {},
   "outputs": [],
   "source": [
    "def has_vec(word, model):\n",
    "    try:\n",
    "        model.get_vector(word)\n",
    "    except:\n",
    "        return False\n",
    "    return True"
   ]
  },
  {
   "cell_type": "code",
   "execution_count": 10,
   "id": "4c7133b5-de60-4531-8108-388908ad8fd9",
   "metadata": {},
   "outputs": [],
   "source": [
    "lemmas_str = \" \".join(lemma_lst)\n",
    "lemmas = set([tok.text for tok in nlp(lemmas_str)])"
   ]
  },
  {
   "cell_type": "code",
   "execution_count": 11,
   "id": "570e42b6-3f87-46b7-a139-923f18548c73",
   "metadata": {},
   "outputs": [
    {
     "data": {
      "text/plain": [
       "(1994, 3942)"
      ]
     },
     "execution_count": 11,
     "metadata": {},
     "output_type": "execute_result"
    }
   ],
   "source": [
    "lemmas_vectorizable = [lemma for lemma in lemmas if nlp(lemma)[0].has_vector]\n",
    "lemmas_not_vectorizable = [lemma for lemma in lemmas if lemma not in lemmas_vectorizable]\n",
    "len(lemmas_vectorizable), len(lemmas_not_vectorizable)"
   ]
  },
  {
   "cell_type": "code",
   "execution_count": 12,
   "id": "b4fe0db5-c804-477c-ae44-e5d7725fee23",
   "metadata": {},
   "outputs": [],
   "source": [
    "lemmas_vectorizable_vecs = [nlp(lemma)[0].vector for lemma in lemmas_vectorizable]\n",
    "#lemmas_vectorizable_vecs.shape"
   ]
  },
  {
   "cell_type": "code",
   "execution_count": 13,
   "id": "46ebebf3-1fbc-40a9-8150-68bf41118bab",
   "metadata": {},
   "outputs": [
    {
     "data": {
      "text/plain": [
       "(1994, 1881)"
      ]
     },
     "execution_count": 13,
     "metadata": {},
     "output_type": "execute_result"
    }
   ],
   "source": [
    "clustering = DBSCAN(eps=.15, min_samples=1, metric=\"cosine\")\n",
    "labels = clustering.fit_predict(lemmas_vectorizable_vecs)\n",
    "len(lemmas_vectorizable), len(set(labels))"
   ]
  },
  {
   "cell_type": "code",
   "execution_count": 14,
   "id": "bd9f7b23-c1c8-4cab-8bde-ec9b6c1a2b09",
   "metadata": {},
   "outputs": [
    {
     "data": {
      "text/plain": [
       "[[('schädigung', 2), ('entschädigung', 2), ('beschädigung', 2)],\n",
       " [('bildung', 8), ('fortbildung', 8), ('weiterbildung', 8)],\n",
       " [('planungsrechtlich', 15),\n",
       "  ('zivilrechtlich', 15),\n",
       "  ('strafrechtlich', 15),\n",
       "  ('verkehrsrechtlich', 15),\n",
       "  ('völkerrechtlich', 15),\n",
       "  ('außergerichtlich', 15),\n",
       "  ('juristisch', 15),\n",
       "  ('planungsrechtlichen', 15),\n",
       "  ('zivilrechtliche', 15),\n",
       "  ('rechtlich', 15),\n",
       "  ('gerichtlich', 15)],\n",
       " [('beratung', 21), ('rechtsberatung', 21)],\n",
       " [('gutachten', 37), ('gutachter', 37)],\n",
       " [('sicherheitstechnik', 53),\n",
       "  ('sicherheitsrelevant', 53),\n",
       "  ('sicherheitstechnisch', 53)],\n",
       " [('neuwagen', 55), ('gebrauchtwagen', 55)],\n",
       " [('nebenwirkung', 58), ('wirkung', 58)],\n",
       " [('arbeitnehmer', 60), ('arbeitgeber', 60)],\n",
       " [('seelisch', 89), ('psychisch', 89)],\n",
       " [('fachschule', 99),\n",
       "  ('hochschule', 99),\n",
       "  ('fachhochschule', 99),\n",
       "  ('berufsschule', 99)],\n",
       " [('änderung', 102), ('veränderung', 102)],\n",
       " [('erklärung', 123), ('aufklärung', 123), ('klärung', 123)],\n",
       " [('benötigen', 166), ('brauchen', 166)],\n",
       " [('befahren', 168), ('durchfahren', 168)],\n",
       " [('zeitweilig', 169), ('zeitweise', 169)],\n",
       " [('versicherung', 179),\n",
       "  ('unfallversicherung', 179),\n",
       "  ('krankenversicherung', 179),\n",
       "  ('rentenversicherung', 179),\n",
       "  ('versicherungsschutz', 179),\n",
       "  ('pflegeversicherung', 179),\n",
       "  ('sicherung', 179),\n",
       "  ('sozialversicherung', 179),\n",
       "  ('lebensversicherung', 179),\n",
       "  ('krankenversichert', 179)],\n",
       " [('beschäftigung', 182), ('tätigkeit', 182), ('selbständigkeit', 182)],\n",
       " [('passwort', 201), ('kennwort', 201)],\n",
       " [('umsatzsteuer', 216), ('mehrwertsteuer', 216)],\n",
       " [('selbständige', 236), ('selbständig', 236), ('selbstständig', 236)],\n",
       " [('behindern', 244), ('behindert', 244)],\n",
       " [('steuerbefreiten', 246), ('steuerbefreit', 246)],\n",
       " [('zahlung', 249),\n",
       "  ('auszahlung', 249),\n",
       "  ('einzahlung', 249),\n",
       "  ('rückzahlung', 249)],\n",
       " [('wohnwagen', 267), ('wohnmobil', 267)],\n",
       " [('überprüfen', 284), ('prüfen', 284)],\n",
       " [('erkrankung', 315), ('krankheit', 315)],\n",
       " [('tür', 317), ('türe', 317)],\n",
       " [('unterhalt', 330), ('lebensunterhalt', 330)],\n",
       " [('beschränkt', 344), ('beschränken', 344)],\n",
       " [('katholisch', 345), ('evangelisch', 345)],\n",
       " [('sichergestellt', 360), ('sicherstellen', 360)],\n",
       " [('zahnärztlich', 369), ('augenärztlich', 369), ('ärztlich', 369)],\n",
       " [('anweisung', 385), ('einweisung', 385)],\n",
       " [('vater', 387), ('sohn', 387)],\n",
       " [('einschulung', 404), ('schulung', 404)],\n",
       " [('baufinanzierung', 419), ('finanzierung', 419)],\n",
       " [('genehmigung', 453), ('baugenehmigung', 453)],\n",
       " [('krankenpfleger', 456), ('pfleger', 456)],\n",
       " [('wertermittlung', 505), ('ermittlung', 505)],\n",
       " [('gebäude', 530), ('wohngebäude', 530)],\n",
       " [('personenbezogener', 542), ('personenbezogen', 542)],\n",
       " [('sportwetten', 543), ('pferdewetten', 543)],\n",
       " [('unternehmer', 559), ('kleinunternehmer', 559)],\n",
       " [('privatinsolvenz', 625), ('insolvenz', 625)],\n",
       " [('kaufvertrag', 631), ('mietvertrag', 631), ('vertrag', 631)],\n",
       " [('grün', 653), ('blau', 653), ('rot', 653), ('gelb', 653)],\n",
       " [('existenzgründung', 677), ('existenzgründer', 677)],\n",
       " [('landwirtschaftlich', 682), ('forstwirtschaftlich', 682)],\n",
       " [('vermieter', 692), ('mieter', 692)],\n",
       " [('schulden', 693), ('schulde', 693)],\n",
       " [('kasino', 719), ('casino', 719)],\n",
       " [('strafrecht', 724), ('zivilrecht', 724)],\n",
       " [('scheidung', 726), ('entscheidung', 726)],\n",
       " [('vollmachen', 732), ('vollmacht', 732)],\n",
       " [('beförderung', 735), ('förderung', 735)],\n",
       " [('freelance', 750), ('freelancer', 750)],\n",
       " [('landkarte', 757), ('landkarten', 757)],\n",
       " [('beantragung', 813), ('eintragung', 813)],\n",
       " [('c', 816), ('b', 816)],\n",
       " [('ansehen', 823), ('anschauen', 823)],\n",
       " [('kindergeld', 836), ('elterngeld', 836)],\n",
       " [('überwachen', 843), ('kontrollieren', 843)],\n",
       " [('minderjährig', 847), ('minderjährige', 847)],\n",
       " [('rechtsanwalt', 859), ('anwalt', 859)],\n",
       " [('erneuerung', 866), ('modernisierung', 866), ('sanierung', 866)],\n",
       " [('ii', 892), ('iii', 892)],\n",
       " [('eigentumswohnung', 926), ('mietwohnung', 926), ('wohnung', 926)],\n",
       " [('gesellschafter', 962), ('gesellschaft', 962)],\n",
       " [('prüfung', 981), ('überprüfung', 981)],\n",
       " [('identifikation', 994), ('identifizierung', 994)],\n",
       " [('mutter', 1037), ('tochter', 1037)],\n",
       " [('denkmalpflegerisch', 1051), ('denkmalpflegerischer', 1051)],\n",
       " [('spielhalle', 1113), ('spielhallen', 1113)],\n",
       " [('therapeut', 1123), ('psychotherapeut', 1123), ('psychotherapie', 1123)],\n",
       " [('gleichstellen', 1288), ('gleichstellung', 1288)],\n",
       " [('ernährung', 1291), ('nahrung', 1291)],\n",
       " [('außenbereich', 1499), ('innenbereich', 1499)],\n",
       " [('ausbildung', 1721), ('berufsausbildung', 1721)]]"
      ]
     },
     "execution_count": 14,
     "metadata": {},
     "output_type": "execute_result"
    }
   ],
   "source": [
    "elems = [(tok, label) for tok, label in zip(lemmas_vectorizable, labels)]\n",
    "clusters = [[el for el in elems if el[1] == i] for i in range(len(set(labels)))]\n",
    "[c for c in clusters if len(c) > 1]"
   ]
  }
 ],
 "metadata": {
  "kernelspec": {
   "display_name": "pj_chatbot",
   "language": "python",
   "name": "pj_chatbot"
  },
  "language_info": {
   "codemirror_mode": {
    "name": "ipython",
    "version": 3
   },
   "file_extension": ".py",
   "mimetype": "text/x-python",
   "name": "python",
   "nbconvert_exporter": "python",
   "pygments_lexer": "ipython3",
   "version": "3.9.6"
  }
 },
 "nbformat": 4,
 "nbformat_minor": 5
}
