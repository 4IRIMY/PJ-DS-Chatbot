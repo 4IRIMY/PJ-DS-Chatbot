{
 "cells": [
  {
   "cell_type": "code",
   "execution_count": 14,
   "id": "6652b20d-76f8-4d65-8f6e-614ee759cf0c",
   "metadata": {},
   "outputs": [],
   "source": [
    "from sklearn.cluster import DBSCAN, KMeans\n",
    "from random import randint\n",
    "from service_clustering import ServiceClustering\n",
    "import keyword_check as kw\n",
    "import solrhandler as sh\n",
    "import warnings\n",
    "warnings.filterwarnings(action='ignore')"
   ]
  },
  {
   "cell_type": "markdown",
   "id": "73096f96",
   "metadata": {},
   "source": [
    "# Function"
   ]
  },
  {
   "cell_type": "code",
   "execution_count": 2,
   "id": "1fb617a5",
   "metadata": {},
   "outputs": [],
   "source": [
    "def question_service(approach,choice=True): \n",
    "    while approach.isFinished()==False:\n",
    "        a=approach.get_result_string()\n",
    "        print(\"\")\n",
    "        print(approach.generateQuestion())\n",
    "        print(\"\")\n",
    "        approach.refineResultset(choice)\n",
    "        b=approach.get_result_string()\n",
    "        print(\"Answer: True\")\n",
    "        print((set(a)&set(b)))\n",
    "        print(\"Answer: False\")\n",
    "        print(list((set(a) | set(b)) - (set(a) & set(b))))\n",
    "        print(\"\")\n",
    "        "
   ]
  },
  {
   "cell_type": "markdown",
   "id": "9612db4a-f9fb-4dcc-a46f-9f5a4418d550",
   "metadata": {},
   "source": [
    "## Service Clustering kmeans"
   ]
  },
  {
   "cell_type": "code",
   "execution_count": 3,
   "id": "e8ca0ce1-17ca-4f5b-96c0-259ae72c7065",
   "metadata": {},
   "outputs": [],
   "source": [
    "kmeans = KMeans(n_clusters=2)"
   ]
  },
  {
   "cell_type": "code",
   "execution_count": 4,
   "id": "f376a1f0-4678-498a-88ba-a86c7737412b",
   "metadata": {},
   "outputs": [],
   "source": [
    "query = \"haus bauen antrag\""
   ]
  },
  {
   "cell_type": "code",
   "execution_count": 5,
   "id": "0bb2be56-c997-4cfd-8cee-20c858361e53",
   "metadata": {},
   "outputs": [],
   "source": [
    "service_clustering_kmean = ServiceClustering(query, kmeans, max_results=3)"
   ]
  },
  {
   "cell_type": "code",
   "execution_count": 6,
   "id": "be811b62",
   "metadata": {},
   "outputs": [
    {
     "name": "stdout",
     "output_type": "stream",
     "text": [
      "\n",
      "Ist Ihre Frage zum Thema Steuerbescheinigung ?\n",
      "\n"
     ]
    },
    {
     "name": "stderr",
     "output_type": "stream",
     "text": [
      "C:\\Users\\jannis.max.pilgrim@sap.com\\Desktop\\GitDS\\PJ-DS-Chatbot\\CodingDirectory\\Clustering\\Modules\\service_clustering_helper.py:27: SettingWithCopyWarning: \n",
      "A value is trying to be set on a copy of a slice from a DataFrame.\n",
      "Try using .loc[row_indexer,col_indexer] = value instead\n",
      "\n",
      "See the caveats in the documentation: https://pandas.pydata.org/pandas-docs/stable/user_guide/indexing.html#returning-a-view-versus-a-copy\n",
      "  df[\"cluster_label\"] = cluster_labels\n"
     ]
    },
    {
     "name": "stdout",
     "output_type": "stream",
     "text": [
      "Answer: True\n",
      "{'Haus- und Nachbarschaftslärm', 'Scheidungsantrag - Entscheidung', 'Ehefähigkeitszeugnis – Beratung, Antrag,  Ausstellung', 'Telefonische Fachauskunft in KFZ-Angelegenheiten', 'Schaustellung von Personen - Erlaubnis beantragen', 'Sozialversicherung - Rentenantrag stellen', 'Hausbrunnen und kleine Wasserwerke - Überwachung', 'Antragsbescheinigung für Familienangehörige von Bürgern der EU (außer Deutschland) und des EWR', 'Insolvenzverfahren - Regelinsolvenz - Geschäftsbetrieb - Durchführung - Eigenantrag -', 'Vereinigungs- und Teilungsanträge (Grundstücke) - Beglaubigung', 'Denkmal - Bescheinigung für Denkmalerhalt nach Einkommensteuergesetz', 'Tätigkeiten mit Krankheitserregern - Beantragung einer Erlaubnis', 'Vollstreckungsschutzantrag, Spezialfall Räumungsschutzantrag', 'Einkommensteuer - Festsetzung - Antragsveranlagung', 'Staatsangehörigkeitsausweis - Ausstellung'}\n",
      "Answer: False\n",
      "['Handwerk – Löschung aus der Handwerksrolle, dem Verzeichnis zulassungsfreier Handwerke und dem Verzeichnis handwerksähnlicher Gewerbe', 'Versteigerergewerbe - Öffentliche Bestellung und Vereidigung beantragen', 'Rechtsanwaltschaft - Antrag auf Zulassung', 'Europäischer Rechtsanwalt - Antrag auf Aufnahme in Deutschland', 'Prostitutionsgewerbe - Erlaubnis für den Betrieb', 'Kanzleipflicht - Antrag auf Befreiung', 'Rechtsanwaltschaft - Antrag auf Aufnahme als Angehöriger eines Mitgliedstaates der Welthandelsorganisation']\n",
      "\n",
      "\n",
      "Ist Ihre Frage zum Thema Steuerbescheinigung ?\n",
      "\n",
      "Answer: True\n",
      "{'Haus- und Nachbarschaftslärm', 'Scheidungsantrag - Entscheidung', 'Ehefähigkeitszeugnis – Beratung, Antrag,  Ausstellung', 'Telefonische Fachauskunft in KFZ-Angelegenheiten', 'Sozialversicherung - Rentenantrag stellen', 'Hausbrunnen und kleine Wasserwerke - Überwachung', 'Antragsbescheinigung für Familienangehörige von Bürgern der EU (außer Deutschland) und des EWR', 'Vereinigungs- und Teilungsanträge (Grundstücke) - Beglaubigung', 'Denkmal - Bescheinigung für Denkmalerhalt nach Einkommensteuergesetz', 'Vollstreckungsschutzantrag, Spezialfall Räumungsschutzantrag', 'Einkommensteuer - Festsetzung - Antragsveranlagung', 'Staatsangehörigkeitsausweis - Ausstellung'}\n",
      "Answer: False\n",
      "['Tätigkeiten mit Krankheitserregern - Beantragung einer Erlaubnis', 'Schaustellung von Personen - Erlaubnis beantragen', 'Insolvenzverfahren - Regelinsolvenz - Geschäftsbetrieb - Durchführung - Eigenantrag -']\n",
      "\n",
      "\n",
      "Ist Ihre Frage zum Thema Steuerbescheinigung ?\n",
      "\n",
      "Answer: True\n",
      "{'Haus- und Nachbarschaftslärm', 'Scheidungsantrag - Entscheidung', 'Telefonische Fachauskunft in KFZ-Angelegenheiten', 'Sozialversicherung - Rentenantrag stellen', 'Hausbrunnen und kleine Wasserwerke - Überwachung', 'Vereinigungs- und Teilungsanträge (Grundstücke) - Beglaubigung', 'Denkmal - Bescheinigung für Denkmalerhalt nach Einkommensteuergesetz', 'Vollstreckungsschutzantrag, Spezialfall Räumungsschutzantrag', 'Einkommensteuer - Festsetzung - Antragsveranlagung'}\n",
      "Answer: False\n",
      "['Staatsangehörigkeitsausweis - Ausstellung', 'Ehefähigkeitszeugnis – Beratung, Antrag,  Ausstellung', 'Antragsbescheinigung für Familienangehörige von Bürgern der EU (außer Deutschland) und des EWR']\n",
      "\n",
      "\n",
      "Ist Ihre Frage zum Thema Steuerbescheinigung ?\n",
      "\n",
      "Answer: True\n",
      "{'Haus- und Nachbarschaftslärm', 'Telefonische Fachauskunft in KFZ-Angelegenheiten', 'Sozialversicherung - Rentenantrag stellen', 'Vereinigungs- und Teilungsanträge (Grundstücke) - Beglaubigung', 'Hausbrunnen und kleine Wasserwerke - Überwachung', 'Denkmal - Bescheinigung für Denkmalerhalt nach Einkommensteuergesetz', 'Vollstreckungsschutzantrag, Spezialfall Räumungsschutzantrag', 'Einkommensteuer - Festsetzung - Antragsveranlagung'}\n",
      "Answer: False\n",
      "['Scheidungsantrag - Entscheidung']\n",
      "\n",
      "\n",
      "Ist Ihre Frage zum Thema Steuerbescheinigung ?\n",
      "\n",
      "Answer: True\n",
      "{'Haus- und Nachbarschaftslärm', 'Hausbrunnen und kleine Wasserwerke - Überwachung', 'Vereinigungs- und Teilungsanträge (Grundstücke) - Beglaubigung', 'Denkmal - Bescheinigung für Denkmalerhalt nach Einkommensteuergesetz', 'Vollstreckungsschutzantrag, Spezialfall Räumungsschutzantrag', 'Einkommensteuer - Festsetzung - Antragsveranlagung'}\n",
      "Answer: False\n",
      "['Telefonische Fachauskunft in KFZ-Angelegenheiten', 'Sozialversicherung - Rentenantrag stellen']\n",
      "\n",
      "\n",
      "Ist Ihre Frage zum Thema Trinkwasserverordnung ?\n",
      "\n",
      "Answer: True\n",
      "{'Haus- und Nachbarschaftslärm', 'Vollstreckungsschutzantrag, Spezialfall Räumungsschutzantrag', 'Hausbrunnen und kleine Wasserwerke - Überwachung', 'Vereinigungs- und Teilungsanträge (Grundstücke) - Beglaubigung'}\n",
      "Answer: False\n",
      "['Denkmal - Bescheinigung für Denkmalerhalt nach Einkommensteuergesetz', 'Einkommensteuer - Festsetzung - Antragsveranlagung']\n",
      "\n",
      "\n",
      "Ist Ihre Frage zum Thema Trinkwasserverordnung ?\n",
      "\n",
      "Answer: True\n",
      "{'Haus- und Nachbarschaftslärm', 'Vollstreckungsschutzantrag, Spezialfall Räumungsschutzantrag', 'Hausbrunnen und kleine Wasserwerke - Überwachung'}\n",
      "Answer: False\n",
      "['Vereinigungs- und Teilungsanträge (Grundstücke) - Beglaubigung']\n",
      "\n"
     ]
    }
   ],
   "source": [
    "question_service(service_clustering_kmean)"
   ]
  },
  {
   "cell_type": "markdown",
   "id": "3c58c59e",
   "metadata": {},
   "source": [
    "## Service Clustering dbscan"
   ]
  },
  {
   "cell_type": "code",
   "execution_count": 7,
   "id": "03a6e42f",
   "metadata": {},
   "outputs": [],
   "source": [
    "dbscan = DBSCAN(eps=1.3, min_samples=1)"
   ]
  },
  {
   "cell_type": "code",
   "execution_count": 8,
   "id": "f1ec716a",
   "metadata": {},
   "outputs": [],
   "source": [
    "query = \"haus bauen antrag\""
   ]
  },
  {
   "cell_type": "code",
   "execution_count": 9,
   "id": "d4bb94a6",
   "metadata": {},
   "outputs": [],
   "source": [
    "service_clustering_DBSCAN = ServiceClustering(query, dbscan, max_results=3)"
   ]
  },
  {
   "cell_type": "code",
   "execution_count": 10,
   "id": "dad6df6e",
   "metadata": {},
   "outputs": [
    {
     "name": "stdout",
     "output_type": "stream",
     "text": [
      "\n",
      "Ist Ihre Frage zum Thema Rechtsanwaltschaft ?\n",
      "\n",
      "Answer: True\n",
      "{'Rechtsanwaltschaft - Antrag auf Zulassung', 'Europäischer Rechtsanwalt - Antrag auf Aufnahme in Deutschland', 'Kanzleipflicht - Antrag auf Befreiung', 'Antragsbescheinigung für Familienangehörige von Bürgern der EU (außer Deutschland) und des EWR', 'Rechtsanwaltschaft - Antrag auf Aufnahme als Angehöriger eines Mitgliedstaates der Welthandelsorganisation'}\n",
      "Answer: False\n",
      "['Scheidungsantrag - Entscheidung', 'Haus- und Nachbarschaftslärm', 'Ehefähigkeitszeugnis – Beratung, Antrag,  Ausstellung', 'Versteigerergewerbe - Öffentliche Bestellung und Vereidigung beantragen', 'Handwerk – Löschung aus der Handwerksrolle, dem Verzeichnis zulassungsfreier Handwerke und dem Verzeichnis handwerksähnlicher Gewerbe', 'Telefonische Fachauskunft in KFZ-Angelegenheiten', 'Schaustellung von Personen - Erlaubnis beantragen', 'Sozialversicherung - Rentenantrag stellen', 'Prostitutionsgewerbe - Erlaubnis für den Betrieb', 'Hausbrunnen und kleine Wasserwerke - Überwachung', 'Insolvenzverfahren - Regelinsolvenz - Geschäftsbetrieb - Durchführung - Eigenantrag -', 'Vereinigungs- und Teilungsanträge (Grundstücke) - Beglaubigung', 'Denkmal - Bescheinigung für Denkmalerhalt nach Einkommensteuergesetz', 'Tätigkeiten mit Krankheitserregern - Beantragung einer Erlaubnis', 'Vollstreckungsschutzantrag, Spezialfall Räumungsschutzantrag', 'Einkommensteuer - Festsetzung - Antragsveranlagung', 'Staatsangehörigkeitsausweis - Ausstellung']\n",
      "\n",
      "\n",
      "Ist Ihre Frage zum Thema Rechtsanwaltschaft ?\n",
      "\n"
     ]
    },
    {
     "name": "stderr",
     "output_type": "stream",
     "text": [
      "C:\\Users\\jannis.max.pilgrim@sap.com\\Desktop\\GitDS\\PJ-DS-Chatbot\\CodingDirectory\\Clustering\\Modules\\service_clustering_helper.py:27: SettingWithCopyWarning: \n",
      "A value is trying to be set on a copy of a slice from a DataFrame.\n",
      "Try using .loc[row_indexer,col_indexer] = value instead\n",
      "\n",
      "See the caveats in the documentation: https://pandas.pydata.org/pandas-docs/stable/user_guide/indexing.html#returning-a-view-versus-a-copy\n",
      "  df[\"cluster_label\"] = cluster_labels\n"
     ]
    },
    {
     "name": "stdout",
     "output_type": "stream",
     "text": [
      "Answer: True\n",
      "{'Europäischer Rechtsanwalt - Antrag auf Aufnahme in Deutschland', 'Rechtsanwaltschaft - Antrag auf Zulassung', 'Kanzleipflicht - Antrag auf Befreiung', 'Rechtsanwaltschaft - Antrag auf Aufnahme als Angehöriger eines Mitgliedstaates der Welthandelsorganisation'}\n",
      "Answer: False\n",
      "['Antragsbescheinigung für Familienangehörige von Bürgern der EU (außer Deutschland) und des EWR']\n",
      "\n",
      "\n",
      "Ist Ihre Frage zum Thema Rechtsanwaltschaft ?\n",
      "\n",
      "Answer: True\n",
      "{'Europäischer Rechtsanwalt - Antrag auf Aufnahme in Deutschland', 'Rechtsanwaltschaft - Antrag auf Zulassung', 'Kanzleipflicht - Antrag auf Befreiung'}\n",
      "Answer: False\n",
      "['Rechtsanwaltschaft - Antrag auf Aufnahme als Angehöriger eines Mitgliedstaates der Welthandelsorganisation']\n",
      "\n"
     ]
    }
   ],
   "source": [
    "question_service(service_clustering_DBSCAN)"
   ]
  },
  {
   "cell_type": "markdown",
   "id": "ab824f67-f8a8-418f-9e6f-bb9a74fa3afb",
   "metadata": {},
   "source": [
    "## Keyword Tree"
   ]
  },
  {
   "cell_type": "code",
   "execution_count": 11,
   "id": "9c85b307-aa07-4fb9-9ae1-f895fbc94da4",
   "metadata": {},
   "outputs": [],
   "source": [
    "keyword_check = kw.Keyword_check(query,3,sh.SolrHandler)"
   ]
  },
  {
   "cell_type": "code",
   "execution_count": 12,
   "id": "faea2d8e",
   "metadata": {},
   "outputs": [],
   "source": [
    "query= \"haus bauen antrag\""
   ]
  },
  {
   "cell_type": "code",
   "execution_count": 13,
   "id": "1f7f7268-7739-49d5-a9c4-66713f37f2aa",
   "metadata": {},
   "outputs": [
    {
     "name": "stdout",
     "output_type": "stream",
     "text": [
      "\n",
      "Geht es bei ihrem anliegen um antrag ?\n",
      "\n",
      "Answer: True\n",
      "{'Ehefähigkeitszeugnis – Beratung, Antrag,  Ausstellung', 'Handwerk – Löschung aus der Handwerksrolle, dem Verzeichnis zulassungsfreier Handwerke und dem Verzeichnis handwerksähnlicher Gewerbe', 'Versteigerergewerbe - Öffentliche Bestellung und Vereidigung beantragen', 'Rechtsanwaltschaft - Antrag auf Zulassung', 'Europäischer Rechtsanwalt - Antrag auf Aufnahme in Deutschland', 'Prostitutionsgewerbe - Erlaubnis für den Betrieb', 'Kanzleipflicht - Antrag auf Befreiung', 'Antragsbescheinigung für Familienangehörige von Bürgern der EU (außer Deutschland) und des EWR', 'Staatsangehörigkeitsausweis - Ausstellung', 'Rechtsanwaltschaft - Antrag auf Aufnahme als Angehöriger eines Mitgliedstaates der Welthandelsorganisation'}\n",
      "Answer: False\n",
      "['Scheidungsantrag - Entscheidung', 'Haus- und Nachbarschaftslärm', 'Telefonische Fachauskunft in KFZ-Angelegenheiten', 'Schaustellung von Personen - Erlaubnis beantragen', 'Sozialversicherung - Rentenantrag stellen', 'Hausbrunnen und kleine Wasserwerke - Überwachung', 'Insolvenzverfahren - Regelinsolvenz - Geschäftsbetrieb - Durchführung - Eigenantrag -', 'Vereinigungs- und Teilungsanträge (Grundstücke) - Beglaubigung', 'Denkmal - Bescheinigung für Denkmalerhalt nach Einkommensteuergesetz', 'Tätigkeiten mit Krankheitserregern - Beantragung einer Erlaubnis', 'Vollstreckungsschutzantrag, Spezialfall Räumungsschutzantrag', 'Einkommensteuer - Festsetzung - Antragsveranlagung']\n",
      "\n",
      "\n",
      "Geht es bei ihrem anliegen um rechtsanwaltschaft ?\n",
      "\n",
      "Answer: True\n",
      "{'Europäischer Rechtsanwalt - Antrag auf Aufnahme in Deutschland', 'Rechtsanwaltschaft - Antrag auf Zulassung', 'Kanzleipflicht - Antrag auf Befreiung', 'Rechtsanwaltschaft - Antrag auf Aufnahme als Angehöriger eines Mitgliedstaates der Welthandelsorganisation'}\n",
      "Answer: False\n",
      "['Ehefähigkeitszeugnis – Beratung, Antrag,  Ausstellung', 'Handwerk – Löschung aus der Handwerksrolle, dem Verzeichnis zulassungsfreier Handwerke und dem Verzeichnis handwerksähnlicher Gewerbe', 'Versteigerergewerbe - Öffentliche Bestellung und Vereidigung beantragen', 'Prostitutionsgewerbe - Erlaubnis für den Betrieb', 'Antragsbescheinigung für Familienangehörige von Bürgern der EU (außer Deutschland) und des EWR', 'Staatsangehörigkeitsausweis - Ausstellung']\n",
      "\n",
      "\n",
      "Geht es bei ihrem anliegen um aufnahme ?\n",
      "\n",
      "Answer: True\n",
      "{'Europäischer Rechtsanwalt - Antrag auf Aufnahme in Deutschland', 'Rechtsanwaltschaft - Antrag auf Aufnahme als Angehöriger eines Mitgliedstaates der Welthandelsorganisation'}\n",
      "Answer: False\n",
      "['Rechtsanwaltschaft - Antrag auf Zulassung', 'Kanzleipflicht - Antrag auf Befreiung']\n",
      "\n"
     ]
    }
   ],
   "source": [
    "question_service(keyword_check)"
   ]
  }
 ],
 "metadata": {
  "kernelspec": {
   "display_name": "Python 3",
   "language": "python",
   "name": "python3"
  },
  "language_info": {
   "codemirror_mode": {
    "name": "ipython",
    "version": 3
   },
   "file_extension": ".py",
   "mimetype": "text/x-python",
   "name": "python",
   "nbconvert_exporter": "python",
   "pygments_lexer": "ipython3",
   "version": "3.8.8"
  }
 },
 "nbformat": 4,
 "nbformat_minor": 5
}
