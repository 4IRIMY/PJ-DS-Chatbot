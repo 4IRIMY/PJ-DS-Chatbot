{
 "cells": [
  {
   "cell_type": "code",
   "execution_count": 1,
   "id": "60c45c87",
   "metadata": {},
   "outputs": [],
   "source": [
    "from keyword_check import Keyword_check"
   ]
  },
  {
   "cell_type": "code",
   "execution_count": 2,
   "id": "f7467baf",
   "metadata": {},
   "outputs": [],
   "source": [
    "from keyword_check import *"
   ]
  },
  {
   "cell_type": "code",
   "execution_count": 3,
   "id": "767df6bb",
   "metadata": {},
   "outputs": [],
   "source": [
    "import os\n",
    "from urllib.parse import parse_qs\n",
    "import IPython.display\n",
    "import ipywidgets as wg\n",
    "from ipywidgets import interact, interactive, fixed, interact_manual\n",
    "from IPython.display import display\n",
    "\n",
    "\n"
   ]
  },
  {
   "cell_type": "code",
   "execution_count": 4,
   "id": "cecf35ec",
   "metadata": {},
   "outputs": [],
   "source": [
    "keywords= Keyword_check()"
   ]
  },
  {
   "cell_type": "code",
   "execution_count": 5,
   "id": "9c5195de",
   "metadata": {},
   "outputs": [],
   "source": [
    "def conversation(result_length=2,col_name=\"ssdsLemma\"):\n",
    "    print(\"Hallo mein Name ist Nobbi (noch besserer Bobbi), wie kann ich Ihnen behilflich sein? \")\n",
    "    query=input()    \n",
    "    df,occ,freq,words,index=keywords.initial_conversation(query,col_name,result_length)        \n",
    "    while type(index) == int:\n",
    "        print(\"Hat Ihr Anliegen etwas mit \" +words[index]+\" zu tun? \")\n",
    "        antwort=input()\n",
    "        if antwort == \"ja\":\n",
    "            keywords.refrain_results(index,1)\n",
    "            index=keywords.next_question()\n",
    "        elif antwort == \"nein\":\n",
    "            keywords.refrain_results(index,0)\n",
    "            index=keywords.next_question()\n",
    "        else:\n",
    "            print(\"Das habe ich leider nicht verstanden. Könnten Sie es wiederhohlen? \")\n",
    "    print(\"Diese Ergebnisse habe ich gefunden:\")\n",
    "    print(index)        "
   ]
  },
  {
   "cell_type": "code",
   "execution_count": 6,
   "id": "50504f77",
   "metadata": {},
   "outputs": [],
   "source": [
    "def conversation_multi(choices,result_length=2,col_name=\"ssdsLemma\"):\n",
    "    print(\"Hallo mein Name ist Nobbi (noch besserer Bobbi), wie kann ich Ihnen behilflich sein? \")\n",
    "    query=input()    \n",
    "    df,occ,freq,words,index=keywords.initial_conversation(query,col_name,result_length)        \n",
    "    while type(index) == int:\n",
    "        print(\"Hat Ihr Anliegen etwas mit \" +words[index]+\" zu tun? \")\n",
    "        antwort=input()\n",
    "        if antwort == \"ja\":\n",
    "            keywords.refrain_results(index,1)\n",
    "            index=keywords.next_question()\n",
    "        elif antwort == \"nein\":\n",
    "            keywords.refrain_results(index,0)\n",
    "            index=keywords.next_question()\n",
    "        else:\n",
    "            print(\"Das habe ich leider nicht verstanden. Könnten Sie es wiederhohlen? \")\n",
    "    print(\"Diese Ergebnisse habe ich gefunden:\")\n",
    "    print(index)"
   ]
  },
  {
   "cell_type": "code",
   "execution_count": 8,
   "id": "50d6f727",
   "metadata": {},
   "outputs": [
    {
     "name": "stdout",
     "output_type": "stream",
     "text": [
      "Hallo mein Name ist Nobbi (noch besserer Bobbi), wie kann ich Ihnen behilflich sein? \n",
      "Ich möchte einen Personalausweis beantragen\n",
      "Hat Ihr Anliegen etwas mit beantragen zu tun? \n",
      "ja\n",
      "Hat Ihr Anliegen etwas mit ausstellung zu tun? \n",
      "ja\n",
      "Hat Ihr Anliegen etwas mit ausland zu tun? \n",
      "nein\n",
      "Diese Ergebnisse habe ich gefunden:\n",
      "0                 Personalausweis vorläufig beantragen\n",
      "1                           Personalausweis beantragen\n",
      "2    Handwerk - Bescheinigung über die Eintragung b...\n",
      "Name: d115Name, dtype: object\n"
     ]
    }
   ],
   "source": [
    "conversation(4)"
   ]
  },
  {
   "cell_type": "code",
   "execution_count": null,
   "id": "8b7991ba",
   "metadata": {},
   "outputs": [],
   "source": []
  }
 ],
 "metadata": {
  "kernelspec": {
   "display_name": "Python 3 (ipykernel)",
   "language": "python",
   "name": "python3"
  },
  "language_info": {
   "codemirror_mode": {
    "name": "ipython",
    "version": 3
   },
   "file_extension": ".py",
   "mimetype": "text/x-python",
   "name": "python",
   "nbconvert_exporter": "python",
   "pygments_lexer": "ipython3",
   "version": "3.7.10"
  }
 },
 "nbformat": 4,
 "nbformat_minor": 5
}
