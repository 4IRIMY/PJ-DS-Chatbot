{
 "cells": [
  {
   "cell_type": "code",
   "execution_count": 1,
   "id": "60c45c87",
   "metadata": {},
   "outputs": [],
   "source": [
    "from keyword_check import Keyword_check"
   ]
  },
  {
   "cell_type": "code",
   "execution_count": 2,
   "id": "f7467baf",
   "metadata": {},
   "outputs": [],
   "source": [
    "from keyword_check import *"
   ]
  },
  {
   "cell_type": "code",
   "execution_count": 3,
   "id": "767df6bb",
   "metadata": {},
   "outputs": [],
   "source": [
    "import os\n",
    "from urllib.parse import parse_qs\n",
    "import IPython.display\n",
    "import ipywidgets as wg\n",
    "from ipywidgets import interact, interactive, fixed, interact_manual\n",
    "from IPython.display import display\n",
    "\n",
    "\n"
   ]
  },
  {
   "cell_type": "code",
   "execution_count": 4,
   "id": "cecf35ec",
   "metadata": {},
   "outputs": [],
   "source": [
    "keywords= Keyword_check()"
   ]
  },
  {
   "cell_type": "code",
   "execution_count": 6,
   "id": "9c5195de",
   "metadata": {},
   "outputs": [],
   "source": [
    "def conversation(result_length=2,col_name=\"ssdsLemma\"):\n",
    "    print(\"Hallo mein Name ist Nobbi (noch besserer Bobbi), wie kann ich Ihnen behilflich sein? \")\n",
    "    query=input()    \n",
    "    df,occ,freq,words,index=keywords.initial_conversation(query,col_name,result_length)        \n",
    "    while type(index) == int:\n",
    "        print(\"Hat Ihr Anliegen etwas mit \" +words[index]+\" zu tun? \")\n",
    "        antwort=input()\n",
    "        if antwort == \"ja\":\n",
    "            keywords.refrain_results(index,1)\n",
    "            index=keywords.next_question()\n",
    "        elif antwort == \"nein\":\n",
    "            keywords.refrain_results(index,0)\n",
    "            index=keywords.next_question()\n",
    "        else:\n",
    "            print(\"Das habe ich leider nicht verstanden. Könnten Sie es wiederhohlen? \")\n",
    "    print(\"Diese Ergebnisse habe ich gefunden:\")\n",
    "    print(index)\n",
    "        "
   ]
  },
  {
   "cell_type": "code",
   "execution_count": null,
   "id": "50504f77",
   "metadata": {},
   "outputs": [],
   "source": [
    "def conversation_multi(choices,result_length=2,col_name=\"ssdsLemma\"):\n",
    "    print(\"Hallo mein Name ist Nobbi (noch besserer Bobbi), wie kann ich Ihnen behilflich sein? \")\n",
    "    query=input()    \n",
    "    df,occ,freq,words,index=keywords.initial_conversation(query,col_name,result_length)        \n",
    "    while type(index) == int:\n",
    "        print(\"Hat Ihr Anliegen etwas mit \" +words[index]+\" zu tun? \")\n",
    "        antwort=input()\n",
    "        if antwort == \"ja\":\n",
    "            keywords.refrain_results(index,1)\n",
    "            index=keywords.next_question()\n",
    "        elif antwort == \"nein\":\n",
    "            keywords.refrain_results(index,0)\n",
    "            index=keywords.next_question()\n",
    "        else:\n",
    "            print(\"Das habe ich leider nicht verstanden. Könnten Sie es wiederhohlen? \")\n",
    "    print(\"Diese Ergebnisse habe ich gefunden:\")\n",
    "    print(index)"
   ]
  },
  {
   "cell_type": "code",
   "execution_count": null,
   "id": "325d4de7",
   "metadata": {},
   "outputs": [],
   "source": [
    "conversation_multi"
   ]
  },
  {
   "cell_type": "code",
   "execution_count": 5,
   "id": "3714c184",
   "metadata": {},
   "outputs": [],
   "source": [
    "df,occ,freq,words,index=keywords.initial_conversation(\"antrag\")  "
   ]
  },
  {
   "cell_type": "code",
   "execution_count": 6,
   "id": "4ad9b4b3",
   "metadata": {
    "scrolled": true
   },
   "outputs": [
    {
     "ename": "TypeError",
     "evalue": "int() argument must be a string, a bytes-like object or a number, not 'list'",
     "output_type": "error",
     "traceback": [
      "\u001b[1;31m---------------------------------------------------------------------------\u001b[0m",
      "\u001b[1;31mTypeError\u001b[0m                                 Traceback (most recent call last)",
      "\u001b[1;32m<ipython-input-6-3c0836d15492>\u001b[0m in \u001b[0;36m<module>\u001b[1;34m\u001b[0m\n\u001b[1;32m----> 1\u001b[1;33m \u001b[0mindex\u001b[0m\u001b[1;33m=\u001b[0m\u001b[0mchoose_n_questions\u001b[0m\u001b[1;33m(\u001b[0m\u001b[0mlen\u001b[0m\u001b[1;33m(\u001b[0m\u001b[0mocc\u001b[0m\u001b[1;33m)\u001b[0m\u001b[1;33m,\u001b[0m\u001b[0mfreq\u001b[0m\u001b[1;33m,\u001b[0m\u001b[1;36m4\u001b[0m\u001b[1;33m)\u001b[0m\u001b[1;33m\u001b[0m\u001b[1;33m\u001b[0m\u001b[0m\n\u001b[0m",
      "\u001b[1;32m~\\Desktop\\GitDS\\PJ-DS-Chatbot\\CodingDirectory\\Clustering\\Modules\\keyword_check.py\u001b[0m in \u001b[0;36mchoose_n_questions\u001b[1;34m(length, word_freq, n)\u001b[0m\n\u001b[0;32m     58\u001b[0m     \u001b[1;31m#Chooses Keywords with occurs closest to 50%\u001b[0m\u001b[1;33m\u001b[0m\u001b[1;33m\u001b[0m\u001b[1;33m\u001b[0m\u001b[0m\n\u001b[0;32m     59\u001b[0m     \u001b[0mdistance_matrix\u001b[0m\u001b[1;33m=\u001b[0m\u001b[1;33m[\u001b[0m\u001b[1;33m(\u001b[0m\u001b[0mlength\u001b[0m\u001b[1;33m/\u001b[0m\u001b[1;36m2\u001b[0m \u001b[1;33m-\u001b[0m \u001b[0my\u001b[0m\u001b[1;33m)\u001b[0m\u001b[1;33m**\u001b[0m\u001b[1;36m2\u001b[0m \u001b[1;32mfor\u001b[0m \u001b[0my\u001b[0m \u001b[1;32min\u001b[0m \u001b[0mword_freq\u001b[0m\u001b[1;33m]\u001b[0m\u001b[1;33m\u001b[0m\u001b[1;33m\u001b[0m\u001b[0m\n\u001b[1;32m---> 60\u001b[1;33m     \u001b[0mtmp\u001b[0m\u001b[1;33m=\u001b[0m\u001b[0mint\u001b[0m\u001b[1;33m(\u001b[0m\u001b[0mnsmallest\u001b[0m\u001b[1;33m(\u001b[0m\u001b[0mn\u001b[0m\u001b[1;33m,\u001b[0m\u001b[0mdistance_matrix\u001b[0m\u001b[1;33m)\u001b[0m\u001b[1;33m)\u001b[0m\u001b[1;33m\u001b[0m\u001b[1;33m\u001b[0m\u001b[0m\n\u001b[0m\u001b[0;32m     61\u001b[0m     \u001b[0mindex\u001b[0m \u001b[1;33m=\u001b[0m \u001b[0mdistance_matrix\u001b[0m\u001b[1;33m.\u001b[0m\u001b[0mindex\u001b[0m\u001b[1;33m(\u001b[0m\u001b[0mtmp\u001b[0m\u001b[1;33m)\u001b[0m\u001b[1;33m\u001b[0m\u001b[1;33m\u001b[0m\u001b[0m\n\u001b[0;32m     62\u001b[0m     \u001b[1;32mreturn\u001b[0m \u001b[0mindex\u001b[0m\u001b[1;33m\u001b[0m\u001b[1;33m\u001b[0m\u001b[0m\n",
      "\u001b[1;31mTypeError\u001b[0m: int() argument must be a string, a bytes-like object or a number, not 'list'"
     ]
    }
   ],
   "source": [
    "index=choose_n_questions(len(occ),freq,4)"
   ]
  },
  {
   "cell_type": "code",
   "execution_count": 7,
   "id": "50d6f727",
   "metadata": {},
   "outputs": [
    {
     "name": "stdout",
     "output_type": "stream",
     "text": [
      "Hallo mein Name ist Nobbi (noch besserer Bobbi), wie kann ich Ihnen behilflich sein? \n",
      "antrag\n",
      "Hat Ihr Anliegen etwas mit antrag zu tun? \n",
      "ja\n",
      "Hat Ihr Anliegen etwas mit rechtsanwaltschaft zu tun? \n",
      "ja\n",
      "Diese Ergebnisse habe ich gefunden:\n",
      "0                Kanzleipflicht - Antrag auf Befreiung\n",
      "1            Rechtsanwaltschaft - Antrag auf Zulassung\n",
      "2    Europäischer Rechtsanwalt - Antrag auf Aufnahm...\n",
      "3    Rechtsanwaltschaft - Antrag auf Aufnahme als A...\n",
      "Name: d115Name, dtype: object\n"
     ]
    }
   ],
   "source": [
    "conversation(4)"
   ]
  },
  {
   "cell_type": "code",
   "execution_count": null,
   "id": "8b7991ba",
   "metadata": {},
   "outputs": [],
   "source": []
  }
 ],
 "metadata": {
  "kernelspec": {
   "display_name": "Python 3",
   "language": "python",
   "name": "python3"
  },
  "language_info": {
   "codemirror_mode": {
    "name": "ipython",
    "version": 3
   },
   "file_extension": ".py",
   "mimetype": "text/x-python",
   "name": "python",
   "nbconvert_exporter": "python",
   "pygments_lexer": "ipython3",
   "version": "3.8.8"
  }
 },
 "nbformat": 4,
 "nbformat_minor": 5
}
