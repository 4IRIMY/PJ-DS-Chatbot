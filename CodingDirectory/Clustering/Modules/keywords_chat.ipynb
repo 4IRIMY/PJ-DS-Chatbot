{
 "cells": [
  {
   "cell_type": "code",
   "execution_count": 1,
   "id": "60c45c87",
   "metadata": {},
   "outputs": [],
   "source": [
    "from keyword_check import Keyword_check"
   ]
  },
  {
   "cell_type": "code",
   "execution_count": 3,
   "id": "f7467baf",
   "metadata": {},
   "outputs": [],
   "source": [
    "from keyword_check import *"
   ]
  },
  {
   "cell_type": "code",
   "execution_count": 4,
   "id": "767df6bb",
   "metadata": {},
   "outputs": [],
   "source": [
    "import os\n",
    "from urllib.parse import parse_qs\n",
    "import IPython.display\n",
    "import ipywidgets as wg\n",
    "from ipywidgets import interact, interactive, fixed, interact_manual\n",
    "from IPython.display import display\n",
    "\n",
    "\n"
   ]
  },
  {
   "cell_type": "code",
   "execution_count": 5,
   "id": "cecf35ec",
   "metadata": {},
   "outputs": [],
   "source": [
    "keywords= Keyword_check()"
   ]
  },
  {
   "cell_type": "code",
   "execution_count": 6,
   "id": "9c5195de",
   "metadata": {},
   "outputs": [],
   "source": [
    "def conversation(result_length=2,col_name=\"ssdsLemma\"):\n",
    "    print(\"Hallo mein Name ist Nobbi (noch besserer Bobbi), wie kann ich Ihnen behilflich sein? \")\n",
    "    query=input()    \n",
    "    df,occ,freq,words,index=keywords.initial_conversation(query,col_name,result_length)        \n",
    "    while type(index) == int:\n",
    "        print(\"Hat Ihr Anliegen etwas mit \" +words[index]+\" zu tun? \")\n",
    "        antwort=input()\n",
    "        if antwort == \"ja\":\n",
    "            keywords.refrain_results(index,1)\n",
    "            index=keywords.next_question()\n",
    "        elif antwort == \"nein\":\n",
    "            keywords.refrain_results(index,0)\n",
    "            index=keywords.next_question()\n",
    "        else:\n",
    "            print(\"Das habe ich leider nicht verstanden. Könnten Sie es wiederhohlen? \")\n",
    "    print(\"Diese Ergebnisse habe ich gefunden:\")\n",
    "    print(index)\n",
    "        "
   ]
  },
  {
   "cell_type": "code",
   "execution_count": null,
   "id": "50504f77",
   "metadata": {},
   "outputs": [],
   "source": []
  },
  {
   "cell_type": "code",
   "execution_count": null,
   "id": "325d4de7",
   "metadata": {},
   "outputs": [],
   "source": []
  },
  {
   "cell_type": "code",
   "execution_count": null,
   "id": "3714c184",
   "metadata": {},
   "outputs": [],
   "source": []
  },
  {
   "cell_type": "code",
   "execution_count": null,
   "id": "4ad9b4b3",
   "metadata": {},
   "outputs": [],
   "source": []
  },
  {
   "cell_type": "code",
   "execution_count": 7,
   "id": "50d6f727",
   "metadata": {},
   "outputs": [
    {
     "name": "stdout",
     "output_type": "stream",
     "text": [
      "Hallo mein Name ist Nobbi (noch besserer Bobbi), wie kann ich Ihnen behilflich sein? \n",
      "antrag\n",
      "Hat Ihr Anliegen etwas mit antrag zu tun? \n",
      "ja\n",
      "Hat Ihr Anliegen etwas mit rechtsanwaltschaft zu tun? \n",
      "ja\n",
      "Diese Ergebnisse habe ich gefunden:\n",
      "0                Kanzleipflicht - Antrag auf Befreiung\n",
      "1            Rechtsanwaltschaft - Antrag auf Zulassung\n",
      "2    Europäischer Rechtsanwalt - Antrag auf Aufnahm...\n",
      "3    Rechtsanwaltschaft - Antrag auf Aufnahme als A...\n",
      "Name: d115Name, dtype: object\n"
     ]
    }
   ],
   "source": [
    "conversation(4)"
   ]
  },
  {
   "cell_type": "code",
   "execution_count": null,
   "id": "8b7991ba",
   "metadata": {},
   "outputs": [],
   "source": []
  }
 ],
 "metadata": {
  "kernelspec": {
   "display_name": "Python 3",
   "language": "python",
   "name": "python3"
  },
  "language_info": {
   "codemirror_mode": {
    "name": "ipython",
    "version": 3
   },
   "file_extension": ".py",
   "mimetype": "text/x-python",
   "name": "python",
   "nbconvert_exporter": "python",
   "pygments_lexer": "ipython3",
   "version": "3.8.8"
  }
 },
 "nbformat": 4,
 "nbformat_minor": 5
}
