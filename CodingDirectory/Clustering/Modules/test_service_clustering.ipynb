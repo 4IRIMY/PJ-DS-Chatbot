{
 "cells": [
  {
   "cell_type": "code",
   "execution_count": 1,
   "id": "6652b20d-76f8-4d65-8f6e-614ee759cf0c",
   "metadata": {},
   "outputs": [
    {
     "name": "stderr",
     "output_type": "stream",
     "text": [
      "/Users/jakob/.local/share/virtualenvs/PJ-DS-Chatbot-yEI8U9gg/lib/python3.9/site-packages/requests/__init__.py:102: RequestsDependencyWarning: urllib3 (1.26.9) or chardet (5.0.0)/charset_normalizer (2.0.12) doesn't match a supported version!\n",
      "  warnings.warn(\"urllib3 ({}) or chardet ({})/charset_normalizer ({}) doesn't match a supported \"\n"
     ]
    }
   ],
   "source": [
    "from sklearn.cluster import DBSCAN, KMeans\n",
    "\n",
    "from service_clustering import ServiceClustering"
   ]
  },
  {
   "cell_type": "markdown",
   "id": "9612db4a-f9fb-4dcc-a46f-9f5a4418d550",
   "metadata": {},
   "source": [
    "## Initialization"
   ]
  },
  {
   "cell_type": "code",
   "execution_count": 2,
   "id": "e8ca0ce1-17ca-4f5b-96c0-259ae72c7065",
   "metadata": {},
   "outputs": [],
   "source": [
    "kmeans = KMeans(n_clusters=2)\n",
    "dbscan = DBSCAN(eps=1.3, min_samples=1)"
   ]
  },
  {
   "cell_type": "code",
   "execution_count": 3,
   "id": "f376a1f0-4678-498a-88ba-a86c7737412b",
   "metadata": {},
   "outputs": [],
   "source": [
    "query = \"antrag\""
   ]
  },
  {
   "cell_type": "code",
   "execution_count": 4,
   "id": "0bb2be56-c997-4cfd-8cee-20c858361e53",
   "metadata": {},
   "outputs": [],
   "source": [
    "service_clustering = ServiceClustering(query, kmeans, max_results=3)"
   ]
  },
  {
   "cell_type": "code",
   "execution_count": 5,
   "id": "1ccf4529-4693-4d39-afaf-3f3fcab1e8dd",
   "metadata": {},
   "outputs": [
    {
     "data": {
      "text/plain": [
       "(18, False)"
      ]
     },
     "execution_count": 5,
     "metadata": {},
     "output_type": "execute_result"
    }
   ],
   "source": [
    "len(service_clustering.df_current), service_clustering.isFinished()"
   ]
  },
  {
   "cell_type": "code",
   "execution_count": 6,
   "id": "07b8a236-7fd8-4cc6-8d74-a534c64494bf",
   "metadata": {},
   "outputs": [
    {
     "data": {
      "text/plain": [
       "'Ist Ihre Frage zum Thema Steuerbescheinigung ?'"
      ]
     },
     "execution_count": 6,
     "metadata": {},
     "output_type": "execute_result"
    }
   ],
   "source": [
    "service_clustering.generateQuestion()"
   ]
  },
  {
   "cell_type": "markdown",
   "id": "ab824f67-f8a8-418f-9e6f-bb9a74fa3afb",
   "metadata": {},
   "source": [
    "## First Iteration"
   ]
  },
  {
   "cell_type": "code",
   "execution_count": 7,
   "id": "9c85b307-aa07-4fb9-9ae1-f895fbc94da4",
   "metadata": {},
   "outputs": [
    {
     "name": "stderr",
     "output_type": "stream",
     "text": [
      "/Users/jakob/PycharmProjects/PJ-DS-Chatbot/CodingDirectory/Clustering/Modules/service_clustering_helper.py:27: SettingWithCopyWarning: \n",
      "A value is trying to be set on a copy of a slice from a DataFrame.\n",
      "Try using .loc[row_indexer,col_indexer] = value instead\n",
      "\n",
      "See the caveats in the documentation: https://pandas.pydata.org/pandas-docs/stable/user_guide/indexing.html#returning-a-view-versus-a-copy\n",
      "  df[\"cluster_label\"] = cluster_labels\n"
     ]
    }
   ],
   "source": [
    "service_clustering.refineResultset(userResponse=False)"
   ]
  },
  {
   "cell_type": "code",
   "execution_count": 8,
   "id": "1f7f7268-7739-49d5-a9c4-66713f37f2aa",
   "metadata": {},
   "outputs": [
    {
     "data": {
      "text/plain": [
       "(9, False)"
      ]
     },
     "execution_count": 8,
     "metadata": {},
     "output_type": "execute_result"
    }
   ],
   "source": [
    "len(service_clustering.df_current), service_clustering.isFinished()"
   ]
  },
  {
   "cell_type": "code",
   "execution_count": 9,
   "id": "02d453fd-6058-4d15-a8cf-e04fb919a386",
   "metadata": {},
   "outputs": [
    {
     "data": {
      "text/plain": [
       "'Ist Ihre Frage zum Thema Metallbauer ?'"
      ]
     },
     "execution_count": 9,
     "metadata": {},
     "output_type": "execute_result"
    }
   ],
   "source": [
    "service_clustering.generateQuestion()"
   ]
  },
  {
   "cell_type": "markdown",
   "id": "afee1ec8-4a9b-4553-be4e-1d1292bac191",
   "metadata": {},
   "source": [
    "## Second Iteration"
   ]
  },
  {
   "cell_type": "code",
   "execution_count": 10,
   "id": "679f63c4-84b3-4f7c-822f-b53f52ed650e",
   "metadata": {},
   "outputs": [],
   "source": [
    "service_clustering.refineResultset(userResponse=False)"
   ]
  },
  {
   "cell_type": "code",
   "execution_count": 11,
   "id": "a0781686-b985-4a3e-ac60-538ef4d9bb37",
   "metadata": {},
   "outputs": [
    {
     "data": {
      "text/plain": [
       "(3, True)"
      ]
     },
     "execution_count": 11,
     "metadata": {},
     "output_type": "execute_result"
    }
   ],
   "source": [
    "len(service_clustering.df_current), service_clustering.isFinished()"
   ]
  },
  {
   "cell_type": "code",
   "execution_count": 12,
   "id": "543ccf45-abc2-4e5c-9272-b3b6e7b9772c",
   "metadata": {},
   "outputs": [
    {
     "data": {
      "text/plain": [
       "['Antragsbescheinigung für Familienangehörige von Bürgern der EU (außer Deutschland) und des EWR',\n",
       " 'Ehefähigkeitszeugnis – Beratung, Antrag,  Ausstellung',\n",
       " 'Staatsangehörigkeitsausweis - Ausstellung']"
      ]
     },
     "execution_count": 12,
     "metadata": {},
     "output_type": "execute_result"
    }
   ],
   "source": [
    "service_clustering.get_result_string()"
   ]
  }
 ],
 "metadata": {
  "kernelspec": {
   "display_name": "pj_chatbot",
   "language": "python",
   "name": "pj_chatbot"
  },
  "language_info": {
   "codemirror_mode": {
    "name": "ipython",
    "version": 3
   },
   "file_extension": ".py",
   "mimetype": "text/x-python",
   "name": "python",
   "nbconvert_exporter": "python",
   "pygments_lexer": "ipython3",
   "version": "3.9.6"
  }
 },
 "nbformat": 4,
 "nbformat_minor": 5
}
