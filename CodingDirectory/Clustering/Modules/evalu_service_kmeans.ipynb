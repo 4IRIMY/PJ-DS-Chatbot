{
 "cells": [
  {
   "cell_type": "code",
   "execution_count": 1,
   "id": "04359c49",
   "metadata": {},
   "outputs": [],
   "source": [
    "import spacy\n",
    "import pandas as pd\n",
    "import numpy as np\n",
    "from sklearn.cluster import DBSCAN, KMeans\n",
    "import log_analyzer as lo_an\n",
    "import solrhandler as sh\n",
    "import clusterer as cls\n",
    "import topicdeterminator as td\n",
    "from service_clustering import ServiceClustering\n",
    "\n",
    "import warnings\n",
    "warnings.filterwarnings(action='ignore')"
   ]
  },
  {
   "cell_type": "code",
   "execution_count": 2,
   "id": "a3c89e1e",
   "metadata": {},
   "outputs": [],
   "source": [
    "#query = \"anmeldung\"\n",
    "#target_service = 120686"
   ]
  },
  {
   "cell_type": "code",
   "execution_count": 3,
   "id": "1ee3c99f",
   "metadata": {
    "scrolled": true
   },
   "outputs": [
    {
     "data": {
      "text/html": [
       "<div>\n",
       "<style scoped>\n",
       "    .dataframe tbody tr th:only-of-type {\n",
       "        vertical-align: middle;\n",
       "    }\n",
       "\n",
       "    .dataframe tbody tr th {\n",
       "        vertical-align: top;\n",
       "    }\n",
       "\n",
       "    .dataframe thead th {\n",
       "        text-align: right;\n",
       "    }\n",
       "</style>\n",
       "<table border=\"1\" class=\"dataframe\">\n",
       "  <thead>\n",
       "    <tr style=\"text-align: right;\">\n",
       "      <th></th>\n",
       "      <th>documentId</th>\n",
       "      <th>file</th>\n",
       "      <th>dialogId</th>\n",
       "      <th>initialQuestion</th>\n",
       "      <th>suggestionCount</th>\n",
       "      <th>directlyFound</th>\n",
       "      <th>name</th>\n",
       "    </tr>\n",
       "  </thead>\n",
       "  <tbody>\n",
       "    <tr>\n",
       "      <th>0</th>\n",
       "      <td>120697</td>\n",
       "      <td>20220131--quantEvalAllExcel.xlsx</td>\n",
       "      <td>4</td>\n",
       "      <td>Ummeldung</td>\n",
       "      <td>6</td>\n",
       "      <td>True</td>\n",
       "      <td>Änderung/Wechsel der Hauptwohnung</td>\n",
       "    </tr>\n",
       "    <tr>\n",
       "      <th>1</th>\n",
       "      <td>120686</td>\n",
       "      <td>20220131--quantEvalAllExcel.xlsx</td>\n",
       "      <td>4</td>\n",
       "      <td>Ummelden</td>\n",
       "      <td>6</td>\n",
       "      <td>True</td>\n",
       "      <td>Anmeldung einer Wohnung</td>\n",
       "    </tr>\n",
       "    <tr>\n",
       "      <th>2</th>\n",
       "      <td>329421</td>\n",
       "      <td>20220131--quantEvalAllExcel.xlsx</td>\n",
       "      <td>19</td>\n",
       "      <td>Pcr test positiv brauche ich eine Krankschreib...</td>\n",
       "      <td>6</td>\n",
       "      <td>False</td>\n",
       "      <td>Erstattung nach Infektionsschutzgesetz bei Tät...</td>\n",
       "    </tr>\n",
       "  </tbody>\n",
       "</table>\n",
       "</div>"
      ],
      "text/plain": [
       "   documentId                              file  dialogId  \\\n",
       "0      120697  20220131--quantEvalAllExcel.xlsx         4   \n",
       "1      120686  20220131--quantEvalAllExcel.xlsx         4   \n",
       "2      329421  20220131--quantEvalAllExcel.xlsx        19   \n",
       "\n",
       "                                     initialQuestion  suggestionCount  \\\n",
       "0                                          Ummeldung                6   \n",
       "1                                           Ummelden                6   \n",
       "2  Pcr test positiv brauche ich eine Krankschreib...                6   \n",
       "\n",
       "   directlyFound                                               name  \n",
       "0           True                  Änderung/Wechsel der Hauptwohnung  \n",
       "1           True                            Anmeldung einer Wohnung  \n",
       "2          False  Erstattung nach Infektionsschutzgesetz bei Tät...  "
      ]
     },
     "execution_count": 3,
     "metadata": {},
     "output_type": "execute_result"
    }
   ],
   "source": [
    "# Import eval.csv\n",
    "import os\n",
    "file = os.path.realpath(\"../../../Evaluierung/eval.csv\")\n",
    "eval = pd.read_csv(file, sep = \";\")\n",
    "#eval = eval.head(3)\n",
    "eval.head(20)"
   ]
  },
  {
   "cell_type": "code",
   "execution_count": 4,
   "id": "84f58b92",
   "metadata": {},
   "outputs": [],
   "source": [
    "#eval.iloc[2][\"initialQuestion\"]"
   ]
  },
  {
   "cell_type": "markdown",
   "id": "95e8f116",
   "metadata": {},
   "source": [
    "Funktionen"
   ]
  },
  {
   "cell_type": "code",
   "execution_count": 5,
   "id": "9a28956d",
   "metadata": {},
   "outputs": [],
   "source": [
    "def findCorrectAnswer(chatbot,targetService):\n",
    "    \n",
    "    # Find Target Cluster\n",
    "    clusteredColumn = \"cluster_label\"\n",
    "    service = chatbot.df_current.loc[chatbot.df_current[\"id\"]==str(targetService)]\n",
    "    if 'cluster_label' not in service.columns:\n",
    "        return None\n",
    "    \n",
    "    if len(service[clusteredColumn].values) == 0:\n",
    "        return None\n",
    "\n",
    "    targetCluster = service[clusteredColumn].values[0]\n",
    "    \n",
    "    if targetCluster == chatbot.max_cluster_label_current:\n",
    "        return True\n",
    "\n",
    "    else:\n",
    "        return False\n",
    "\n",
    "def getRank(chatbot, targetService):\n",
    "    temp = chatbot.df_current.reset_index()\n",
    "    try:\n",
    "        rank = temp.index[temp[\"id\"]==str(targetService)].values[0]\n",
    "    except IndexError as e:\n",
    "        return float(\"NaN\")\n",
    "    return rank + 1"
   ]
  },
  {
   "cell_type": "markdown",
   "id": "67174d82",
   "metadata": {},
   "source": [
    "Logging"
   ]
  },
  {
   "cell_type": "code",
   "execution_count": 6,
   "id": "7cb93a10",
   "metadata": {},
   "outputs": [],
   "source": [
    "class Logger:\n",
    "    \n",
    "    def __init__(self, eval_df):\n",
    "        self.liste = []\n",
    "        self.eval_df = eval_df\n",
    "        self.chatbot = None\n",
    "    \n",
    "    def getDataFrame(self): # TODO\n",
    "        pass\n",
    "    \n",
    "    def setChatbot(self, chatbot):\n",
    "        self.chatbot = chatbot\n",
    "    \n",
    "    def log(self, ID, t, row, answer = None, initialQuery = False): \n",
    "        target_service = row[\"documentId\"]\n",
    "        #print(ID)\n",
    "        #print(t)\n",
    "        #print(answer)\n",
    "       \n",
    "        dialogId = row[\"dialogId\"]\n",
    "        file = row[\"file\"]\n",
    "        \n",
    "        service_name = row[\"name\"]\n",
    "        query = row[\"initialQuestion\"]\n",
    "        if initialQuery==True:\n",
    "            nResults = len(self.chatbot.df_current.index)\n",
    "            rank = getRank(self.chatbot,target_service)# getRank(target_service)\n",
    "            \n",
    "            row = (file, dialogId, ID, t, service_name, query, \"initialQuery\", None, rank, nResults)\n",
    "        else:\n",
    "            if answer is not None:\n",
    "\n",
    "                \n",
    "                nResults = len(self.chatbot.df_current.index)\n",
    "                question = self.chatbot.generateQuestion()\n",
    "                answer = answer\n",
    "\n",
    "                rank = getRank(self.chatbot,target_service)# getRank(target_service)\n",
    "\n",
    "                row = (file, dialogId, ID, t,  service_name, query, question, answer, rank, nResults)\n",
    "\n",
    "            else:\n",
    "                row = (file, dialogId, ID, t, service_name, query, None, None, None, None)\n",
    "        self.liste.append(row)\n",
    "        #print(self.liste)"
   ]
  },
  {
   "cell_type": "markdown",
   "id": "c74650fa",
   "metadata": {},
   "source": [
    "TEST"
   ]
  },
  {
   "cell_type": "code",
   "execution_count": null,
   "id": "9d354f14",
   "metadata": {},
   "outputs": [],
   "source": [
    "\n",
    "\n",
    "\n",
    "\n"
   ]
  },
  {
   "cell_type": "markdown",
   "id": "bbed759e",
   "metadata": {},
   "source": [
    "Execution"
   ]
  },
  {
   "cell_type": "code",
   "execution_count": 7,
   "id": "7356eda4",
   "metadata": {},
   "outputs": [],
   "source": [
    "kmeans = KMeans(n_clusters=2)\n",
    "#chatbot= ServiceClustering(query, kmeans, max_results=3)"
   ]
  },
  {
   "cell_type": "code",
   "execution_count": 8,
   "id": "d8021f0f",
   "metadata": {},
   "outputs": [],
   "source": [
    "# Initialisierung Komponenten Chatbot\n",
    "#solrhandler = sh.SolrHandler(1000)\n",
    "#clusterer = cls.Clusterer()\n",
    "#tpc_dterminator = td.TopicDeterminator()\n",
    "\n",
    "from sklearn.cluster import DBSCAN\n"
   ]
  },
  {
   "cell_type": "code",
   "execution_count": 9,
   "id": "9d224d28",
   "metadata": {
    "scrolled": true
   },
   "outputs": [
    {
     "name": "stdout",
     "output_type": "stream",
     "text": [
      "0\n",
      "1\n",
      "2\n"
     ]
    }
   ],
   "source": [
    "# Experiment durchlaufen und Loggen\n",
    "lg = Logger(eval_df = eval)   \n",
    "\n",
    "for (ID, row) in eval.iterrows():\n",
    "    print(ID)\n",
    "    query = row[\"initialQuestion\"]\n",
    "    target_service = row[\"documentId\"]\n",
    "    t = 0\n",
    "    \n",
    "    # Chatbot initialisieren\n",
    "    try: # 1.3\n",
    "        chatbot =  ServiceClustering(query, kmeans, max_results=1)\n",
    "    \n",
    "    # Fehler überspringen: eg. kein solr output\n",
    "    except Exception as e: \n",
    "        if(str(e) == 'response'): # TODO ??\n",
    "            print(e)\n",
    "            next\n",
    "        elif(str(e) == 'no solr output'):\n",
    "            print(e)\n",
    "            next\n",
    "        elif(str(e) == 'cluster_label'):\n",
    "            print(e)\n",
    "            next    \n",
    "        else:\n",
    "            print(e)\n",
    "            next\n",
    "            \n",
    "            \n",
    "    lg.setChatbot(chatbot)\n",
    "    \n",
    "    \n",
    "    answer = findCorrectAnswer(chatbot, target_service)\n",
    "    \n",
    "    if answer is None: # service nicht in resultset, überspringen\n",
    "        next\n",
    "    lg.log(ID,t, row, answer, initialQuery = True)\n",
    "    \n",
    "    while not chatbot.isFinished():#chatbot.refineResultset(answer, recluster = True):\n",
    "        \n",
    "        # log\n",
    "        t += 1\n",
    "        \n",
    "#         print(ID)\n",
    "#         print(t)\n",
    "#         print(np.unique(chatbot.df[\"ssdsLemma_cluster\"]))\n",
    "#         print(\"\")\n",
    "        \n",
    "        chatbot.refineResultset(answer)\n",
    "        answer = findCorrectAnswer(chatbot, target_service)\n",
    "        \n",
    "        if answer is None: \n",
    "            break\n",
    "        lg.log(ID, t, row,answer)\n",
    "        \n",
    "        #print(chatbot.clusterer.clustering_algorithm.eps)"
   ]
  },
  {
   "cell_type": "code",
   "execution_count": 10,
   "id": "5e8b4b08",
   "metadata": {
    "scrolled": true
   },
   "outputs": [],
   "source": [
    "log_df = pd.DataFrame(lg.liste, columns=[\"file\",\"dialogId\", \"ID\",\"t\", \"name\", \"query\", \"question\", \"answer\", \"rank\", \"nResult\"])\n",
    "log_df.to_csv(\"service_clus_kmeans_n1.csv\")"
   ]
  },
  {
   "cell_type": "markdown",
   "id": "56275542",
   "metadata": {},
   "source": [
    "Log Analyzer"
   ]
  },
  {
   "cell_type": "code",
   "execution_count": null,
   "id": "6ebe8f82",
   "metadata": {},
   "outputs": [],
   "source": []
  },
  {
   "cell_type": "code",
   "execution_count": 11,
   "id": "471f1a7b",
   "metadata": {},
   "outputs": [],
   "source": [
    "log_analyzer=lo_an.Log_Analyzer(log_df)\n",
    "results=log_analyzer.run_it()"
   ]
  },
  {
   "cell_type": "code",
   "execution_count": 12,
   "id": "2aaae299",
   "metadata": {},
   "outputs": [
    {
     "data": {
      "text/plain": [
       "{'Mean Turns': 2.3333333333333335,\n",
       " '90-percentile Turns': 4.4,\n",
       " '75% quantile Turns': 3.5,\n",
       " '25% quantile Turns': 1.0,\n",
       " 'Mean nResults Reduct': 0.44827315541601254,\n",
       " 'Harmonic mean nResult Reduct': 0.39622641509433965,\n",
       " 'Mean delta nResults': 2.5714285714285716,\n",
       " 'Mean delta Rank': 0.7142857142857143,\n",
       " 'Median Turns': 2.0,\n",
       " 'Max Turns needed': 5,\n",
       " 'Mean information gain': 0.9296849485998138}"
      ]
     },
     "execution_count": 12,
     "metadata": {},
     "output_type": "execute_result"
    }
   ],
   "source": [
    "results[3]"
   ]
  },
  {
   "cell_type": "markdown",
   "id": "980cff95",
   "metadata": {},
   "source": [
    "Statistics ( Alt)"
   ]
  },
  {
   "cell_type": "code",
   "execution_count": 13,
   "id": "6104dcba",
   "metadata": {},
   "outputs": [],
   "source": [
    "# avg Rank Improvement in turn t\n",
    "#log_df[\"delta_Rank\"] = log_df.groupby([\"ID\"])[\"rank\"].diff()\n",
    "#log_df.groupby([\"t\"])[\"rank_improvement\"].mean()"
   ]
  },
  {
   "cell_type": "code",
   "execution_count": 14,
   "id": "dd47ec99",
   "metadata": {},
   "outputs": [],
   "source": [
    "# avg nSuggestions Improvement in turn t\n",
    "#log_df[\"delta_nResults\"] = log_df.groupby([\"ID\"])[\"nResults\"].diff()\n",
    "#log_df.groupby([\"t\"])[\"sugg_improvement\"].mean()"
   ]
  },
  {
   "cell_type": "code",
   "execution_count": 15,
   "id": "afe3cce7",
   "metadata": {
    "scrolled": true
   },
   "outputs": [],
   "source": [
    "# MRR ohne cluster refinement\n",
    "#df = log_df.loc[log_df[\"t\"] == 1]\n",
    "#MRR_ohne = 1/(df[\"rank\"].mean())\n",
    "#MRR_ohne"
   ]
  },
  {
   "cell_type": "code",
   "execution_count": 16,
   "id": "c1d75122",
   "metadata": {},
   "outputs": [],
   "source": [
    "# MRR mit cluster refinement\n",
    "#df = log_df.groupby([\"ID\"]).last(\"t\")\n",
    "#MRR_mit = 1/(df[\"rank\"].mean())\n",
    "#MRR_mit\n",
    "#df.head()"
   ]
  },
  {
   "cell_type": "code",
   "execution_count": 17,
   "id": "fe13ce4a",
   "metadata": {},
   "outputs": [],
   "source": [
    "# avg Turns\n",
    "#print(log_df[\"t\"].mean())\n",
    "\n",
    "# bei durchschnittlich nResults\n",
    "#print(log_df.groupby([\"ID\"]).last(\"t\")[\"nResults\"].mean())"
   ]
  },
  {
   "cell_type": "code",
   "execution_count": 18,
   "id": "5c42fb08",
   "metadata": {},
   "outputs": [],
   "source": [
    "#log_df.head(20)"
   ]
  }
 ],
 "metadata": {
  "kernelspec": {
   "display_name": "Python 3",
   "language": "python",
   "name": "python3"
  },
  "language_info": {
   "codemirror_mode": {
    "name": "ipython",
    "version": 3
   },
   "file_extension": ".py",
   "mimetype": "text/x-python",
   "name": "python",
   "nbconvert_exporter": "python",
   "pygments_lexer": "ipython3",
   "version": "3.8.8"
  }
 },
 "nbformat": 4,
 "nbformat_minor": 5
}
