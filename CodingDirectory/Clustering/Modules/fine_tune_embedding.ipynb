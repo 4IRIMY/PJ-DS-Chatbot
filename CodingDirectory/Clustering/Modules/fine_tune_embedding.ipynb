{
 "cells": [
  {
   "cell_type": "code",
   "execution_count": 38,
   "id": "535f481f-675b-4601-9d73-930b67ea7a07",
   "metadata": {},
   "outputs": [],
   "source": [
    "from gensim.models import KeyedVectors, Word2Vec\n",
    "import spacy\n",
    "import numpy as np\n",
    "import re\n",
    "from itertools import chain\n",
    "from sklearn.cluster import DBSCAN\n",
    "\n",
    "from solrhandler import SolrHandler"
   ]
  },
  {
   "cell_type": "markdown",
   "id": "ff613ab0-34b1-4be8-8be5-fccc1f0b3746",
   "metadata": {},
   "source": [
    "## Helper"
   ]
  },
  {
   "cell_type": "code",
   "execution_count": 2,
   "id": "67658b05-6920-4793-9dfd-ad401b6bf242",
   "metadata": {},
   "outputs": [],
   "source": [
    "def preprocess_text(text, nlp_model):\n",
    "    text = re.sub(\"<[^<]+?>\", \" \", text)\n",
    "    text = text.replace(\"\\n\", \" \") \n",
    "    text = \" \".join(text.split())\n",
    "    doc = nlp_model(text)\n",
    "    return [[tok.lower_ for tok in sent if tok.is_alpha] for sent in doc.sents]"
   ]
  },
  {
   "cell_type": "code",
   "execution_count": 3,
   "id": "8d96bde1-5a0c-41af-9438-6d0d0decb94a",
   "metadata": {},
   "outputs": [],
   "source": [
    "def has_vec_for_word(word, model):\n",
    "    try:\n",
    "        model[word]\n",
    "    except:\n",
    "        return False\n",
    "    return True"
   ]
  },
  {
   "cell_type": "code",
   "execution_count": 39,
   "id": "54ce4c76-d2b2-4ea2-bda6-e31caea8a076",
   "metadata": {},
   "outputs": [],
   "source": [
    "def get_clusters(kewords, vecs, clustering):\n",
    "    labels = clustering.fit_predict(vecs)\n",
    "    elems = [(keword, label) for keword, label in zip(kewords, labels)]\n",
    "    clusters = [[el[0] for el in elems if el[1] == i] for i in range(len(set(labels)))]\n",
    "    return clusters"
   ]
  },
  {
   "cell_type": "markdown",
   "id": "2e7a724d-4915-4ed2-b347-1ad00ddf6c8e",
   "metadata": {},
   "source": [
    "## Preparation"
   ]
  },
  {
   "cell_type": "code",
   "execution_count": 4,
   "id": "63dbb07d-5214-4dc1-a6c5-67ee1b5f25aa",
   "metadata": {},
   "outputs": [],
   "source": [
    "path2base_model = \"/Users/jakob/Downloads/german.model\""
   ]
  },
  {
   "cell_type": "code",
   "execution_count": 5,
   "id": "8c81d440-e511-464f-bf38-61fe55c699a0",
   "metadata": {},
   "outputs": [],
   "source": [
    "nlp = spacy.load(\"de_core_news_sm\")"
   ]
  },
  {
   "cell_type": "code",
   "execution_count": 6,
   "id": "6e6e7f11-2b71-4cc4-8702-831d07ee1810",
   "metadata": {},
   "outputs": [],
   "source": [
    "handler = SolrHandler(max_elems=20000)\n",
    "df = handler.get_df_from_query(\"*%3A*\")"
   ]
  },
  {
   "cell_type": "code",
   "execution_count": 7,
   "id": "f10a2435-e357-4e0d-b6e5-bad8ddf7fcf8",
   "metadata": {},
   "outputs": [],
   "source": [
    "descriptions = df.d115Description.tolist()\n",
    "descriptions_preprocessed = list(chain(*[preprocess_text(d, nlp) for d in descriptions]))"
   ]
  },
  {
   "cell_type": "code",
   "execution_count": 8,
   "id": "a3c1687d-e648-4651-8652-35a61472a5bc",
   "metadata": {},
   "outputs": [
    {
     "data": {
      "text/plain": [
       "6443"
      ]
     },
     "execution_count": 8,
     "metadata": {},
     "output_type": "execute_result"
    }
   ],
   "source": [
    "keywords = set(chain(*df.ssdsLemma.tolist()))\n",
    "len(keywords)"
   ]
  },
  {
   "cell_type": "markdown",
   "id": "b0cd948d-b659-440f-85d1-4beeba7d9648",
   "metadata": {},
   "source": [
    "## Code"
   ]
  },
  {
   "cell_type": "markdown",
   "id": "d85c0ead-4913-4cf7-bd91-887f3a716d06",
   "metadata": {},
   "source": [
    "### Base Model"
   ]
  },
  {
   "cell_type": "code",
   "execution_count": 9,
   "id": "79988c4c-8014-4149-9ea2-32c5e85c755f",
   "metadata": {},
   "outputs": [],
   "source": [
    "model_base = KeyedVectors.load_word2vec_format(path2base_model, binary=True)"
   ]
  },
  {
   "cell_type": "code",
   "execution_count": 10,
   "id": "bdea7506-3582-4713-9cf7-877da427df9f",
   "metadata": {},
   "outputs": [
    {
     "data": {
      "text/plain": [
       "922"
      ]
     },
     "execution_count": 10,
     "metadata": {},
     "output_type": "execute_result"
    }
   ],
   "source": [
    "keywords_vectorizable_base = [tok for tok in keywords if has_vec_for_word(tok, model_base)]\n",
    "len(keywords_vectorizable_base)"
   ]
  },
  {
   "cell_type": "markdown",
   "id": "66b3f60a-be0b-4e50-bea3-7375cad0aa7f",
   "metadata": {},
   "source": [
    "### Fine-Tuned Model"
   ]
  },
  {
   "cell_type": "code",
   "execution_count": 11,
   "id": "d8ede2ae-41b0-48d2-924b-57b44a74dc70",
   "metadata": {},
   "outputs": [],
   "source": [
    "model_tuned = Word2Vec(descriptions_preprocessed, vector_size=300, min_count=1)"
   ]
  },
  {
   "cell_type": "code",
   "execution_count": 12,
   "id": "d76cf797-eb64-4ac6-b0de-a762ee0f4c9f",
   "metadata": {},
   "outputs": [],
   "source": [
    "model_tuned.build_vocab(descriptions_preprocessed)"
   ]
  },
  {
   "cell_type": "code",
   "execution_count": 13,
   "id": "e2138a22-5f73-4873-ba01-a39d736f352b",
   "metadata": {},
   "outputs": [],
   "source": [
    "total_examples = model_tuned.corpus_count"
   ]
  },
  {
   "cell_type": "code",
   "execution_count": 14,
   "id": "7fc6cb76-08a3-4fff-9a9c-16abeaa18971",
   "metadata": {},
   "outputs": [],
   "source": [
    "model_tuned.wv.vectors_lockf = np.ones(len(model_tuned.wv))"
   ]
  },
  {
   "cell_type": "code",
   "execution_count": 15,
   "id": "fafe776f-d615-4ebf-a178-bf7aec7cb745",
   "metadata": {},
   "outputs": [],
   "source": [
    "model_tuned.wv.intersect_word2vec_format(path2base_model, binary=True, lockf=1.0)"
   ]
  },
  {
   "cell_type": "code",
   "execution_count": 16,
   "id": "313a4381-05aa-4990-a7ce-7b628a4beae0",
   "metadata": {},
   "outputs": [
    {
     "data": {
      "text/plain": [
       "(146263, 191848)"
      ]
     },
     "execution_count": 16,
     "metadata": {},
     "output_type": "execute_result"
    }
   ],
   "source": [
    "model_tuned.train(descriptions_preprocessed, total_examples=total_examples, epochs=2)"
   ]
  },
  {
   "cell_type": "code",
   "execution_count": 17,
   "id": "d82b7ba5-d2a5-46ea-8e0e-bdcf24561c79",
   "metadata": {},
   "outputs": [
    {
     "data": {
      "text/plain": [
       "2571"
      ]
     },
     "execution_count": 17,
     "metadata": {},
     "output_type": "execute_result"
    }
   ],
   "source": [
    "keywords_vectorizable_tuned = [tok for tok in keywords if has_vec_for_word(tok, model_tuned.wv)]\n",
    "len(keywords_vectorizable_tuned)"
   ]
  },
  {
   "cell_type": "markdown",
   "id": "307f26d7-57d3-4978-992d-8a6dba6bd248",
   "metadata": {},
   "source": [
    "### Test Clustering"
   ]
  },
  {
   "cell_type": "code",
   "execution_count": 23,
   "id": "ecfe7fc3-7ca3-47fd-a827-646303a67f91",
   "metadata": {},
   "outputs": [],
   "source": [
    "vecs = model_tuned.wv[keywords_vectorizable_tuned]"
   ]
  },
  {
   "cell_type": "code",
   "execution_count": 60,
   "id": "81c22100-1f84-405d-a3ba-f92033b8d2d3",
   "metadata": {},
   "outputs": [],
   "source": [
    "clustering = DBSCAN(eps=.07, min_samples=1, metric=\"cosine\")"
   ]
  },
  {
   "cell_type": "code",
   "execution_count": 61,
   "id": "bb48a607-e7d8-45e4-b544-a5f5022612ff",
   "metadata": {},
   "outputs": [
    {
     "data": {
      "text/plain": [
       "923"
      ]
     },
     "execution_count": 61,
     "metadata": {},
     "output_type": "execute_result"
    }
   ],
   "source": [
    "clusters = get_clusters(keywords_vectorizable_tuned, vecs, clustering)\n",
    "len(clusters)"
   ]
  },
  {
   "cell_type": "code",
   "execution_count": 64,
   "id": "df400043-e44b-4206-9cde-95490e9a6db5",
   "metadata": {},
   "outputs": [
    {
     "data": {
      "text/plain": [
       "True"
      ]
     },
     "execution_count": 64,
     "metadata": {},
     "output_type": "execute_result"
    }
   ],
   "source": [
    "len([c for c in clusters if len(c) > 1][0]) + len(keywords_vectorizable_base) == len(keywords_vectorizable_tuned)"
   ]
  }
 ],
 "metadata": {
  "kernelspec": {
   "display_name": "pj_chatbot",
   "language": "python",
   "name": "pj_chatbot"
  },
  "language_info": {
   "codemirror_mode": {
    "name": "ipython",
    "version": 3
   },
   "file_extension": ".py",
   "mimetype": "text/x-python",
   "name": "python",
   "nbconvert_exporter": "python",
   "pygments_lexer": "ipython3",
   "version": "3.9.6"
  }
 },
 "nbformat": 4,
 "nbformat_minor": 5
}
