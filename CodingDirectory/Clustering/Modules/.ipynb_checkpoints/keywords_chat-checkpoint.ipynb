{
 "cells": [
  {
   "cell_type": "code",
   "execution_count": 1,
   "id": "60c45c87",
   "metadata": {},
   "outputs": [],
   "source": [
    "from keyword_check import Keyword_check"
   ]
  },
  {
   "cell_type": "code",
   "execution_count": 2,
   "id": "f7467baf",
   "metadata": {},
   "outputs": [],
   "source": [
    "from keyword_check import *"
   ]
  },
  {
   "cell_type": "code",
   "execution_count": 3,
   "id": "767df6bb",
   "metadata": {},
   "outputs": [],
   "source": [
    "import os\n",
    "from urllib.parse import parse_qs\n",
    "import IPython.display\n",
    "import ipywidgets as wg\n",
    "from ipywidgets import interact, interactive, fixed, interact_manual\n",
    "from IPython.display import display\n",
    "\n",
    "\n"
   ]
  },
  {
   "cell_type": "code",
   "execution_count": 4,
   "id": "cecf35ec",
   "metadata": {},
   "outputs": [],
   "source": [
    "keywords= Keyword_check()"
   ]
  },
  {
   "cell_type": "code",
   "execution_count": 5,
   "id": "9c5195de",
   "metadata": {},
   "outputs": [],
   "source": [
    "def conversation(result_length=2,col_name=\"ssdsLemma\"):\n",
    "    print(\"Hallo mein Name ist Nobbi (noch besserer Bobbi), wie kann ich Ihnen behilflich sein? \")\n",
    "    query=input()    \n",
    "    df,occ,freq,words,index=keywords.initial_conversation(query,col_name,result_length)        \n",
    "    while type(index) == int:\n",
    "        print(\"Hat Ihr Anliegen etwas mit \" +words[index]+\" zu tun? \")\n",
    "        antwort=input()\n",
    "        if antwort == \"ja\":\n",
    "            keywords.refrain_results(index,1)\n",
    "            index=keywords.next_question()\n",
    "        elif antwort == \"nein\":\n",
    "            keywords.refrain_results(index,0)\n",
    "            index=keywords.next_question()\n",
    "        else:\n",
    "            print(\"Das habe ich leider nicht verstanden. Könnten Sie es wiederhohlen? \")\n",
    "    print(\"Diese Ergebnisse habe ich gefunden:\")\n",
    "    print(index)        "
   ]
  },
  {
   "cell_type": "code",
   "execution_count": null,
   "id": "50504f77",
   "metadata": {},
   "outputs": [],
   "source": [
    "def conversation_multi(choices,result_length=2,col_name=\"ssdsLemma\"):\n",
    "    print(\"Hallo mein Name ist Nobbi (noch besserer Bobbi), wie kann ich Ihnen behilflich sein? \")\n",
    "    query=input()    \n",
    "    df,occ,freq,words,index=keywords.initial_conversation(query,col_name,result_length)        \n",
    "    while type(index) == int:\n",
    "        print(\"Hat Ihr Anliegen etwas mit \" +words[index]+\" zu tun? \")\n",
    "        antwort=input()\n",
    "        if antwort == \"ja\":\n",
    "            keywords.refrain_results(index,1)\n",
    "            index=keywords.next_question()\n",
    "        elif antwort == \"nein\":\n",
    "            keywords.refrain_results(index,0)\n",
    "            index=keywords.next_question()\n",
    "        else:\n",
    "            print(\"Das habe ich leider nicht verstanden. Könnten Sie es wiederhohlen? \")\n",
    "    print(\"Diese Ergebnisse habe ich gefunden:\")\n",
    "    print(index)"
   ]
  },
  {
   "cell_type": "code",
   "execution_count": 6,
   "id": "50d6f727",
   "metadata": {},
   "outputs": [
    {
     "name": "stdout",
     "output_type": "stream",
     "text": [
      "Hallo mein Name ist Nobbi (noch besserer Bobbi), wie kann ich Ihnen behilflich sein? \n",
      "hallo\n"
     ]
    },
    {
     "ename": "Exception",
     "evalue": "Empty query result!",
     "output_type": "error",
     "traceback": [
      "\u001b[1;31m---------------------------------------------------------------------------\u001b[0m",
      "\u001b[1;31mException\u001b[0m                                 Traceback (most recent call last)",
      "\u001b[1;32m<ipython-input-6-873339a0298e>\u001b[0m in \u001b[0;36m<module>\u001b[1;34m\u001b[0m\n\u001b[1;32m----> 1\u001b[1;33m \u001b[0mconversation\u001b[0m\u001b[1;33m(\u001b[0m\u001b[1;36m4\u001b[0m\u001b[1;33m)\u001b[0m\u001b[1;33m\u001b[0m\u001b[1;33m\u001b[0m\u001b[0m\n\u001b[0m",
      "\u001b[1;32m<ipython-input-5-a2ff8c4cc0a4>\u001b[0m in \u001b[0;36mconversation\u001b[1;34m(result_length, col_name)\u001b[0m\n\u001b[0;32m      2\u001b[0m     \u001b[0mprint\u001b[0m\u001b[1;33m(\u001b[0m\u001b[1;34m\"Hallo mein Name ist Nobbi (noch besserer Bobbi), wie kann ich Ihnen behilflich sein? \"\u001b[0m\u001b[1;33m)\u001b[0m\u001b[1;33m\u001b[0m\u001b[1;33m\u001b[0m\u001b[0m\n\u001b[0;32m      3\u001b[0m     \u001b[0mquery\u001b[0m\u001b[1;33m=\u001b[0m\u001b[0minput\u001b[0m\u001b[1;33m(\u001b[0m\u001b[1;33m)\u001b[0m\u001b[1;33m\u001b[0m\u001b[1;33m\u001b[0m\u001b[0m\n\u001b[1;32m----> 4\u001b[1;33m     \u001b[0mdf\u001b[0m\u001b[1;33m,\u001b[0m\u001b[0mocc\u001b[0m\u001b[1;33m,\u001b[0m\u001b[0mfreq\u001b[0m\u001b[1;33m,\u001b[0m\u001b[0mwords\u001b[0m\u001b[1;33m,\u001b[0m\u001b[0mindex\u001b[0m\u001b[1;33m=\u001b[0m\u001b[0mkeywords\u001b[0m\u001b[1;33m.\u001b[0m\u001b[0minitial_conversation\u001b[0m\u001b[1;33m(\u001b[0m\u001b[0mquery\u001b[0m\u001b[1;33m,\u001b[0m\u001b[0mcol_name\u001b[0m\u001b[1;33m,\u001b[0m\u001b[0mresult_length\u001b[0m\u001b[1;33m)\u001b[0m\u001b[1;33m\u001b[0m\u001b[1;33m\u001b[0m\u001b[0m\n\u001b[0m\u001b[0;32m      5\u001b[0m     \u001b[1;32mwhile\u001b[0m \u001b[0mtype\u001b[0m\u001b[1;33m(\u001b[0m\u001b[0mindex\u001b[0m\u001b[1;33m)\u001b[0m \u001b[1;33m==\u001b[0m \u001b[0mint\u001b[0m\u001b[1;33m:\u001b[0m\u001b[1;33m\u001b[0m\u001b[1;33m\u001b[0m\u001b[0m\n\u001b[0;32m      6\u001b[0m         \u001b[0mprint\u001b[0m\u001b[1;33m(\u001b[0m\u001b[1;34m\"Hat Ihr Anliegen etwas mit \"\u001b[0m \u001b[1;33m+\u001b[0m\u001b[0mwords\u001b[0m\u001b[1;33m[\u001b[0m\u001b[0mindex\u001b[0m\u001b[1;33m]\u001b[0m\u001b[1;33m+\u001b[0m\u001b[1;34m\" zu tun? \"\u001b[0m\u001b[1;33m)\u001b[0m\u001b[1;33m\u001b[0m\u001b[1;33m\u001b[0m\u001b[0m\n",
      "\u001b[1;32m~\\Desktop\\GitDS\\PJ-DS-Chatbot\\CodingDirectory\\Clustering\\Modules\\keyword_check.py\u001b[0m in \u001b[0;36minitial_conversation\u001b[1;34m(self, query, col_name, result_list_length)\u001b[0m\n\u001b[0;32m    128\u001b[0m     \u001b[1;32mdef\u001b[0m \u001b[0minitial_conversation\u001b[0m\u001b[1;33m(\u001b[0m\u001b[0mself\u001b[0m\u001b[1;33m,\u001b[0m \u001b[0mquery\u001b[0m\u001b[1;33m,\u001b[0m\u001b[0mcol_name\u001b[0m\u001b[1;33m=\u001b[0m\u001b[1;34m\"ssdsLemma\"\u001b[0m\u001b[1;33m,\u001b[0m\u001b[0mresult_list_length\u001b[0m\u001b[1;33m=\u001b[0m\u001b[1;36m2\u001b[0m\u001b[1;33m)\u001b[0m\u001b[1;33m:\u001b[0m\u001b[1;33m\u001b[0m\u001b[1;33m\u001b[0m\u001b[0m\n\u001b[0;32m    129\u001b[0m         \u001b[1;31m#initial query & first keyword\u001b[0m\u001b[1;33m\u001b[0m\u001b[1;33m\u001b[0m\u001b[1;33m\u001b[0m\u001b[0m\n\u001b[1;32m--> 130\u001b[1;33m         \u001b[0mself\u001b[0m\u001b[1;33m.\u001b[0m\u001b[0mdf\u001b[0m \u001b[1;33m=\u001b[0m \u001b[0mquery_init_keywords\u001b[0m\u001b[1;33m(\u001b[0m\u001b[0mquery\u001b[0m\u001b[1;33m,\u001b[0m \u001b[0mcol_name\u001b[0m\u001b[1;33m)\u001b[0m\u001b[1;33m\u001b[0m\u001b[1;33m\u001b[0m\u001b[0m\n\u001b[0m\u001b[0;32m    131\u001b[0m         \u001b[0mself\u001b[0m\u001b[1;33m.\u001b[0m\u001b[0mresult_length\u001b[0m\u001b[1;33m=\u001b[0m\u001b[0mresult_list_length\u001b[0m\u001b[1;33m\u001b[0m\u001b[1;33m\u001b[0m\u001b[0m\n\u001b[0;32m    132\u001b[0m         \u001b[1;32mif\u001b[0m \u001b[1;33m(\u001b[0m\u001b[0mlen\u001b[0m\u001b[1;33m(\u001b[0m\u001b[0mself\u001b[0m\u001b[1;33m.\u001b[0m\u001b[0mdf\u001b[0m\u001b[1;33m)\u001b[0m\u001b[1;33m==\u001b[0m\u001b[1;36m0\u001b[0m\u001b[1;33m)\u001b[0m\u001b[1;33m:\u001b[0m\u001b[1;33m\u001b[0m\u001b[1;33m\u001b[0m\u001b[0m\n",
      "\u001b[1;32m~\\Desktop\\GitDS\\PJ-DS-Chatbot\\CodingDirectory\\Clustering\\Modules\\keyword_check.py\u001b[0m in \u001b[0;36mquery_init_keywords\u001b[1;34m(query, col_name, number)\u001b[0m\n\u001b[0;32m     37\u001b[0m     \u001b[0mdf\u001b[0m\u001b[1;33m=\u001b[0m\u001b[0mget_df_from_json\u001b[0m\u001b[1;33m(\u001b[0m\u001b[0mjson_file\u001b[0m\u001b[1;33m)\u001b[0m\u001b[1;33m\u001b[0m\u001b[1;33m\u001b[0m\u001b[0m\n\u001b[0;32m     38\u001b[0m     \u001b[1;32mif\u001b[0m \u001b[1;33m(\u001b[0m\u001b[0mlen\u001b[0m\u001b[1;33m(\u001b[0m\u001b[0mdf\u001b[0m\u001b[1;33m)\u001b[0m \u001b[1;33m==\u001b[0m \u001b[1;36m0\u001b[0m\u001b[1;33m)\u001b[0m\u001b[1;33m:\u001b[0m\u001b[1;33m\u001b[0m\u001b[1;33m\u001b[0m\u001b[0m\n\u001b[1;32m---> 39\u001b[1;33m         \u001b[1;32mraise\u001b[0m \u001b[0mException\u001b[0m\u001b[1;33m(\u001b[0m\u001b[1;34m\"Empty query result!\"\u001b[0m\u001b[1;33m)\u001b[0m\u001b[1;33m\u001b[0m\u001b[1;33m\u001b[0m\u001b[0m\n\u001b[0m\u001b[0;32m     40\u001b[0m         \u001b[1;32mreturn\u001b[0m \u001b[1;32mFalse\u001b[0m\u001b[1;33m\u001b[0m\u001b[1;33m\u001b[0m\u001b[0m\n\u001b[0;32m     41\u001b[0m     \u001b[1;32mif\u001b[0m \u001b[0mcol_name\u001b[0m \u001b[1;32mnot\u001b[0m \u001b[1;32min\u001b[0m \u001b[0mdf\u001b[0m\u001b[1;33m:\u001b[0m\u001b[1;33m\u001b[0m\u001b[1;33m\u001b[0m\u001b[0m\n",
      "\u001b[1;31mException\u001b[0m: Empty query result!"
     ]
    }
   ],
   "source": [
    "conversation(4)"
   ]
  },
  {
   "cell_type": "code",
   "execution_count": null,
   "id": "8b7991ba",
   "metadata": {},
   "outputs": [],
   "source": []
  }
 ],
 "metadata": {
  "kernelspec": {
   "display_name": "Python 3 (ipykernel)",
   "language": "python",
   "name": "python3"
  },
  "language_info": {
   "codemirror_mode": {
    "name": "ipython",
    "version": 3
   },
   "file_extension": ".py",
   "mimetype": "text/x-python",
   "name": "python",
   "nbconvert_exporter": "python",
   "pygments_lexer": "ipython3",
   "version": "3.7.10"
  }
 },
 "nbformat": 4,
 "nbformat_minor": 5
}
