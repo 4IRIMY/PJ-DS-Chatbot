{
 "cells": [
  {
   "cell_type": "code",
   "execution_count": 1,
   "metadata": {},
   "outputs": [],
   "source": [
    "import spacy\n",
    "import pandas as pd\n",
    "\n",
    "import solrhandler as sh\n",
    "import clusterer as cls\n",
    "import topicdeterminator as td\n",
    "import chatbot as cb"
   ]
  },
  {
   "cell_type": "code",
   "execution_count": 2,
   "metadata": {},
   "outputs": [],
   "source": [
    "query = \"Ummeldung\"\n",
    "target_service = 120697\n",
    "\n",
    "# Initialisierung Komponenten\n",
    "solrhandler = sh.SolrHandler(200)\n",
    "clusterer = cls.Clusterer()\n",
    "tpc_dterminator = td.TopicDeterminator()\n",
    "chatbot = cb.Chatbot(solrhandler,clusterer,tpc_dterminator)"
   ]
  },
  {
   "cell_type": "markdown",
   "metadata": {},
   "source": [
    "per Hand"
   ]
  },
  {
   "cell_type": "code",
   "execution_count": 3,
   "metadata": {},
   "outputs": [
    {
     "name": "stderr",
     "output_type": "stream",
     "text": [
      "C:\\Users\\morit\\anaconda3\\envs\\chatbot\\lib\\site-packages\\sklearn\\utils\\deprecation.py:87: FutureWarning: Function get_feature_names is deprecated; get_feature_names is deprecated in 1.0 and will be removed in 1.2. Please use get_feature_names_out instead.\n",
      "  warnings.warn(msg, category=FutureWarning)\n"
     ]
    }
   ],
   "source": [
    "chatbot.initialQuery(query)"
   ]
  },
  {
   "cell_type": "code",
   "execution_count": 4,
   "metadata": {},
   "outputs": [
    {
     "data": {
      "text/html": [
       "<div>\n",
       "<style scoped>\n",
       "    .dataframe tbody tr th:only-of-type {\n",
       "        vertical-align: middle;\n",
       "    }\n",
       "\n",
       "    .dataframe tbody tr th {\n",
       "        vertical-align: top;\n",
       "    }\n",
       "\n",
       "    .dataframe thead th {\n",
       "        text-align: right;\n",
       "    }\n",
       "</style>\n",
       "<table border=\"1\" class=\"dataframe\">\n",
       "  <thead>\n",
       "    <tr style=\"text-align: right;\">\n",
       "      <th></th>\n",
       "      <th>ssdsLemma_cluster</th>\n",
       "      <th>ssdsLemma_processed</th>\n",
       "      <th>count</th>\n",
       "      <th>Topics</th>\n",
       "    </tr>\n",
       "  </thead>\n",
       "  <tbody>\n",
       "    <tr>\n",
       "      <th>1</th>\n",
       "      <td>1</td>\n",
       "      <td>ummelden wasserversorgungsanlag trinkwasserins...</td>\n",
       "      <td>5</td>\n",
       "      <td>[zulassung]</td>\n",
       "    </tr>\n",
       "    <tr>\n",
       "      <th>0</th>\n",
       "      <td>0</td>\n",
       "      <td>betriebsverlegung betriebssitzverlegung erweit...</td>\n",
       "      <td>1</td>\n",
       "      <td>[laden]</td>\n",
       "    </tr>\n",
       "    <tr>\n",
       "      <th>2</th>\n",
       "      <td>2</td>\n",
       "      <td>umzug kampfhund haltungsanzeigen hund hundehal...</td>\n",
       "      <td>1</td>\n",
       "      <td>[gefährlich]</td>\n",
       "    </tr>\n",
       "  </tbody>\n",
       "</table>\n",
       "</div>"
      ],
      "text/plain": [
       "   ssdsLemma_cluster                                ssdsLemma_processed  \\\n",
       "1                  1  ummelden wasserversorgungsanlag trinkwasserins...   \n",
       "0                  0  betriebsverlegung betriebssitzverlegung erweit...   \n",
       "2                  2  umzug kampfhund haltungsanzeigen hund hundehal...   \n",
       "\n",
       "   count        Topics  \n",
       "1      5   [zulassung]  \n",
       "0      1       [laden]  \n",
       "2      1  [gefährlich]  "
      ]
     },
     "execution_count": 4,
     "metadata": {},
     "output_type": "execute_result"
    }
   ],
   "source": [
    "chatbot.df_clus"
   ]
  },
  {
   "cell_type": "code",
   "execution_count": 5,
   "metadata": {},
   "outputs": [
    {
     "name": "stdout",
     "output_type": "stream",
     "text": [
      "Geht es bei ihrem Anliegen um zulassung?\n",
      "True\n"
     ]
    }
   ],
   "source": [
    "question = chatbot.generateQuestion()\n",
    "print(question)\n",
    "answer = chatbot.findCorrectAnswer(target_service)\n",
    "print(answer)"
   ]
  },
  {
   "cell_type": "code",
   "execution_count": 6,
   "metadata": {},
   "outputs": [
    {
     "data": {
      "text/plain": [
       "True"
      ]
     },
     "execution_count": 6,
     "metadata": {},
     "output_type": "execute_result"
    }
   ],
   "source": [
    "chatbot.refineResultset(answer)"
   ]
  },
  {
   "cell_type": "code",
   "execution_count": null,
   "metadata": {
    "scrolled": false
   },
   "outputs": [],
   "source": [
    "chatbot.df"
   ]
  },
  {
   "cell_type": "code",
   "execution_count": 7,
   "metadata": {},
   "outputs": [
    {
     "data": {
      "text/html": [
       "<div>\n",
       "<style scoped>\n",
       "    .dataframe tbody tr th:only-of-type {\n",
       "        vertical-align: middle;\n",
       "    }\n",
       "\n",
       "    .dataframe tbody tr th {\n",
       "        vertical-align: top;\n",
       "    }\n",
       "\n",
       "    .dataframe thead th {\n",
       "        text-align: right;\n",
       "    }\n",
       "</style>\n",
       "<table border=\"1\" class=\"dataframe\">\n",
       "  <thead>\n",
       "    <tr style=\"text-align: right;\">\n",
       "      <th></th>\n",
       "      <th>ssdsLemma_cluster</th>\n",
       "      <th>ssdsLemma_processed</th>\n",
       "      <th>count</th>\n",
       "      <th>Topics</th>\n",
       "    </tr>\n",
       "  </thead>\n",
       "  <tbody>\n",
       "    <tr>\n",
       "      <th>1</th>\n",
       "      <td>1</td>\n",
       "      <td>ummelden wasserversorgungsanlag trinkwasserins...</td>\n",
       "      <td>5</td>\n",
       "      <td>[zulassung]</td>\n",
       "    </tr>\n",
       "  </tbody>\n",
       "</table>\n",
       "</div>"
      ],
      "text/plain": [
       "   ssdsLemma_cluster                                ssdsLemma_processed  \\\n",
       "1                  1  ummelden wasserversorgungsanlag trinkwasserins...   \n",
       "\n",
       "   count       Topics  \n",
       "1      5  [zulassung]  "
      ]
     },
     "execution_count": 7,
     "metadata": {},
     "output_type": "execute_result"
    }
   ],
   "source": [
    "chatbot.df_clus"
   ]
  },
  {
   "cell_type": "markdown",
   "metadata": {},
   "source": [
    "automatisch"
   ]
  },
  {
   "cell_type": "code",
   "execution_count": null,
   "metadata": {},
   "outputs": [],
   "source": [
    "# Pipeline\n",
    "chatbot.initialQuery(query)\n",
    "answer = chatbot.findCorrectAnswer(target_service)\n",
    "while not chatbot.refineResultset(answer):\n",
    "    answer = chatbot.findCorrectAnswer(target_service)\n",
    "    print(chatbot.generateQuestion())\n",
    "    print(answer)\n",
    "print(len(chatbot.df))"
   ]
  },
  {
   "cell_type": "code",
   "execution_count": null,
   "metadata": {},
   "outputs": [],
   "source": [
    "print(chatbot.df)"
   ]
  }
 ],
 "metadata": {
  "kernelspec": {
   "display_name": "Python [conda env:chatbot]",
   "language": "python",
   "name": "conda-env-chatbot-py"
  },
  "language_info": {
   "codemirror_mode": {
    "name": "ipython",
    "version": 3
   },
   "file_extension": ".py",
   "mimetype": "text/x-python",
   "name": "python",
   "nbconvert_exporter": "python",
   "pygments_lexer": "ipython3",
   "version": "3.8.13"
  }
 },
 "nbformat": 4,
 "nbformat_minor": 5
}
