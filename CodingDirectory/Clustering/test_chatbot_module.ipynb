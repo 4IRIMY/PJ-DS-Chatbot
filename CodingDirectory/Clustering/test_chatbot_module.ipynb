{
 "cells": [
  {
   "cell_type": "code",
   "execution_count": null,
   "metadata": {},
   "outputs": [],
   "source": [
    "import spacy\n",
    "import pandas as pd\n",
    "\n",
    "import solrhandler as sh\n",
    "import clusterer as cls\n",
    "import topicdeterminator as td\n",
    "import chatbot as cb"
   ]
  },
  {
   "cell_type": "code",
   "execution_count": null,
   "metadata": {},
   "outputs": [],
   "source": [
    "query = \"anmeldung\"\n",
    "target_service = 120686\n",
    "\n",
    "# Initialisierung Komponenten\n",
    "solrhandler = sh.SolrHandler(20)\n",
    "clusterer = cls.Clusterer()\n",
    "tpc_dterminator = td.TopicDeterminator()\n",
    "chatbot = cb.Chatbot(solrhandler,clusterer,tpc_dterminator)"
   ]
  },
  {
   "cell_type": "markdown",
   "metadata": {},
   "source": [
    "per Hand"
   ]
  },
  {
   "cell_type": "code",
   "execution_count": null,
   "metadata": {},
   "outputs": [],
   "source": [
    "question = chatbot.generateQuestion()\n",
    "print(question)\n",
    "answer = chatbot.findCorrectAnswer(target_service)\n",
    "print(answer)\n",
    "#"
   ]
  },
  {
   "cell_type": "code",
   "execution_count": null,
   "metadata": {},
   "outputs": [],
   "source": [
    "len(chatbot.df)"
   ]
  },
  {
   "cell_type": "code",
   "execution_count": null,
   "metadata": {},
   "outputs": [],
   "source": [
    "chatbot.refineResultset(answer)"
   ]
  },
  {
   "cell_type": "code",
   "execution_count": null,
   "metadata": {
    "scrolled": true
   },
   "outputs": [],
   "source": [
    "len(chatbot.df)"
   ]
  },
  {
   "cell_type": "code",
   "execution_count": null,
   "metadata": {
    "scrolled": false
   },
   "outputs": [],
   "source": [
    "chatbot.df"
   ]
  },
  {
   "cell_type": "code",
   "execution_count": null,
   "metadata": {},
   "outputs": [],
   "source": [
    "tpc_dterminator.df_clus"
   ]
  },
  {
   "cell_type": "markdown",
   "metadata": {},
   "source": [
    "automatisch"
   ]
  },
  {
   "cell_type": "code",
   "execution_count": null,
   "metadata": {},
   "outputs": [],
   "source": [
    "# Pipeline\n",
    "chatbot.initialQuery(query)\n",
    "answer = chatbot.findCorrectAnswer(target_service)\n",
    "while not chatbot.refineResultset(answer):\n",
    "    #print()\n",
    "    #print(chatbot.getSelectedClusterForQuestion())\n",
    "    #print(chatbot.generateQuestion())\n",
    "    print(len(chatbot.df))\n",
    "print(len(chatbot.df))\n",
    "#print(\"Result: \"+str(chatbot.df[\"id\"][0]))\n",
    "#print(chatbot.topicdeterminator.df_clus)"
   ]
  }
 ],
 "metadata": {
  "kernelspec": {
   "display_name": "Python [conda env:chatbot]",
   "language": "python",
   "name": "conda-env-chatbot-py"
  },
  "language_info": {
   "codemirror_mode": {
    "name": "ipython",
    "version": 3
   },
   "file_extension": ".py",
   "mimetype": "text/x-python",
   "name": "python",
   "nbconvert_exporter": "python",
   "pygments_lexer": "ipython3",
   "version": "3.8.13"
  }
 },
 "nbformat": 4,
 "nbformat_minor": 5
}
