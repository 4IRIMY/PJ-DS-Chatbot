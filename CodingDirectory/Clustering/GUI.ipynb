{
 "cells": [
  {
   "cell_type": "code",
   "execution_count": 79,
   "id": "2fd2214a",
   "metadata": {},
   "outputs": [],
   "source": [
    "#!voila test_chatbot.ipynb"
   ]
  },
  {
   "cell_type": "code",
   "execution_count": 80,
   "id": "9c0d71ae",
   "metadata": {},
   "outputs": [],
   "source": [
    "#wigets and display widgets\n",
    "import ipywidgets as wg\n",
    "from ipywidgets import interact, interactive, fixed, interact_manual\n",
    "from IPython.display import display\n",
    "\n",
    "#set working directory right\n",
    "import os\n",
    "if not str(os.getcwd()).endswith('Modules'):\n",
    "    print(\"Current working directory: {0}\".format(os.getcwd()))\n",
    "    os.chdir(os.getcwd() + '/Modules')\n",
    "    print(\"Current working directory: {0}\".format(os.getcwd()))\n",
    "    \n",
    "#Chatbot\n",
    "from keyword_check import Keyword_check\n",
    "from chatbot import Chatbot\n",
    "from solrhandler import SolrHandler\n",
    "from clusterer import Clusterer\n",
    "from topicdeterminator import TopicDeterminator"
   ]
  },
  {
   "cell_type": "code",
   "execution_count": 81,
   "id": "aefec907",
   "metadata": {},
   "outputs": [],
   "source": [
    "#!pip install azure-ai-textanalytics"
   ]
  },
  {
   "cell_type": "code",
   "execution_count": 82,
   "id": "f92142b9",
   "metadata": {},
   "outputs": [],
   "source": [
    "#!python -m spacy download de_core_news_lg"
   ]
  },
  {
   "cell_type": "code",
   "execution_count": 83,
   "id": "232972fe",
   "metadata": {},
   "outputs": [],
   "source": [
    "#!pip install gensim"
   ]
  },
  {
   "cell_type": "code",
   "execution_count": 84,
   "id": "c2c3a15d",
   "metadata": {},
   "outputs": [],
   "source": [
    "maxResultSetSize = 3\n",
    "chatbots = [Chatbot, Keyword_check]\n",
    "activ_chatbot = None"
   ]
  },
  {
   "cell_type": "code",
   "execution_count": 85,
   "id": "83fae832",
   "metadata": {},
   "outputs": [],
   "source": [
    "radio = wg.RadioButtons(\n",
    "    options=[(chatbots[i].__name__, i) for i in range(len(chatbots))],\n",
    "#    value='pineapple', # Defaults to 'pineapple'\n",
    "#    layout={'width': 'max-content'}, # If the items' names are long\n",
    "    description='Chatbot Selection:',\n",
    "    disabled=False\n",
    ")"
   ]
  },
  {
   "cell_type": "code",
   "execution_count": 86,
   "id": "e6e4ea87",
   "metadata": {},
   "outputs": [
    {
     "data": {
      "application/vnd.jupyter.widget-view+json": {
       "model_id": "48da25fba5eb4784a3b1e1e26e28bb28",
       "version_major": 2,
       "version_minor": 0
      },
      "text/plain": [
       "RadioButtons(description='Chatbot Selection:', options=(('Chatbot', 0), ('Keyword_check', 1)), value=0)"
      ]
     },
     "metadata": {},
     "output_type": "display_data"
    }
   ],
   "source": [
    "display(radio)"
   ]
  },
  {
   "cell_type": "code",
   "execution_count": 97,
   "id": "9c1cae21",
   "metadata": {},
   "outputs": [],
   "source": [
    "def initChatbot(initial_query):\n",
    "    global maxResultSetSize\n",
    "    global activ_chatbot\n",
    "    global next_functioncall\n",
    "    print(type(maxResultSetSize))\n",
    "    activ_chatbot = chatbots[radio.value](SolrHandler, Clusterer, TopicDeterminator, initial_query, maxResultSetSize)\n",
    "    next_functioncall = answerQuestion\n",
    "    return activ_chatbot.generateQuestion()\n"
   ]
  },
  {
   "cell_type": "code",
   "execution_count": 98,
   "id": "7f71c613",
   "metadata": {},
   "outputs": [],
   "source": [
    "next_functioncall = initChatbot"
   ]
  },
  {
   "cell_type": "code",
   "execution_count": 99,
   "id": "88b51998",
   "metadata": {},
   "outputs": [],
   "source": [
    "def answerQuestion(msg):\n",
    "    global activ_chatbot\n",
    "    global maxResultSize\n",
    "    if msg in [\"ja\", \"nein\"]:\n",
    "        activ_chatbot.refineResultset(msg==\"ja\")\n",
    "        if activ_chatbot.isFinished():\n",
    "            global next_functioncall\n",
    "            next_functioncall = initChatbot\n",
    "            return activ_chatbot.get_result_string()\n",
    "        return activ_chatbot.generateQuestion()\n",
    "    else:\n",
    "        activ_chatbot.add_query(msg)\n",
    "        return activ_chatbot.generateQuestion()"
   ]
  },
  {
   "cell_type": "code",
   "execution_count": 100,
   "id": "4fcf755d",
   "metadata": {},
   "outputs": [
    {
     "data": {
      "application/vnd.jupyter.widget-view+json": {
       "model_id": "b4fe1fad2d5848afa3824f6cba1856b9",
       "version_major": 2,
       "version_minor": 0
      },
      "text/plain": [
       "HTML(value='Hallo mein Name ist <b>Nobbi</b> (noch besserer Bobbi), wie kann ich Ihnen behilflich sein? ', pla…"
      ]
     },
     "metadata": {},
     "output_type": "display_data"
    }
   ],
   "source": [
    "wg.HTML(\n",
    "    value=\"Hallo mein Name ist <b>Nobbi</b> (noch besserer Bobbi), wie kann ich Ihnen behilflich sein? \",\n",
    "    placeholder='',\n",
    "    description='',\n",
    ")"
   ]
  },
  {
   "cell_type": "code",
   "execution_count": 101,
   "id": "27ad2f43",
   "metadata": {
    "scrolled": true
   },
   "outputs": [
    {
     "data": {
      "application/vnd.jupyter.widget-view+json": {
       "model_id": "f585410489e74ee5ad5f58d5fd61331e",
       "version_major": 2,
       "version_minor": 0
      },
      "text/plain": [
       "interactive(children=(Text(value='Wohnung', description='Frage'), Output()), _dom_classes=('widget-interact',)…"
      ]
     },
     "metadata": {},
     "output_type": "display_data"
    }
   ],
   "source": [
    "interact(lambda Frage: next_functioncall(Frage), Frage=\"Wohnung\");"
   ]
  },
  {
   "cell_type": "code",
   "execution_count": 46,
   "id": "3f5ef6e7",
   "metadata": {},
   "outputs": [
    {
     "data": {
      "application/vnd.jupyter.widget-view+json": {
       "model_id": "e0ba80dcd0dc459ca246ec6b32f90aff",
       "version_major": 2,
       "version_minor": 0
      },
      "text/plain": [
       "HTML(value='<ul> <li>Wenn Sie in Berlin eine Zweitwohnung haben, müssen Sie dafür eine besondere Steuer bezahl…"
      ]
     },
     "metadata": {},
     "output_type": "display_data"
    }
   ],
   "source": [
    "wg.HTML(\n",
    "    value=activ_chatbot.get_result_html(),\n",
    "    placeholder='',\n",
    "    description='',\n",
    ")"
   ]
  },
  {
   "cell_type": "code",
   "execution_count": 47,
   "id": "363fc27b",
   "metadata": {},
   "outputs": [
    {
     "name": "stdout",
     "output_type": "stream",
     "text": [
      "0    Wenn Sie in Berlin eine Zweitwohnung haben, mü...\n",
      "1    Wohnraum darf  im Land Berlin nur mit Genehmig...\n",
      "2    Melden Sie sich innerhalb von <strong>14 Tagen...\n",
      "3    <ul class=\"list\"><li>Sie wollen Ihre bisherige...\n",
      "4    Ergeben sich aus den Rechten und Pflichten sow...\n",
      "5    Sie können Hilfe bekommen,<br />\\n<br />\\n<ul ...\n",
      "6    <ul class=\"list\"><li>Sie geben eine Berliner W...\n",
      "7    Wenn Sie<br />\\n<ul class=\"list\"><li>sich in B...\n"
     ]
    }
   ],
   "source": [
    "print(activ_chatbot.df[\"d115Description\"].to_string())"
   ]
  },
  {
   "cell_type": "code",
   "execution_count": 48,
   "id": "43f5b31c",
   "metadata": {},
   "outputs": [],
   "source": [
    "#name = wg.Text(\"Hello\")\n",
    "#question = wg.Text(\"antrag\")\n",
    "# widgets.HTML(\n",
    "#     value=\"Hello <b>User</b> please enter your questions here!\",\n",
    "#     placeholder='',\n",
    "#     description='',\n",
    "# )\n",
    "#display(question)"
   ]
  },
  {
   "cell_type": "code",
   "execution_count": 49,
   "id": "0af582aa",
   "metadata": {},
   "outputs": [],
   "source": [
    "#widgetLink = widgets.jslink((floatTextBox, 'value'), (floatSlider, 'value'))"
   ]
  },
  {
   "cell_type": "code",
   "execution_count": 50,
   "id": "d8be2250",
   "metadata": {},
   "outputs": [],
   "source": [
    "# widgets.Textarea(\n",
    "#     value='Hello World',\n",
    "#     placeholder='Type something',\n",
    "#     description='String:',\n",
    "#     disabled=False\n",
    "# )"
   ]
  },
  {
   "cell_type": "code",
   "execution_count": 51,
   "id": "5cf7943d",
   "metadata": {},
   "outputs": [],
   "source": [
    "# \"Hat Ihr Anliegen etwas mit \" +words[index]+\" zu tun? \"\n",
    "# \"Geht es bei ihrem Anliegen um \" + topics + \"?\""
   ]
  }
 ],
 "metadata": {
  "kernelspec": {
   "display_name": "Python 3 (ipykernel)",
   "language": "python",
   "name": "python3"
  },
  "language_info": {
   "codemirror_mode": {
    "name": "ipython",
    "version": 3
   },
   "file_extension": ".py",
   "mimetype": "text/x-python",
   "name": "python",
   "nbconvert_exporter": "python",
   "pygments_lexer": "ipython3",
   "version": "3.7.10"
  }
 },
 "nbformat": 4,
 "nbformat_minor": 5
}
