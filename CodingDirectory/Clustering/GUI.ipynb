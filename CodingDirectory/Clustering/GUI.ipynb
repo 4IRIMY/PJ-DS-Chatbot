{
 "cells": [
  {
   "cell_type": "code",
   "execution_count": 1,
   "id": "2fd2214a",
   "metadata": {},
   "outputs": [],
   "source": [
    "#!voila test_chatbot.ipynb"
   ]
  },
  {
   "cell_type": "code",
   "execution_count": 2,
   "id": "aefec907",
   "metadata": {},
   "outputs": [],
   "source": [
    "#!pip install azure-ai-textanalytics"
   ]
  },
  {
   "cell_type": "code",
   "execution_count": 3,
   "id": "08237fbb",
   "metadata": {},
   "outputs": [],
   "source": [
    "#!pip install pandas"
   ]
  },
  {
   "cell_type": "code",
   "execution_count": 4,
   "id": "78445d6e",
   "metadata": {},
   "outputs": [],
   "source": [
    "#!pip install sklearn"
   ]
  },
  {
   "cell_type": "code",
   "execution_count": 5,
   "id": "963a172b",
   "metadata": {
    "scrolled": true
   },
   "outputs": [],
   "source": [
    "#!pip install spacy-nightly --pre --user"
   ]
  },
  {
   "cell_type": "code",
   "execution_count": 6,
   "id": "3ecc80fa",
   "metadata": {},
   "outputs": [],
   "source": [
    "#!pip install -U pip setuptools wheel\n",
    "#!pip install -U spacy\n",
    "#!python -m spacy download de_core_news_lg"
   ]
  },
  {
   "cell_type": "code",
   "execution_count": 7,
   "id": "f92142b9",
   "metadata": {},
   "outputs": [],
   "source": [
    "#!python -m spacy download de_core_news_lg"
   ]
  },
  {
   "cell_type": "code",
   "execution_count": 8,
   "id": "ea1ac29f",
   "metadata": {},
   "outputs": [],
   "source": [
    "#!pip install spacy"
   ]
  },
  {
   "cell_type": "code",
   "execution_count": 9,
   "id": "232972fe",
   "metadata": {},
   "outputs": [],
   "source": [
    "#!pip install gensim"
   ]
  },
  {
   "cell_type": "code",
   "execution_count": 10,
   "id": "9c0d71ae",
   "metadata": {},
   "outputs": [],
   "source": [
    "#wigets and display widgets\n",
    "import ipywidgets as wg\n",
    "from ipywidgets import interact, interactive, fixed, interact_manual\n",
    "from IPython.display import display\n",
    "\n",
    "#set working directory right\n",
    "import os\n",
    "if not str(os.getcwd()).endswith('Modules'):\n",
    "    #print(\"Current working directory: {0}\".format(os.getcwd()))\n",
    "    os.chdir(os.getcwd() + '/Modules')\n",
    "    #print(\"New working directory: {0}\".format(os.getcwd()))\n",
    "    \n",
    "#Chatbot\n",
    "from keyword_check import Keyword_check\n",
    "from chatbot import Chatbot\n",
    "from solrhandler import SolrHandler\n",
    "from clusterer import Clusterer\n",
    "from topicdeterminator import TopicDeterminator"
   ]
  },
  {
   "cell_type": "code",
   "execution_count": 11,
   "id": "c2c3a15d",
   "metadata": {},
   "outputs": [],
   "source": [
    "chatbots = [\n",
    "    {\"app\":Chatbot,\n",
    "    \"kwargs\":{}},\n",
    "    {\"app\":Keyword_check,\n",
    "    \"kwargs\":{}},\n",
    "    {\"app\":Keyword_check,\n",
    "    \"kwargs\":{\"cluster_keywords\":False}}]\n",
    "maxResultSetSize = 3\n",
    "activ_chatbot = None"
   ]
  },
  {
   "cell_type": "code",
   "execution_count": 12,
   "id": "83fae832",
   "metadata": {},
   "outputs": [],
   "source": [
    "radio = wg.RadioButtons(\n",
    "    options=[(\"{0} {1}\".format(chatbots[i][\"app\"].__name__, \" \".join(chatbots[i][\"kwargs\"].keys())), i) for i in range(len(chatbots))],\n",
    "    layout={'width': 'max-content'}, # If the items' names are long\n",
    "    description='Chatbot Selection:',\n",
    "    style={'description_width': 'initial'},\n",
    "    disabled=False\n",
    ")"
   ]
  },
  {
   "cell_type": "code",
   "execution_count": 13,
   "id": "e6e4ea87",
   "metadata": {},
   "outputs": [
    {
     "data": {
      "application/vnd.jupyter.widget-view+json": {
       "model_id": "d84263c102484d689065d098647cfab0",
       "version_major": 2,
       "version_minor": 0
      },
      "text/plain": [
       "RadioButtons(description='Chatbot Selection:', layout=Layout(width='max-content'), options=(('Chatbot ', 0), (…"
      ]
     },
     "metadata": {},
     "output_type": "display_data"
    }
   ],
   "source": [
    "display(radio)"
   ]
  },
  {
   "cell_type": "code",
   "execution_count": 14,
   "id": "9c1cae21",
   "metadata": {},
   "outputs": [],
   "source": [
    "def initChatbot(msg):\n",
    "    global maxResultSetSize\n",
    "    global activ_chatbot\n",
    "    global next_functioncall\n",
    "    display(\"Loading {0} ...\".format(chatbots[radio.value][\"app\"].__name__))\n",
    "    activ_chatbot = chatbots[radio.value][\"app\"](msg, maxResultSetSize, **chatbots[radio.value][\"kwargs\"])\n",
    "    next_functioncall = answerQuestion\n",
    "    display(activ_chatbot.generateQuestion())\n",
    "    return activ_chatbot.generateQuestion()"
   ]
  },
  {
   "cell_type": "code",
   "execution_count": 15,
   "id": "7f71c613",
   "metadata": {},
   "outputs": [],
   "source": [
    "next_functioncall = initChatbot"
   ]
  },
  {
   "cell_type": "code",
   "execution_count": 16,
   "id": "88b51998",
   "metadata": {},
   "outputs": [],
   "source": [
    "def answerQuestion(msg):\n",
    "    global activ_chatbot\n",
    "    global maxResultSize\n",
    "    if not msg:\n",
    "        return \"Bitte stellen Sie Ihre Frage.\"\n",
    "    if msg.lower() in [\"ja\", \"nein\"]:\n",
    "        activ_chatbot.refineResultset(msg.lower()==\"ja\")\n",
    "        #display(activ_chatbot.clusterer.clustering_algorithm.eps)\n",
    "        if activ_chatbot.isFinished():\n",
    "            global next_functioncall\n",
    "            next_functioncall = initChatbot\n",
    "            display(activ_chatbot.get_result_string())\n",
    "            return activ_chatbot.get_result_string()\n",
    "        #display(activ_chatbot.df_clus[\"Topics\"].values)\n",
    "        display(activ_chatbot.generateQuestion())\n",
    "        return activ_chatbot.generateQuestion()\n",
    "    else:\n",
    "        #activ_chatbot.add_query(msg)\n",
    "        display(activ_chatbot.generateQuestion())\n",
    "        return activ_chatbot.generateQuestion()"
   ]
  },
  {
   "cell_type": "code",
   "execution_count": 17,
   "id": "4fcf755d",
   "metadata": {},
   "outputs": [
    {
     "data": {
      "application/vnd.jupyter.widget-view+json": {
       "model_id": "b276670100c14bf38599ae99c1040105",
       "version_major": 2,
       "version_minor": 0
      },
      "text/plain": [
       "HTML(value='Hallo mein Name ist <b>Nobbi</b> (noch besserer Bobbi), wie kann ich Ihnen behilflich sein? ', pla…"
      ]
     },
     "metadata": {},
     "output_type": "display_data"
    }
   ],
   "source": [
    "wg.HTML(\n",
    "    value=\"Hallo mein Name ist <b>Nobbi</b> (noch besserer Bobbi), wie kann ich Ihnen behilflich sein? \",\n",
    "    placeholder='',\n",
    "    description='',\n",
    ")"
   ]
  },
  {
   "cell_type": "code",
   "execution_count": 18,
   "id": "1abb5650",
   "metadata": {},
   "outputs": [],
   "source": [
    "# ui = wg.HBox([a, b, c])\n",
    "# def f(a, b, c):\n",
    "#     print((a, b, c))\n",
    "\n",
    "# out = widgets.interactive_output(f, {'a': a, 'b': b, 'c': c})\n",
    "\n",
    "# display(ui, out)"
   ]
  },
  {
   "cell_type": "code",
   "execution_count": 19,
   "id": "27ad2f43",
   "metadata": {
    "scrolled": true
   },
   "outputs": [],
   "source": [
    "#interact(lambda Frage: next_functioncall(Frage), Frage=\"Wohnung\", continuous_update=False);"
   ]
  },
  {
   "cell_type": "code",
   "execution_count": 20,
   "id": "4bb4190d",
   "metadata": {},
   "outputs": [
    {
     "data": {
      "application/vnd.jupyter.widget-view+json": {
       "model_id": "978883a0d3c448e28c1ca079a35adc16",
       "version_major": 2,
       "version_minor": 0
      },
      "text/plain": [
       "interactive(children=(Combobox(value='', description='Frage', options=('ja', 'nein')), Button(description='sen…"
      ]
     },
     "metadata": {},
     "output_type": "display_data"
    }
   ],
   "source": [
    "bot = interactive(lambda Frage: next_functioncall(Frage),\n",
    "                  {'manual': True, \"manual_name\":\"senden\", \"manual_description\":'Frage:'},\n",
    "                  Frage=wg.Combobox(options=[\"ja\", \"nein\"],\n",
    "                                    default=\"\"), continuous_update=False);\n",
    "#bot.widget.children[0].description = 'Frage:'\n",
    "display(bot)"
   ]
  },
  {
   "cell_type": "code",
   "execution_count": 21,
   "id": "363fc27b",
   "metadata": {},
   "outputs": [],
   "source": [
    "#print(activ_chatbot.df[\"d115Description\"].to_string())"
   ]
  },
  {
   "cell_type": "code",
   "execution_count": 22,
   "id": "0af582aa",
   "metadata": {},
   "outputs": [],
   "source": [
    "#widgetLink = widgets.jslink((floatTextBox, 'value'), (floatSlider, 'value'))"
   ]
  }
 ],
 "metadata": {
  "kernelspec": {
   "display_name": "Python 3 (ipykernel)",
   "language": "python",
   "name": "python3"
  },
  "language_info": {
   "codemirror_mode": {
    "name": "ipython",
    "version": 3
   },
   "file_extension": ".py",
   "mimetype": "text/x-python",
   "name": "python",
   "nbconvert_exporter": "python",
   "pygments_lexer": "ipython3",
   "version": "3.7.10"
  },
  "vscode": {
   "interpreter": {
    "hash": "89839e8a164b12ea39c2b5c83f33cec8ce96f9360a37c3818504b82b12d61eef"
   }
  }
 },
 "nbformat": 4,
 "nbformat_minor": 5
}
