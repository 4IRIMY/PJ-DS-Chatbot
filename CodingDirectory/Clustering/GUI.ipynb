{
 "cells": [
  {
   "cell_type": "code",
   "execution_count": 1,
   "id": "2fd2214a",
   "metadata": {},
   "outputs": [],
   "source": [
    "#!voila test_chatbot.ipynb"
   ]
  },
  {
   "cell_type": "code",
   "execution_count": 2,
   "id": "aefec907",
   "metadata": {},
   "outputs": [],
   "source": [
    "#!pip install azure-ai-textanalytics"
   ]
  },
  {
   "cell_type": "code",
   "execution_count": 3,
   "id": "08237fbb",
   "metadata": {},
   "outputs": [],
   "source": [
    "#!pip install pandas"
   ]
  },
  {
   "cell_type": "code",
   "execution_count": 4,
   "id": "78445d6e",
   "metadata": {},
   "outputs": [],
   "source": [
    "#!pip install sklearn"
   ]
  },
  {
   "cell_type": "code",
   "execution_count": 5,
   "id": "963a172b",
   "metadata": {
    "scrolled": true
   },
   "outputs": [],
   "source": [
    "#!pip install spacy-nightly --pre --user"
   ]
  },
  {
   "cell_type": "code",
   "execution_count": 6,
   "id": "3ecc80fa",
   "metadata": {},
   "outputs": [],
   "source": [
    "#!pip install -U pip setuptools wheel\n",
    "#!pip install -U spacy\n",
    "#!python -m spacy download de_core_news_lg"
   ]
  },
  {
   "cell_type": "code",
   "execution_count": 7,
   "id": "f92142b9",
   "metadata": {},
   "outputs": [],
   "source": [
    "#!python -m spacy download de_core_news_lg"
   ]
  },
  {
   "cell_type": "code",
   "execution_count": 8,
   "id": "ea1ac29f",
   "metadata": {},
   "outputs": [],
   "source": [
    "#!pip install spacy"
   ]
  },
  {
   "cell_type": "code",
   "execution_count": 9,
   "id": "232972fe",
   "metadata": {},
   "outputs": [],
   "source": [
    "#!pip install gensim"
   ]
  },
  {
   "cell_type": "code",
   "execution_count": 1,
   "id": "9c0d71ae",
   "metadata": {},
   "outputs": [
    {
     "name": "stdout",
     "output_type": "stream",
     "text": [
      "Current working directory: C:\\Users\\aechs\\Documents\\Silvio\\PJ-DS-Chatbot\\CodingDirectory\\Clustering\n",
      "New working directory: C:\\Users\\aechs\\Documents\\Silvio\\PJ-DS-Chatbot\\CodingDirectory\\Clustering\\Modules\n"
     ]
    },
    {
     "name": "stderr",
     "output_type": "stream",
     "text": [
      "C:\\Users\\aechs\\AppData\\Roaming\\Python\\Python39\\site-packages\\spacy\\util.py:693: UserWarning: [W095] Model 'de_core_news_lg' (3.0.0) requires spaCy >=3.0.0,<3.1.0 and is incompatible with the current version (3.0.0rc5). This may lead to unexpected results or runtime errors. To resolve this, download a newer compatible model or retrain your custom model with the current spaCy version. For more details and available updates, run: python -m spacy validate\n",
      "  warnings.warn(warn_msg)\n"
     ]
    }
   ],
   "source": [
    "#wigets and display widgets\n",
    "import ipywidgets as wg\n",
    "from ipywidgets import interact, interactive, fixed, interact_manual\n",
    "from IPython.display import display\n",
    "\n",
    "#set working directory right\n",
    "import os\n",
    "if not str(os.getcwd()).endswith('Modules'):\n",
    "    #print(\"Current working directory: {0}\".format(os.getcwd()))\n",
    "    os.chdir(os.getcwd() + '/Modules')\n",
    "    #print(\"New working directory: {0}\".format(os.getcwd()))\n",
    "    \n",
    "#Chatbot\n",
    "from keyword_check import Keyword_check\n",
    "from chatbot import Chatbot\n",
    "from solrhandler import SolrHandler\n",
    "from clusterer import Clusterer\n",
    "from topicdeterminator import TopicDeterminator"
   ]
  },
  {
   "cell_type": "code",
   "execution_count": 2,
   "id": "c2c3a15d",
   "metadata": {},
   "outputs": [],
   "source": [
    "chatbots = [\n",
    "    {\"app\":Chatbot,\n",
    "    \"kwargs\":{}},\n",
    "    {\"app\":Keyword_check,\n",
    "    \"kwargs\":{}},\n",
    "    {\"app\":Keyword_check,\n",
    "    \"kwargs\":{\"cluster_keywords\":False}}]\n",
    "maxResultSetSize = 3\n",
    "activ_chatbot = None"
   ]
  },
  {
   "cell_type": "code",
   "execution_count": 45,
   "id": "83fae832",
   "metadata": {},
   "outputs": [],
   "source": [
    "radio = wg.RadioButtons(\n",
    "    options=[(\"{0} {1}\".format(chatbots[i][\"app\"].__name__, \" \".join(chatbots[i][\"kwargs\"].keys())), i) for i in range(len(chatbots))],\n",
    "    layout={'width': 'max-content'}, # If the items' names are long\n",
    "    description='Chatbot Selection:',\n",
    "    style={'description_width': 'initial'},\n",
    "    disabled=False\n",
    ")"
   ]
  },
  {
   "cell_type": "code",
   "execution_count": 46,
   "id": "e6e4ea87",
   "metadata": {},
   "outputs": [
    {
     "data": {
      "application/vnd.jupyter.widget-view+json": {
       "model_id": "81e26f1aa9b84eb6976c894f00e0674e",
       "version_major": 2,
       "version_minor": 0
      },
      "text/plain": [
       "RadioButtons(description='Chatbot Selection:', layout=Layout(width='max-content'), options=(('Chatbot ', 0), (…"
      ]
     },
     "metadata": {},
     "output_type": "display_data"
    }
   ],
   "source": [
    "display(radio)"
   ]
  },
  {
   "cell_type": "code",
   "execution_count": 5,
   "id": "9c1cae21",
   "metadata": {},
   "outputs": [],
   "source": [
    "def initChatbot(msg):\n",
    "    global maxResultSetSize\n",
    "    global activ_chatbot\n",
    "    global next_functioncall\n",
    "    print(\"Loading {0} ...\".format(chatbots[radio.value][\"app\"].__name__))\n",
    "    activ_chatbot = chatbots[radio.value][\"app\"](SolrHandler, Clusterer, TopicDeterminator, msg, maxResultSetSize, **chatbots[radio.value][\"kwargs\"])\n",
    "    next_functioncall = answerQuestion\n",
    "    return activ_chatbot.generateQuestion()"
   ]
  },
  {
   "cell_type": "code",
   "execution_count": 6,
   "id": "7f71c613",
   "metadata": {},
   "outputs": [],
   "source": [
    "next_functioncall = initChatbot"
   ]
  },
  {
   "cell_type": "code",
   "execution_count": 7,
   "id": "88b51998",
   "metadata": {},
   "outputs": [],
   "source": [
    "def answerQuestion(msg):\n",
    "    global activ_chatbot\n",
    "    global maxResultSize\n",
    "    if not msg:\n",
    "        return \"Bitte stellen Sie Ihre Frage.\"\n",
    "    if msg.lower() in [\"ja\", \"nein\"]:\n",
    "        activ_chatbot.refineResultset(msg.lower()==\"ja\")\n",
    "        if activ_chatbot.isFinished():\n",
    "            global next_functioncall\n",
    "            next_functioncall = initChatbot\n",
    "            return activ_chatbot.get_result_string()\n",
    "        return activ_chatbot.generateQuestion()\n",
    "    else:\n",
    "        activ_chatbot.add_query(msg)\n",
    "        return activ_chatbot.generateQuestion()"
   ]
  },
  {
   "cell_type": "code",
   "execution_count": 8,
   "id": "4fcf755d",
   "metadata": {},
   "outputs": [
    {
     "data": {
      "application/vnd.jupyter.widget-view+json": {
       "model_id": "e06367b3ef7b439a8daee8fc0cff8960",
       "version_major": 2,
       "version_minor": 0
      },
      "text/plain": [
       "HTML(value='Hallo mein Name ist <b>Nobbi</b> (noch besserer Bobbi), wie kann ich Ihnen behilflich sein? ', pla…"
      ]
     },
     "metadata": {},
     "output_type": "display_data"
    }
   ],
   "source": [
    "wg.HTML(\n",
    "    value=\"Hallo mein Name ist <b>Nobbi</b> (noch besserer Bobbi), wie kann ich Ihnen behilflich sein? \",\n",
    "    placeholder='',\n",
    "    description='',\n",
    ")"
   ]
  },
  {
   "cell_type": "code",
   "execution_count": 10,
   "id": "1abb5650",
   "metadata": {},
   "outputs": [],
   "source": [
    "# ui = wg.HBox([a, b, c])\n",
    "# def f(a, b, c):\n",
    "#     print((a, b, c))\n",
    "\n",
    "# out = widgets.interactive_output(f, {'a': a, 'b': b, 'c': c})\n",
    "\n",
    "# display(ui, out)"
   ]
  },
  {
   "cell_type": "code",
   "execution_count": 11,
   "id": "27ad2f43",
   "metadata": {
    "scrolled": true
   },
   "outputs": [],
   "source": [
    "#interact(lambda Frage: next_functioncall(Frage), Frage=\"Wohnung\", continuous_update=False);"
   ]
  },
  {
   "cell_type": "code",
   "execution_count": 44,
   "id": "4bb4190d",
   "metadata": {},
   "outputs": [
    {
     "ename": "AttributeError",
     "evalue": "'interactive' object has no attribute 'widget'",
     "output_type": "error",
     "traceback": [
      "\u001b[1;31m---------------------------------------------------------------------------\u001b[0m",
      "\u001b[1;31mAttributeError\u001b[0m                            Traceback (most recent call last)",
      "Input \u001b[1;32mIn [44]\u001b[0m, in \u001b[0;36m<cell line: 6>\u001b[1;34m()\u001b[0m\n\u001b[0;32m      1\u001b[0m bot \u001b[38;5;241m=\u001b[39m interactive(\u001b[38;5;28;01mlambda\u001b[39;00m Frage: next_functioncall(Frage),\n\u001b[0;32m      2\u001b[0m                   {\u001b[38;5;124m'\u001b[39m\u001b[38;5;124mmanual\u001b[39m\u001b[38;5;124m'\u001b[39m: \u001b[38;5;28;01mTrue\u001b[39;00m, \u001b[38;5;124m\"\u001b[39m\u001b[38;5;124mmanual_name\u001b[39m\u001b[38;5;124m\"\u001b[39m:\u001b[38;5;124m\"\u001b[39m\u001b[38;5;124msenden\u001b[39m\u001b[38;5;124m\"\u001b[39m, \u001b[38;5;124m\"\u001b[39m\u001b[38;5;124mmanual_description\u001b[39m\u001b[38;5;124m\"\u001b[39m:\u001b[38;5;124m'\u001b[39m\u001b[38;5;124mFrage:\u001b[39m\u001b[38;5;124m'\u001b[39m},\n\u001b[0;32m      3\u001b[0m                   Frage\u001b[38;5;241m=\u001b[39mwg\u001b[38;5;241m.\u001b[39mCombobox(options\u001b[38;5;241m=\u001b[39m[\u001b[38;5;124m\"\u001b[39m\u001b[38;5;124mja\u001b[39m\u001b[38;5;124m\"\u001b[39m, \u001b[38;5;124m\"\u001b[39m\u001b[38;5;124mnein\u001b[39m\u001b[38;5;124m\"\u001b[39m],\n\u001b[0;32m      4\u001b[0m                                     default\u001b[38;5;241m=\u001b[39m\u001b[38;5;124m\"\u001b[39m\u001b[38;5;124m\"\u001b[39m), continuous_update\u001b[38;5;241m=\u001b[39m\u001b[38;5;28;01mFalse\u001b[39;00m);\n\u001b[0;32m      5\u001b[0m \u001b[38;5;66;03m#bot.widget.children[0].description = 'Frage:'\u001b[39;00m\n\u001b[1;32m----> 6\u001b[0m \u001b[38;5;28mprint\u001b[39m(\u001b[43mbot\u001b[49m\u001b[38;5;241;43m.\u001b[39;49m\u001b[43mwidget\u001b[49m\u001b[38;5;241m.\u001b[39mchildren)\n\u001b[0;32m      7\u001b[0m display(bot)\n",
      "\u001b[1;31mAttributeError\u001b[0m: 'interactive' object has no attribute 'widget'"
     ]
    }
   ],
   "source": [
    "bot = interactive(lambda Frage: next_functioncall(Frage),\n",
    "                  {'manual': True, \"manual_name\":\"senden\", \"manual_description\":'Frage:'},\n",
    "                  Frage=wg.Combobox(options=[\"ja\", \"nein\"],\n",
    "                                    default=\"\"), continuous_update=False);\n",
    "#bot.widget.children[0].description = 'Frage:'\n",
    "display(bot)"
   ]
  },
  {
   "cell_type": "code",
   "execution_count": null,
   "id": "363fc27b",
   "metadata": {},
   "outputs": [],
   "source": [
    "#print(activ_chatbot.df[\"d115Description\"].to_string())"
   ]
  },
  {
   "cell_type": "code",
   "execution_count": null,
   "id": "0af582aa",
   "metadata": {},
   "outputs": [],
   "source": [
    "#widgetLink = widgets.jslink((floatTextBox, 'value'), (floatSlider, 'value'))"
   ]
  }
 ],
 "metadata": {
  "kernelspec": {
   "display_name": "Python 3 (ipykernel)",
   "language": "python",
   "name": "python3"
  },
  "language_info": {
   "codemirror_mode": {
    "name": "ipython",
    "version": 3
   },
   "file_extension": ".py",
   "mimetype": "text/x-python",
   "name": "python",
   "nbconvert_exporter": "python",
   "pygments_lexer": "ipython3",
   "version": "3.9.12"
  },
  "vscode": {
   "interpreter": {
    "hash": "89839e8a164b12ea39c2b5c83f33cec8ce96f9360a37c3818504b82b12d61eef"
   }
  }
 },
 "nbformat": 4,
 "nbformat_minor": 5
}
