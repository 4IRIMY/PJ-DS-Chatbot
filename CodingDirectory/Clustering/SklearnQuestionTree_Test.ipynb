{
 "cells": [
  {
   "cell_type": "code",
   "execution_count": 178,
   "metadata": {},
   "outputs": [],
   "source": [
    "import spacy\n",
    "import pandas as pd\n",
    "import numpy as np\n",
    "\n",
    "import Modules.solrhandler as sh\n",
    "import Modules.clusterer as cls\n",
    "import Modules.topicdeterminator as td\n",
    "import Modules.chatbot as cb\n",
    "\n",
    "#import warnings\n",
    "#warnings.filterwarnings(action='ignore')"
   ]
  },
  {
   "cell_type": "code",
   "execution_count": 179,
   "metadata": {},
   "outputs": [
    {
     "data": {
      "text/html": [
       "<div>\n",
       "<style scoped>\n",
       "    .dataframe tbody tr th:only-of-type {\n",
       "        vertical-align: middle;\n",
       "    }\n",
       "\n",
       "    .dataframe tbody tr th {\n",
       "        vertical-align: top;\n",
       "    }\n",
       "\n",
       "    .dataframe thead th {\n",
       "        text-align: right;\n",
       "    }\n",
       "</style>\n",
       "<table border=\"1\" class=\"dataframe\">\n",
       "  <thead>\n",
       "    <tr style=\"text-align: right;\">\n",
       "      <th></th>\n",
       "      <th>id</th>\n",
       "      <th>d115Url</th>\n",
       "      <th>d115Name</th>\n",
       "      <th>ssdsAll</th>\n",
       "      <th>d115DocumentBoostValue</th>\n",
       "      <th>d115Description</th>\n",
       "      <th>d115Synonym</th>\n",
       "      <th>d115Position</th>\n",
       "      <th>d115InfoLaw</th>\n",
       "      <th>d115Prerequisites</th>\n",
       "      <th>...</th>\n",
       "      <th>ssdsSynonym</th>\n",
       "      <th>ssdsSynonymDict</th>\n",
       "      <th>_version_</th>\n",
       "      <th>d115ServiceResponsibility</th>\n",
       "      <th>leikaSynonym</th>\n",
       "      <th>ssdsVerrichtung</th>\n",
       "      <th>ssdsVerrichtungDict</th>\n",
       "      <th>d115Forms</th>\n",
       "      <th>d115ProcessTime</th>\n",
       "      <th>ssdsManualKeywords</th>\n",
       "    </tr>\n",
       "  </thead>\n",
       "  <tbody>\n",
       "    <tr>\n",
       "      <th>0</th>\n",
       "      <td>326235</td>\n",
       "      <td>https://service.berlin.de/dienstleistung/326235/</td>\n",
       "      <td>Antragsbescheinigung für Familienangehörige vo...</td>\n",
       "      <td>[Antragsbescheinigung für Familienangehörige v...</td>\n",
       "      <td>1.000000</td>\n",
       "      <td>&lt;strong&gt;Bitte beachten Sie&lt;/strong&gt;: Diese Die...</td>\n",
       "      <td>[EU, EWR, Freizügigkeit, Freizügigkeitsrecht, ...</td>\n",
       "      <td>101</td>\n",
       "      <td>[{\"name\":\"Freizügigkeitsgesetz/EU (FreizügG/EU...</td>\n",
       "      <td>[{\"name\":\"Aufenthaltskarte soll ausgestellt we...</td>\n",
       "      <td>...</td>\n",
       "      <td>[EU, EWR, Freizügigkeit, Freizügigkeitsrecht, ...</td>\n",
       "      <td>[EU, EWR, Freizügigkeit, Freizügigkeitsrecht, ...</td>\n",
       "      <td>1727918341312479232</td>\n",
       "      <td>NaN</td>\n",
       "      <td>NaN</td>\n",
       "      <td>NaN</td>\n",
       "      <td>NaN</td>\n",
       "      <td>NaN</td>\n",
       "      <td>NaN</td>\n",
       "      <td>NaN</td>\n",
       "    </tr>\n",
       "    <tr>\n",
       "      <th>1</th>\n",
       "      <td>327098</td>\n",
       "      <td>https://service.berlin.de/dienstleistung/327098/</td>\n",
       "      <td>Vollstreckungsschutzantrag, Spezialfall Räumun...</td>\n",
       "      <td>[Vollstreckungsschutzantrag, Spezialfall Räumu...</td>\n",
       "      <td>1.000000</td>\n",
       "      <td>In ganz besonderen Ausnahmefällen können Sie s...</td>\n",
       "      <td>[Inbesitznahme, Räumung, Vollstreckungsschutz,...</td>\n",
       "      <td>101</td>\n",
       "      <td>[{\"name\":\"§ 765 a Zivilprozessordnung\",\"link\":...</td>\n",
       "      <td>[{\"name\":\"Die Schuldnerinteressen überwiegen d...</td>\n",
       "      <td>...</td>\n",
       "      <td>[Inbesitznahme, Räumung, Vollstreckungsschutz,...</td>\n",
       "      <td>[Inbesitznahme, Räumung, Vollstreckungsschutz,...</td>\n",
       "      <td>1727918341803212800</td>\n",
       "      <td>Zuständig ist das Amtsgericht als Vollstreckun...</td>\n",
       "      <td>[Räumungsschutz, Vollstreckungsschutz]</td>\n",
       "      <td>[einstweilige Einstellung]</td>\n",
       "      <td>[einstweilige Einstellung]</td>\n",
       "      <td>NaN</td>\n",
       "      <td>NaN</td>\n",
       "      <td>NaN</td>\n",
       "    </tr>\n",
       "    <tr>\n",
       "      <th>2</th>\n",
       "      <td>325685</td>\n",
       "      <td>https://service.berlin.de/dienstleistung/325685/</td>\n",
       "      <td>Einkommensteuer - Festsetzung - Antragsveranla...</td>\n",
       "      <td>[Einkommensteuer - Festsetzung - Antragsveranl...</td>\n",
       "      <td>1.000000</td>\n",
       "      <td>&lt;strong&gt;Antragsveranlagung&lt;/strong&gt;&lt;br /&gt;\\n&lt;br...</td>\n",
       "      <td>[ELSTER, ELSTEROnline, Lohnsteuerjahresausglei...</td>\n",
       "      <td>101</td>\n",
       "      <td>[{\"name\":\"Einkommensteuer - Durchführungsveror...</td>\n",
       "      <td>[{\"name\":\"Einhaltung der Abgabefrist\",\"link\":\"...</td>\n",
       "      <td>...</td>\n",
       "      <td>[Einkommensteuerausgleich, ELSTER, ELSTEROnlin...</td>\n",
       "      <td>[Einkommensteuerausgleich, ELSTER, ELSTEROnlin...</td>\n",
       "      <td>1727918340964352000</td>\n",
       "      <td>Grundsätzlich ist das Finanzamt Ihres Wohnsitz...</td>\n",
       "      <td>[Einkommensteuer, Einkommensteuerausgleich, Ei...</td>\n",
       "      <td>[Festsetzung]</td>\n",
       "      <td>[Festsetzung]</td>\n",
       "      <td>[{\"name\":\"Abgabe mit ELSTER\",\"link\":\"https://w...</td>\n",
       "      <td>Mit den Berliner Finanzämtern ist vereinbart, ...</td>\n",
       "      <td>[Einkommenssteuer, Steuererklärung, Einkommens...</td>\n",
       "    </tr>\n",
       "    <tr>\n",
       "      <th>3</th>\n",
       "      <td>326952</td>\n",
       "      <td>https://service.berlin.de/dienstleistung/326952/</td>\n",
       "      <td>Scheidungsantrag - Entscheidung</td>\n",
       "      <td>[Scheidungsantrag - Entscheidung, Eine Ehe kan...</td>\n",
       "      <td>1.000000</td>\n",
       "      <td>Eine Ehe kann durch das Familiengericht geschi...</td>\n",
       "      <td>[Scheidungsantrag, Eheaufhebung, Scheidung, Eh...</td>\n",
       "      <td>101</td>\n",
       "      <td>[{\"name\":\"§§ 133 ff. Gesetz über das Verfahren...</td>\n",
       "      <td>[{\"name\":\"Anwaltszwang\",\"link\":\"\",\"description...</td>\n",
       "      <td>...</td>\n",
       "      <td>[Scheidungsantrag, Eheaufhebung, Scheidung, Eh...</td>\n",
       "      <td>[Scheidungsantrag, Eheaufhebung, Scheidung, Eh...</td>\n",
       "      <td>1727918341706743808</td>\n",
       "      <td>Das Scheidungsverfahren wird bei einem der vie...</td>\n",
       "      <td>NaN</td>\n",
       "      <td>[Entscheidung]</td>\n",
       "      <td>[Entscheidung]</td>\n",
       "      <td>NaN</td>\n",
       "      <td>NaN</td>\n",
       "      <td>[Ehe gescheitert, Scheidungsantrag, Eheaufhebu...</td>\n",
       "    </tr>\n",
       "    <tr>\n",
       "      <th>4</th>\n",
       "      <td>318993</td>\n",
       "      <td>https://service.berlin.de/dienstleistung/318993/</td>\n",
       "      <td>Ehefähigkeitszeugnis – Beratung, Antrag,  Auss...</td>\n",
       "      <td>[Ehefähigkeitszeugnis – Beratung, Antrag,  Aus...</td>\n",
       "      <td>1.184955</td>\n",
       "      <td>Sie haben die deutsche Staatsangehörigkeit und...</td>\n",
       "      <td>[Ledigkeitsnachweis, Hochzeit im Ausland, Ehef...</td>\n",
       "      <td>101</td>\n",
       "      <td>[{\"name\":\"§§ 1303, 1304, 1306, 1307, 1308, 130...</td>\n",
       "      <td>[{\"name\":\"Zuständig ist das Standesamt des Bez...</td>\n",
       "      <td>...</td>\n",
       "      <td>[Ledigkeitsnachweis, Hochzeit im Ausland, Ehef...</td>\n",
       "      <td>[Ledigkeitsnachweis, Hochzeit im Ausland, Ehef...</td>\n",
       "      <td>1727918340199940096</td>\n",
       "      <td>Das bezirkliche Standesamt in dessen Bereich e...</td>\n",
       "      <td>NaN</td>\n",
       "      <td>[Beratung]</td>\n",
       "      <td>[Beratung]</td>\n",
       "      <td>[{\"name\":\"Antrag auf Ausstellung eines Ehefähi...</td>\n",
       "      <td>NaN</td>\n",
       "      <td>[Ehefähigkeitzeugniss, Eheführungszeugnis, Led...</td>\n",
       "    </tr>\n",
       "  </tbody>\n",
       "</table>\n",
       "<p>5 rows × 41 columns</p>\n",
       "</div>"
      ],
      "text/plain": [
       "       id                                           d115Url  \\\n",
       "0  326235  https://service.berlin.de/dienstleistung/326235/   \n",
       "1  327098  https://service.berlin.de/dienstleistung/327098/   \n",
       "2  325685  https://service.berlin.de/dienstleistung/325685/   \n",
       "3  326952  https://service.berlin.de/dienstleistung/326952/   \n",
       "4  318993  https://service.berlin.de/dienstleistung/318993/   \n",
       "\n",
       "                                            d115Name  \\\n",
       "0  Antragsbescheinigung für Familienangehörige vo...   \n",
       "1  Vollstreckungsschutzantrag, Spezialfall Räumun...   \n",
       "2  Einkommensteuer - Festsetzung - Antragsveranla...   \n",
       "3                    Scheidungsantrag - Entscheidung   \n",
       "4  Ehefähigkeitszeugnis – Beratung, Antrag,  Auss...   \n",
       "\n",
       "                                             ssdsAll  d115DocumentBoostValue  \\\n",
       "0  [Antragsbescheinigung für Familienangehörige v...                1.000000   \n",
       "1  [Vollstreckungsschutzantrag, Spezialfall Räumu...                1.000000   \n",
       "2  [Einkommensteuer - Festsetzung - Antragsveranl...                1.000000   \n",
       "3  [Scheidungsantrag - Entscheidung, Eine Ehe kan...                1.000000   \n",
       "4  [Ehefähigkeitszeugnis – Beratung, Antrag,  Aus...                1.184955   \n",
       "\n",
       "                                     d115Description  \\\n",
       "0  <strong>Bitte beachten Sie</strong>: Diese Die...   \n",
       "1  In ganz besonderen Ausnahmefällen können Sie s...   \n",
       "2  <strong>Antragsveranlagung</strong><br />\\n<br...   \n",
       "3  Eine Ehe kann durch das Familiengericht geschi...   \n",
       "4  Sie haben die deutsche Staatsangehörigkeit und...   \n",
       "\n",
       "                                         d115Synonym  d115Position  \\\n",
       "0  [EU, EWR, Freizügigkeit, Freizügigkeitsrecht, ...           101   \n",
       "1  [Inbesitznahme, Räumung, Vollstreckungsschutz,...           101   \n",
       "2  [ELSTER, ELSTEROnline, Lohnsteuerjahresausglei...           101   \n",
       "3  [Scheidungsantrag, Eheaufhebung, Scheidung, Eh...           101   \n",
       "4  [Ledigkeitsnachweis, Hochzeit im Ausland, Ehef...           101   \n",
       "\n",
       "                                         d115InfoLaw  \\\n",
       "0  [{\"name\":\"Freizügigkeitsgesetz/EU (FreizügG/EU...   \n",
       "1  [{\"name\":\"§ 765 a Zivilprozessordnung\",\"link\":...   \n",
       "2  [{\"name\":\"Einkommensteuer - Durchführungsveror...   \n",
       "3  [{\"name\":\"§§ 133 ff. Gesetz über das Verfahren...   \n",
       "4  [{\"name\":\"§§ 1303, 1304, 1306, 1307, 1308, 130...   \n",
       "\n",
       "                                   d115Prerequisites  ...  \\\n",
       "0  [{\"name\":\"Aufenthaltskarte soll ausgestellt we...  ...   \n",
       "1  [{\"name\":\"Die Schuldnerinteressen überwiegen d...  ...   \n",
       "2  [{\"name\":\"Einhaltung der Abgabefrist\",\"link\":\"...  ...   \n",
       "3  [{\"name\":\"Anwaltszwang\",\"link\":\"\",\"description...  ...   \n",
       "4  [{\"name\":\"Zuständig ist das Standesamt des Bez...  ...   \n",
       "\n",
       "                                         ssdsSynonym  \\\n",
       "0  [EU, EWR, Freizügigkeit, Freizügigkeitsrecht, ...   \n",
       "1  [Inbesitznahme, Räumung, Vollstreckungsschutz,...   \n",
       "2  [Einkommensteuerausgleich, ELSTER, ELSTEROnlin...   \n",
       "3  [Scheidungsantrag, Eheaufhebung, Scheidung, Eh...   \n",
       "4  [Ledigkeitsnachweis, Hochzeit im Ausland, Ehef...   \n",
       "\n",
       "                                     ssdsSynonymDict            _version_  \\\n",
       "0  [EU, EWR, Freizügigkeit, Freizügigkeitsrecht, ...  1727918341312479232   \n",
       "1  [Inbesitznahme, Räumung, Vollstreckungsschutz,...  1727918341803212800   \n",
       "2  [Einkommensteuerausgleich, ELSTER, ELSTEROnlin...  1727918340964352000   \n",
       "3  [Scheidungsantrag, Eheaufhebung, Scheidung, Eh...  1727918341706743808   \n",
       "4  [Ledigkeitsnachweis, Hochzeit im Ausland, Ehef...  1727918340199940096   \n",
       "\n",
       "                           d115ServiceResponsibility  \\\n",
       "0                                                NaN   \n",
       "1  Zuständig ist das Amtsgericht als Vollstreckun...   \n",
       "2  Grundsätzlich ist das Finanzamt Ihres Wohnsitz...   \n",
       "3  Das Scheidungsverfahren wird bei einem der vie...   \n",
       "4  Das bezirkliche Standesamt in dessen Bereich e...   \n",
       "\n",
       "                                        leikaSynonym  \\\n",
       "0                                                NaN   \n",
       "1             [Räumungsschutz, Vollstreckungsschutz]   \n",
       "2  [Einkommensteuer, Einkommensteuerausgleich, Ei...   \n",
       "3                                                NaN   \n",
       "4                                                NaN   \n",
       "\n",
       "              ssdsVerrichtung         ssdsVerrichtungDict  \\\n",
       "0                         NaN                         NaN   \n",
       "1  [einstweilige Einstellung]  [einstweilige Einstellung]   \n",
       "2               [Festsetzung]               [Festsetzung]   \n",
       "3              [Entscheidung]              [Entscheidung]   \n",
       "4                  [Beratung]                  [Beratung]   \n",
       "\n",
       "                                           d115Forms  \\\n",
       "0                                                NaN   \n",
       "1                                                NaN   \n",
       "2  [{\"name\":\"Abgabe mit ELSTER\",\"link\":\"https://w...   \n",
       "3                                                NaN   \n",
       "4  [{\"name\":\"Antrag auf Ausstellung eines Ehefähi...   \n",
       "\n",
       "                                     d115ProcessTime  \\\n",
       "0                                                NaN   \n",
       "1                                                NaN   \n",
       "2  Mit den Berliner Finanzämtern ist vereinbart, ...   \n",
       "3                                                NaN   \n",
       "4                                                NaN   \n",
       "\n",
       "                                  ssdsManualKeywords  \n",
       "0                                                NaN  \n",
       "1                                                NaN  \n",
       "2  [Einkommenssteuer, Steuererklärung, Einkommens...  \n",
       "3  [Ehe gescheitert, Scheidungsantrag, Eheaufhebu...  \n",
       "4  [Ehefähigkeitzeugniss, Eheführungszeugnis, Led...  \n",
       "\n",
       "[5 rows x 41 columns]"
      ]
     },
     "execution_count": 179,
     "metadata": {},
     "output_type": "execute_result"
    }
   ],
   "source": [
    "solrhandler = sh.SolrHandler(5)\n",
    "df = solrhandler.get_df_from_query(\"antrag\")\n",
    "df"
   ]
  },
  {
   "cell_type": "code",
   "execution_count": 180,
   "metadata": {},
   "outputs": [],
   "source": [
    "from Modules.clusterer import clean_text, process_df_col\n",
    "\n",
    "nlp = spacy.load('de_core_news_lg')"
   ]
  },
  {
   "cell_type": "code",
   "execution_count": 181,
   "metadata": {},
   "outputs": [
    {
     "data": {
      "text/plain": [
       "0    [freizügigkeitsrecht, ewr, aufenthaltskarte, f...\n",
       "1    [vollstreckungsschutz, maßnahme, räumungsschut...\n",
       "2    [elektronisch, elektronsiche, einkommensteuert...\n",
       "3    [ehe, rechtsanwaltszwang, ehescheidung, scheid...\n",
       "4    [ausland, heirat, im, ledigkeitsnachweis, auss...\n",
       "Name: ssdsLemma, dtype: object"
      ]
     },
     "execution_count": 181,
     "metadata": {},
     "output_type": "execute_result"
    }
   ],
   "source": [
    "df_pre = process_df_col(df, \"ssdsLemma\",nlp)\n",
    "df_pre[\"ssdsLemma\"]"
   ]
  },
  {
   "cell_type": "code",
   "execution_count": 182,
   "metadata": {},
   "outputs": [],
   "source": [
    "def init_vector(df,col_name=\"ssdsLemma\"):\n",
    "    #initiates the word-occurence & frequency vector and list of words\n",
    "    vectorizer = CountVectorizer()\n",
    "    a = vectorizer.fit_transform(df[f\"{col_name}_processed\"]).toarray()\n",
    "    b = a > 0\n",
    "    word_occ = b.astype(int)\n",
    "    words = vectorizer.get_feature_names()\n",
    "    word_freq=word_occ.sum(axis=0).tolist()    \n",
    "    return word_occ, words, word_freq"
   ]
  },
  {
   "cell_type": "code",
   "execution_count": 183,
   "metadata": {},
   "outputs": [],
   "source": [
    "from sklearn.feature_extraction.text import CountVectorizer\n",
    "test = init_vector(df_pre) #word_occ, words, word_freq\n",
    "matrix = test[0]\n",
    "np.shape(matrix)\n",
    "\n",
    "names = test[1]"
   ]
  },
  {
   "cell_type": "code",
   "execution_count": 184,
   "metadata": {},
   "outputs": [],
   "source": [
    "from sklearn import tree\n",
    "\n",
    "clf = tree.DecisionTreeClassifier(criterion = \"entropy\")\n",
    "#clf.feature_names_in_ = names"
   ]
  },
  {
   "cell_type": "code",
   "execution_count": 185,
   "metadata": {},
   "outputs": [],
   "source": [
    "#clf.feature_names_in_"
   ]
  },
  {
   "cell_type": "code",
   "execution_count": 186,
   "metadata": {
    "scrolled": true
   },
   "outputs": [
    {
     "data": {
      "text/plain": [
       "DecisionTreeClassifier(criterion='entropy')"
      ]
     },
     "execution_count": 186,
     "metadata": {},
     "output_type": "execute_result"
    }
   ],
   "source": [
    "clf.fit(matrix, df_pre[\"id\"])"
   ]
  },
  {
   "cell_type": "code",
   "execution_count": 187,
   "metadata": {},
   "outputs": [
    {
     "name": "stdout",
     "output_type": "stream",
     "text": [
      "['Antragsbescheinigung für Familienangehörige von Bürgern der EU (außer Deutschland) und des EWR'\n",
      " 'Vollstreckungsschutzantrag, Spezialfall Räumungsschutzantrag'\n",
      " 'Einkommensteuer - Festsetzung - Antragsveranlagung'\n",
      " 'Scheidungsantrag - Entscheidung'\n",
      " 'Ehefähigkeitszeugnis – Beratung, Antrag,  Ausstellung']\n"
     ]
    }
   ],
   "source": [
    "class_names = df_pre[\"d115Name\"].values[0:20]\n",
    "print(class_names)"
   ]
  },
  {
   "cell_type": "code",
   "execution_count": 188,
   "metadata": {},
   "outputs": [
    {
     "data": {
      "image/png": "[encoded data removed]",
      "text/plain": [
       "<Figure size 864x864 with 1 Axes>"
      ]
     },
     "metadata": {
      "needs_background": "light"
     },
     "output_type": "display_data"
    }
   ],
   "source": [
    "import matplotlib.pyplot as plt\n",
    "\n",
    "plt.figure(figsize=(12,12))  # set plot size (denoted in inches)\n",
    "\n",
    "class_names = df_pre[\"d115Name\"]\n",
    "\n",
    "tree.plot_tree(clf,feature_names = names, class_names = class_names, fontsize=10)\n",
    "plt.show()"
   ]
  },
  {
   "cell_type": "code",
   "execution_count": 189,
   "metadata": {},
   "outputs": [
    {
     "name": "stdout",
     "output_type": "stream",
     "text": [
      "|--- ausstellung <= 0.50\n",
      "|   |--- elster <= 0.50\n",
      "|   |   |--- ehescheidung <= 0.50\n",
      "|   |   |   |--- class: 327098\n",
      "|   |   |--- ehescheidung >  0.50\n",
      "|   |   |   |--- class: 326952\n",
      "|   |--- elster >  0.50\n",
      "|   |   |--- class: 325685\n",
      "|--- ausstellung >  0.50\n",
      "|   |--- ewr <= 0.50\n",
      "|   |   |--- class: 318993\n",
      "|   |--- ewr >  0.50\n",
      "|   |   |--- class: 326235\n",
      "\n"
     ]
    }
   ],
   "source": [
    "from sklearn.tree import export_text\n",
    "\n",
    "text = export_text(clf, feature_names =names)\n",
    "print(text)"
   ]
  },
  {
   "cell_type": "code",
   "execution_count": null,
   "metadata": {},
   "outputs": [],
   "source": [
    "#import graphviz \n",
    "#dot_data = tree.export_graphviz(clf, out_file=None) \n",
    "#graph = graphviz.Source(dot_data) \n",
    "#graph.render(\"iris\") \n",
    "\n",
    "#dot_data = tree.export_graphviz(clf, out_file=None, feature_names=iris.feature_names,  class_names=iris.target_names,  filled=True, rounded=True,  special_characters=True)  \n",
    "#graph = graphviz.Source(dot_data)  \n",
    "#graph "
   ]
  },
  {
   "cell_type": "code",
   "execution_count": 190,
   "metadata": {},
   "outputs": [
    {
     "data": {
      "text/plain": [
       "1"
      ]
     },
     "execution_count": 190,
     "metadata": {},
     "output_type": "execute_result"
    }
   ],
   "source": [
    "np.ndarray.max(matrix)"
   ]
  },
  {
   "cell_type": "code",
   "execution_count": 191,
   "metadata": {},
   "outputs": [
    {
     "data": {
      "text/plain": [
       "'ausstellung'"
      ]
     },
     "execution_count": 191,
     "metadata": {},
     "output_type": "execute_result"
    }
   ],
   "source": [
    "names[clf.tree_.feature[0]]"
   ]
  },
  {
   "cell_type": "code",
   "execution_count": 192,
   "metadata": {},
   "outputs": [],
   "source": [
    "structure = clf.tree_"
   ]
  },
  {
   "cell_type": "code",
   "execution_count": 193,
   "metadata": {},
   "outputs": [
    {
     "name": "stdout",
     "output_type": "stream",
     "text": [
      "ewr\n",
      "elster\n"
     ]
    }
   ],
   "source": [
    "print(names[structure.feature[clf.tree_.children_right[0]]])\n",
    "print(names[structure.feature[clf.tree_.children_left[0]]])"
   ]
  },
  {
   "cell_type": "code",
   "execution_count": 168,
   "metadata": {},
   "outputs": [
    {
     "name": "stdout",
     "output_type": "stream",
     "text": [
      "[[1. 1. 1. 0. 1. 0. 0. 0.]]\n",
      "[[0. 0. 0. 1. 0. 1. 1. 1.]]\n"
     ]
    },
    {
     "data": {
      "text/plain": [
       "0.0"
      ]
     },
     "execution_count": 168,
     "metadata": {},
     "output_type": "execute_result"
    }
   ],
   "source": [
    "print(structure.value[clf.tree_.children_right[0]])\n",
    "print(structure.value[clf.tree_.children_left[0]])\n",
    "structure.value[clf.tree_.children_left[0]][0][0]"
   ]
  },
  {
   "cell_type": "code",
   "execution_count": 136,
   "metadata": {},
   "outputs": [
    {
     "data": {
      "text/plain": [
       "8"
      ]
     },
     "execution_count": 136,
     "metadata": {},
     "output_type": "execute_result"
    }
   ],
   "source": [
    "np.shape(matrix)[0]"
   ]
  },
  {
   "cell_type": "code",
   "execution_count": 140,
   "metadata": {},
   "outputs": [
    {
     "name": "stdout",
     "output_type": "stream",
     "text": [
      "Help on class Tree in module sklearn.tree._tree:\n",
      "\n",
      "class Tree(builtins.object)\n",
      " |  Array-based representation of a binary decision tree.\n",
      " |  \n",
      " |  The binary tree is represented as a number of parallel arrays. The i-th\n",
      " |  element of each array holds information about the node `i`. Node 0 is the\n",
      " |  tree's root. You can find a detailed description of all arrays in\n",
      " |  `_tree.pxd`. NOTE: Some of the arrays only apply to either leaves or split\n",
      " |  nodes, resp. In this case the values of nodes of the other type are\n",
      " |  arbitrary!\n",
      " |  \n",
      " |  Attributes\n",
      " |  ----------\n",
      " |  node_count : int\n",
      " |      The number of nodes (internal nodes + leaves) in the tree.\n",
      " |  \n",
      " |  capacity : int\n",
      " |      The current capacity (i.e., size) of the arrays, which is at least as\n",
      " |      great as `node_count`.\n",
      " |  \n",
      " |  max_depth : int\n",
      " |      The depth of the tree, i.e. the maximum depth of its leaves.\n",
      " |  \n",
      " |  children_left : array of int, shape [node_count]\n",
      " |      children_left[i] holds the node id of the left child of node i.\n",
      " |      For leaves, children_left[i] == TREE_LEAF. Otherwise,\n",
      " |      children_left[i] > i. This child handles the case where\n",
      " |      X[:, feature[i]] <= threshold[i].\n",
      " |  \n",
      " |  children_right : array of int, shape [node_count]\n",
      " |      children_right[i] holds the node id of the right child of node i.\n",
      " |      For leaves, children_right[i] == TREE_LEAF. Otherwise,\n",
      " |      children_right[i] > i. This child handles the case where\n",
      " |      X[:, feature[i]] > threshold[i].\n",
      " |  \n",
      " |  feature : array of int, shape [node_count]\n",
      " |      feature[i] holds the feature to split on, for the internal node i.\n",
      " |  \n",
      " |  threshold : array of double, shape [node_count]\n",
      " |      threshold[i] holds the threshold for the internal node i.\n",
      " |  \n",
      " |  value : array of double, shape [node_count, n_outputs, max_n_classes]\n",
      " |      Contains the constant prediction value of each node.\n",
      " |  \n",
      " |  impurity : array of double, shape [node_count]\n",
      " |      impurity[i] holds the impurity (i.e., the value of the splitting\n",
      " |      criterion) at node i.\n",
      " |  \n",
      " |  n_node_samples : array of int, shape [node_count]\n",
      " |      n_node_samples[i] holds the number of training samples reaching node i.\n",
      " |  \n",
      " |  weighted_n_node_samples : array of int, shape [node_count]\n",
      " |      weighted_n_node_samples[i] holds the weighted number of training samples\n",
      " |      reaching node i.\n",
      " |  \n",
      " |  Methods defined here:\n",
      " |  \n",
      " |  __getstate__(...)\n",
      " |      Getstate re-implementation, for pickling.\n",
      " |  \n",
      " |  __reduce__(...)\n",
      " |      Reduce re-implementation, for pickling.\n",
      " |  \n",
      " |  __setstate__(...)\n",
      " |      Setstate re-implementation, for unpickling.\n",
      " |  \n",
      " |  apply(...)\n",
      " |      Finds the terminal region (=leaf node) for each sample in X.\n",
      " |  \n",
      " |  compute_feature_importances(...)\n",
      " |      Computes the importance of each feature (aka variable).\n",
      " |  \n",
      " |  compute_partial_dependence(...)\n",
      " |      Partial dependence of the response on the ``target_feature`` set.\n",
      " |      \n",
      " |      For each sample in ``X`` a tree traversal is performed.\n",
      " |      Each traversal starts from the root with weight 1.0.\n",
      " |      \n",
      " |      At each non-leaf node that splits on a target feature, either\n",
      " |      the left child or the right child is visited based on the feature\n",
      " |      value of the current sample, and the weight is not modified.\n",
      " |      At each non-leaf node that splits on a complementary feature,\n",
      " |      both children are visited and the weight is multiplied by the fraction\n",
      " |      of training samples which went to each child.\n",
      " |      \n",
      " |      At each leaf, the value of the node is multiplied by the current\n",
      " |      weight (weights sum to 1 for all visited terminal nodes).\n",
      " |      \n",
      " |      Parameters\n",
      " |      ----------\n",
      " |      X : view on 2d ndarray, shape (n_samples, n_target_features)\n",
      " |          The grid points on which the partial dependence should be\n",
      " |          evaluated.\n",
      " |      target_features : view on 1d ndarray, shape (n_target_features)\n",
      " |          The set of target features for which the partial dependence\n",
      " |          should be evaluated.\n",
      " |      out : view on 1d ndarray, shape (n_samples)\n",
      " |          The value of the partial dependence function on each grid\n",
      " |          point.\n",
      " |  \n",
      " |  decision_path(...)\n",
      " |      Finds the decision path (=node) for each sample in X.\n",
      " |  \n",
      " |  predict(...)\n",
      " |      Predict target for X.\n",
      " |  \n",
      " |  ----------------------------------------------------------------------\n",
      " |  Static methods defined here:\n",
      " |  \n",
      " |  __new__(*args, **kwargs) from builtins.type\n",
      " |      Create and return a new object.  See help(type) for accurate signature.\n",
      " |  \n",
      " |  ----------------------------------------------------------------------\n",
      " |  Data descriptors defined here:\n",
      " |  \n",
      " |  capacity\n",
      " |  \n",
      " |  children_left\n",
      " |  \n",
      " |  children_right\n",
      " |  \n",
      " |  feature\n",
      " |  \n",
      " |  impurity\n",
      " |  \n",
      " |  max_depth\n",
      " |  \n",
      " |  max_n_classes\n",
      " |  \n",
      " |  n_classes\n",
      " |  \n",
      " |  n_features\n",
      " |  \n",
      " |  n_leaves\n",
      " |  \n",
      " |  n_node_samples\n",
      " |  \n",
      " |  n_outputs\n",
      " |  \n",
      " |  node_count\n",
      " |  \n",
      " |  threshold\n",
      " |  \n",
      " |  value\n",
      " |  \n",
      " |  weighted_n_node_samples\n",
      " |  \n",
      " |  ----------------------------------------------------------------------\n",
      " |  Data and other attributes defined here:\n",
      " |  \n",
      " |  __pyx_vtable__ = <capsule object NULL>\n",
      "\n"
     ]
    }
   ],
   "source": [
    "#from sklearn.tree._tree import Tree\n",
    "\n",
    "#help(Tree)\n",
    "#help(sklearn.tree._tree.Tree)"
   ]
  },
  {
   "cell_type": "code",
   "execution_count": 161,
   "metadata": {},
   "outputs": [],
   "source": [
    "test = clf.decision_path(matrix)"
   ]
  },
  {
   "cell_type": "code",
   "execution_count": 162,
   "metadata": {},
   "outputs": [
    {
     "data": {
      "text/plain": [
       "<8x15 sparse matrix of type '<class 'numpy.int64'>'\n",
       "\twith 32 stored elements in Compressed Sparse Row format>"
      ]
     },
     "execution_count": 162,
     "metadata": {},
     "output_type": "execute_result"
    }
   ],
   "source": [
    "test"
   ]
  },
  {
   "cell_type": "code",
   "execution_count": 176,
   "metadata": {
    "scrolled": true
   },
   "outputs": [
    {
     "data": {
      "text/html": [
       "<div>\n",
       "<style scoped>\n",
       "    .dataframe tbody tr th:only-of-type {\n",
       "        vertical-align: middle;\n",
       "    }\n",
       "\n",
       "    .dataframe tbody tr th {\n",
       "        vertical-align: top;\n",
       "    }\n",
       "\n",
       "    .dataframe thead th {\n",
       "        text-align: right;\n",
       "    }\n",
       "</style>\n",
       "<table border=\"1\" class=\"dataframe\">\n",
       "  <thead>\n",
       "    <tr style=\"text-align: right;\">\n",
       "      <th></th>\n",
       "      <th>id</th>\n",
       "      <th>d115Url</th>\n",
       "      <th>d115Name</th>\n",
       "      <th>ssdsAll</th>\n",
       "      <th>d115DocumentBoostValue</th>\n",
       "      <th>d115Description</th>\n",
       "      <th>d115Synonym</th>\n",
       "      <th>d115Kennung</th>\n",
       "      <th>d115Verrichtung</th>\n",
       "      <th>d115VerrichtungDetail</th>\n",
       "      <th>...</th>\n",
       "      <th>ssdsVerrichtung</th>\n",
       "      <th>ssdsVerrichtungDict</th>\n",
       "      <th>ssdsSynonym</th>\n",
       "      <th>ssdsSynonymDict</th>\n",
       "      <th>ssdsManualKeywords</th>\n",
       "      <th>_version_</th>\n",
       "      <th>d115ProcessTime</th>\n",
       "      <th>ssdsVerrichtungDetail</th>\n",
       "      <th>ssdsVerrichtungDetailDict</th>\n",
       "      <th>ssdsLemma_processed</th>\n",
       "    </tr>\n",
       "  </thead>\n",
       "  <tbody>\n",
       "    <tr>\n",
       "      <th>3</th>\n",
       "      <td>120697</td>\n",
       "      <td>https://service.berlin.de/dienstleistung/120697/</td>\n",
       "      <td>Änderung/Wechsel der Hauptwohnung</td>\n",
       "      <td>[Änderung/Wechsel der Hauptwohnung, &lt;ul class=...</td>\n",
       "      <td>1.253521</td>\n",
       "      <td>&lt;ul class=\"list\"&gt;&lt;li&gt;Sie wollen Ihre bisherige...</td>\n",
       "      <td>[Anmeldung, Hauptwohnung, Hauptwohnsitz, Neben...</td>\n",
       "      <td>Wohnsitz</td>\n",
       "      <td>ummelden</td>\n",
       "      <td></td>\n",
       "      <td>...</td>\n",
       "      <td>[ummelden, Änderung]</td>\n",
       "      <td>[ummelden, Änderung]</td>\n",
       "      <td>[KFZ Ummeldung, Anmeldung, Hauptwohnung, Haupt...</td>\n",
       "      <td>[KFZ Ummeldung, Anmeldung, Hauptwohnung, Haupt...</td>\n",
       "      <td>[Adresse, Anmeldepflicht, Ummeldung Wohnsitz, ...</td>\n",
       "      <td>1727918339500539904</td>\n",
       "      <td>Änderungen/Wechsel der Hauptwohnung können in ...</td>\n",
       "      <td>NaN</td>\n",
       "      <td>NaN</td>\n",
       "      <td>anmeldung wohnsitz nebenwohnsitz ummelden wech...</td>\n",
       "    </tr>\n",
       "    <tr>\n",
       "      <th>5</th>\n",
       "      <td>324485</td>\n",
       "      <td>https://service.berlin.de/dienstleistung/324485/</td>\n",
       "      <td>Hilfe bei drohender oder bereits eingetretener...</td>\n",
       "      <td>[Hilfe bei drohender oder bereits eingetretene...</td>\n",
       "      <td>1.201195</td>\n",
       "      <td>Sie können Hilfe bekommen,&lt;br /&gt;\\n&lt;br /&gt;\\n&lt;ul ...</td>\n",
       "      <td>[Wohnhilfe, obdachlos, Haft, Haftentlassene, W...</td>\n",
       "      <td>Wohnungssicherung</td>\n",
       "      <td></td>\n",
       "      <td></td>\n",
       "      <td>...</td>\n",
       "      <td>NaN</td>\n",
       "      <td>NaN</td>\n",
       "      <td>[Wohnhilfe, obdachlos, Haft, Niedrigschwellige...</td>\n",
       "      <td>[Wohnhilfe, obdachlos, Haft, Niedrigschwellige...</td>\n",
       "      <td>NaN</td>\n",
       "      <td>1727918340458938368</td>\n",
       "      <td>NaN</td>\n",
       "      <td>NaN</td>\n",
       "      <td>NaN</td>\n",
       "      <td>mietschuldenberatung überwindung wohnungsnotfa...</td>\n",
       "    </tr>\n",
       "    <tr>\n",
       "      <th>6</th>\n",
       "      <td>120335</td>\n",
       "      <td>https://service.berlin.de/dienstleistung/120335/</td>\n",
       "      <td>Abmeldung einer Wohnung</td>\n",
       "      <td>[Abmeldung einer Wohnung, &lt;ul class=\"list\"&gt;&lt;li...</td>\n",
       "      <td>1.324734</td>\n",
       "      <td>&lt;ul class=\"list\"&gt;&lt;li&gt;Sie geben eine Berliner W...</td>\n",
       "      <td>[ummelden, Umzug, Wegzug, Wohnungswechsel, Abm...</td>\n",
       "      <td>Wohnsitz</td>\n",
       "      <td>abmelden</td>\n",
       "      <td></td>\n",
       "      <td>...</td>\n",
       "      <td>[Abmeldung, abmelden]</td>\n",
       "      <td>[Abmeldung, abmelden]</td>\n",
       "      <td>[ummelden, Umzug, Wegzug, Wohnungswechsel, Abm...</td>\n",
       "      <td>[ummelden, Umzug, Wegzug, Wohnungswechsel, Abm...</td>\n",
       "      <td>[Adresse, Anmeldepflicht, Ummeldung Wohnsitz, ...</td>\n",
       "      <td>1727918339426091008</td>\n",
       "      <td>Bei persönlicher Vorsprache in einem Bürgeramt...</td>\n",
       "      <td>NaN</td>\n",
       "      <td>NaN</td>\n",
       "      <td>umzug wohnsitz adressänderung ummelden wegzug ...</td>\n",
       "    </tr>\n",
       "    <tr>\n",
       "      <th>7</th>\n",
       "      <td>306684</td>\n",
       "      <td>https://service.berlin.de/dienstleistung/306684/</td>\n",
       "      <td>Personalausweis, vorläufig, für Berliner Einwo...</td>\n",
       "      <td>[Personalausweis, vorläufig, für Berliner Einw...</td>\n",
       "      <td>1.000000</td>\n",
       "      <td>Wenn Sie&lt;br /&gt;\\n&lt;ul class=\"list\"&gt;&lt;li&gt;sich in B...</td>\n",
       "      <td>[vorläufiger, obdachlose, Wohnungslos, ersatz,...</td>\n",
       "      <td>NaN</td>\n",
       "      <td>NaN</td>\n",
       "      <td>NaN</td>\n",
       "      <td>...</td>\n",
       "      <td>[Ausstellung]</td>\n",
       "      <td>[Ausstellung]</td>\n",
       "      <td>[vorläufiger, obdachlose, Wohnungslos, ersatz,...</td>\n",
       "      <td>[vorläufiger, obdachlose, Wohnungslos, ersatz,...</td>\n",
       "      <td>[perso, perso für Wohnungslose, perso für obda...</td>\n",
       "      <td>1727918340121296896</td>\n",
       "      <td>Sofort, wenn alle Unterlagen vorliegen</td>\n",
       "      <td>[vorläufig für Deutsche mit Wohnsitz außerhalb...</td>\n",
       "      <td>[vorläufig für Deutsche mit Wohnsitz außerhalb...</td>\n",
       "      <td>wohnsitz vorläufig obdachlos wohnungslos besuc...</td>\n",
       "    </tr>\n",
       "  </tbody>\n",
       "</table>\n",
       "<p>4 rows × 47 columns</p>\n",
       "</div>"
      ],
      "text/plain": [
       "       id                                           d115Url  \\\n",
       "3  120697  https://service.berlin.de/dienstleistung/120697/   \n",
       "5  324485  https://service.berlin.de/dienstleistung/324485/   \n",
       "6  120335  https://service.berlin.de/dienstleistung/120335/   \n",
       "7  306684  https://service.berlin.de/dienstleistung/306684/   \n",
       "\n",
       "                                            d115Name  \\\n",
       "3                  Änderung/Wechsel der Hauptwohnung   \n",
       "5  Hilfe bei drohender oder bereits eingetretener...   \n",
       "6                            Abmeldung einer Wohnung   \n",
       "7  Personalausweis, vorläufig, für Berliner Einwo...   \n",
       "\n",
       "                                             ssdsAll  d115DocumentBoostValue  \\\n",
       "3  [Änderung/Wechsel der Hauptwohnung, <ul class=...                1.253521   \n",
       "5  [Hilfe bei drohender oder bereits eingetretene...                1.201195   \n",
       "6  [Abmeldung einer Wohnung, <ul class=\"list\"><li...                1.324734   \n",
       "7  [Personalausweis, vorläufig, für Berliner Einw...                1.000000   \n",
       "\n",
       "                                     d115Description  \\\n",
       "3  <ul class=\"list\"><li>Sie wollen Ihre bisherige...   \n",
       "5  Sie können Hilfe bekommen,<br />\\n<br />\\n<ul ...   \n",
       "6  <ul class=\"list\"><li>Sie geben eine Berliner W...   \n",
       "7  Wenn Sie<br />\\n<ul class=\"list\"><li>sich in B...   \n",
       "\n",
       "                                         d115Synonym        d115Kennung  \\\n",
       "3  [Anmeldung, Hauptwohnung, Hauptwohnsitz, Neben...           Wohnsitz   \n",
       "5  [Wohnhilfe, obdachlos, Haft, Haftentlassene, W...  Wohnungssicherung   \n",
       "6  [ummelden, Umzug, Wegzug, Wohnungswechsel, Abm...           Wohnsitz   \n",
       "7  [vorläufiger, obdachlose, Wohnungslos, ersatz,...                NaN   \n",
       "\n",
       "  d115Verrichtung d115VerrichtungDetail  ...        ssdsVerrichtung  \\\n",
       "3        ummelden                        ...   [ummelden, Änderung]   \n",
       "5                                        ...                    NaN   \n",
       "6        abmelden                        ...  [Abmeldung, abmelden]   \n",
       "7             NaN                   NaN  ...          [Ausstellung]   \n",
       "\n",
       "     ssdsVerrichtungDict                                        ssdsSynonym  \\\n",
       "3   [ummelden, Änderung]  [KFZ Ummeldung, Anmeldung, Hauptwohnung, Haupt...   \n",
       "5                    NaN  [Wohnhilfe, obdachlos, Haft, Niedrigschwellige...   \n",
       "6  [Abmeldung, abmelden]  [ummelden, Umzug, Wegzug, Wohnungswechsel, Abm...   \n",
       "7          [Ausstellung]  [vorläufiger, obdachlose, Wohnungslos, ersatz,...   \n",
       "\n",
       "                                     ssdsSynonymDict  \\\n",
       "3  [KFZ Ummeldung, Anmeldung, Hauptwohnung, Haupt...   \n",
       "5  [Wohnhilfe, obdachlos, Haft, Niedrigschwellige...   \n",
       "6  [ummelden, Umzug, Wegzug, Wohnungswechsel, Abm...   \n",
       "7  [vorläufiger, obdachlose, Wohnungslos, ersatz,...   \n",
       "\n",
       "                                  ssdsManualKeywords            _version_  \\\n",
       "3  [Adresse, Anmeldepflicht, Ummeldung Wohnsitz, ...  1727918339500539904   \n",
       "5                                                NaN  1727918340458938368   \n",
       "6  [Adresse, Anmeldepflicht, Ummeldung Wohnsitz, ...  1727918339426091008   \n",
       "7  [perso, perso für Wohnungslose, perso für obda...  1727918340121296896   \n",
       "\n",
       "                                     d115ProcessTime  \\\n",
       "3  Änderungen/Wechsel der Hauptwohnung können in ...   \n",
       "5                                                NaN   \n",
       "6  Bei persönlicher Vorsprache in einem Bürgeramt...   \n",
       "7             Sofort, wenn alle Unterlagen vorliegen   \n",
       "\n",
       "                               ssdsVerrichtungDetail  \\\n",
       "3                                                NaN   \n",
       "5                                                NaN   \n",
       "6                                                NaN   \n",
       "7  [vorläufig für Deutsche mit Wohnsitz außerhalb...   \n",
       "\n",
       "                           ssdsVerrichtungDetailDict  \\\n",
       "3                                                NaN   \n",
       "5                                                NaN   \n",
       "6                                                NaN   \n",
       "7  [vorläufig für Deutsche mit Wohnsitz außerhalb...   \n",
       "\n",
       "                                 ssdsLemma_processed  \n",
       "3  anmeldung wohnsitz nebenwohnsitz ummelden wech...  \n",
       "5  mietschuldenberatung überwindung wohnungsnotfa...  \n",
       "6  umzug wohnsitz adressänderung ummelden wegzug ...  \n",
       "7  wohnsitz vorläufig obdachlos wohnungslos besuc...  \n",
       "\n",
       "[4 rows x 47 columns]"
      ]
     },
     "execution_count": 176,
     "metadata": {},
     "output_type": "execute_result"
    }
   ],
   "source": [
    "vector = structure.value[clf.tree_.children_left[0]][0]\n",
    "\n",
    "df_pre.iloc[np.where(vector == 1)]\n",
    "\n"
   ]
  },
  {
   "cell_type": "code",
   "execution_count": null,
   "metadata": {},
   "outputs": [],
   "source": []
  }
 ],
 "metadata": {
  "kernelspec": {
   "display_name": "Python [conda env:chatbot]",
   "language": "python",
   "name": "conda-env-chatbot-py"
  },
  "language_info": {
   "codemirror_mode": {
    "name": "ipython",
    "version": 3
   },
   "file_extension": ".py",
   "mimetype": "text/x-python",
   "name": "python",
   "nbconvert_exporter": "python",
   "pygments_lexer": "ipython3",
   "version": "3.8.13"
  }
 },
 "nbformat": 4,
 "nbformat_minor": 4
}
